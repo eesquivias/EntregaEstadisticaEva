{
 "cells": [
  {
   "cell_type": "code",
   "execution_count": 1,
   "metadata": {},
   "outputs": [
    {
     "name": "stderr",
     "output_type": "stream",
     "text": [
      "── \u001b[1mAttaching packages\u001b[22m ─────────────────────────────────────── tidyverse 1.3.0 ──\n",
      "\n",
      "\u001b[32m✔\u001b[39m \u001b[34mtibble \u001b[39m 3.0.1     \u001b[32m✔\u001b[39m \u001b[34mdplyr  \u001b[39m 0.8.4\n",
      "\u001b[32m✔\u001b[39m \u001b[34mtidyr  \u001b[39m 1.0.2     \u001b[32m✔\u001b[39m \u001b[34mstringr\u001b[39m 1.4.0\n",
      "\u001b[32m✔\u001b[39m \u001b[34mreadr  \u001b[39m 1.3.1     \u001b[32m✔\u001b[39m \u001b[34mforcats\u001b[39m 0.5.0\n",
      "\u001b[32m✔\u001b[39m \u001b[34mpurrr  \u001b[39m 0.3.3     \n",
      "\n",
      "── \u001b[1mConflicts\u001b[22m ────────────────────────────────────────── tidyverse_conflicts() ──\n",
      "\u001b[31m✖\u001b[39m \u001b[34mdplyr\u001b[39m::\u001b[32mfilter()\u001b[39m masks \u001b[34mstats\u001b[39m::filter()\n",
      "\u001b[31m✖\u001b[39m \u001b[34mdplyr\u001b[39m::\u001b[32mlag()\u001b[39m    masks \u001b[34mstats\u001b[39m::lag()\n",
      "\n",
      "\n",
      "Attaching package: ‘lubridate’\n",
      "\n",
      "\n",
      "The following object is masked from ‘package:base’:\n",
      "\n",
      "    date\n",
      "\n",
      "\n",
      "\n",
      "Attaching package: ‘gridExtra’\n",
      "\n",
      "\n",
      "The following object is masked from ‘package:dplyr’:\n",
      "\n",
      "    combine\n",
      "\n",
      "\n"
     ]
    }
   ],
   "source": [
    "library(ggplot2)\n",
    "library(tidyverse)\n",
    "library(lubridate)\n",
    "library(grid)\n",
    "library(gridExtra)\n",
    "options(repr.plot.height=6,repr.plot.width=8 , repr.plot.res = 200)"
   ]
  },
  {
   "cell_type": "markdown",
   "metadata": {},
   "source": [
    "Cargar los datos en un dataframe llamado: airbnb"
   ]
  },
  {
   "cell_type": "code",
   "execution_count": 2,
   "metadata": {},
   "outputs": [],
   "source": [
    "airbnb<-read.csv('data//airbnb.csv',sep = ',')"
   ]
  },
  {
   "cell_type": "markdown",
   "metadata": {},
   "source": [
    "Mostrar las primeras 6 filas del dataframe"
   ]
  },
  {
   "cell_type": "code",
   "execution_count": 3,
   "metadata": {
    "scrolled": true
   },
   "outputs": [
    {
     "data": {
      "text/html": [
       "<table>\n",
       "<caption>A data.frame: 6 × 13</caption>\n",
       "<thead>\n",
       "\t<tr><th></th><th scope=col>Zipcode</th><th scope=col>Neighbourhood.Cleansed</th><th scope=col>Property.Type</th><th scope=col>Room.Type</th><th scope=col>Accommodates</th><th scope=col>Bathrooms</th><th scope=col>Bedrooms</th><th scope=col>Beds</th><th scope=col>Bed.Type</th><th scope=col>Amenities</th><th scope=col>Square.Feet</th><th scope=col>Price</th><th scope=col>Review.Scores.Rating</th></tr>\n",
       "\t<tr><th></th><th scope=col>&lt;fct&gt;</th><th scope=col>&lt;fct&gt;</th><th scope=col>&lt;fct&gt;</th><th scope=col>&lt;fct&gt;</th><th scope=col>&lt;int&gt;</th><th scope=col>&lt;dbl&gt;</th><th scope=col>&lt;int&gt;</th><th scope=col>&lt;int&gt;</th><th scope=col>&lt;fct&gt;</th><th scope=col>&lt;fct&gt;</th><th scope=col>&lt;int&gt;</th><th scope=col>&lt;int&gt;</th><th scope=col>&lt;int&gt;</th></tr>\n",
       "</thead>\n",
       "<tbody>\n",
       "\t<tr><th scope=row>1</th><td>28004</td><td>Universidad</td><td>Apartment</td><td>Private room   </td><td>2</td><td>2</td><td>1</td><td>1</td><td>Real Bed</td><td>TV,Wireless Internet,Kitchen,Pets allowed,Pets live on this property,Buzzer/wireless intercom,Heating,Suitable for events,Washer,First aid kit,Essentials,Lock on bedroom door,Iron                                                                                                                                                                             </td><td> NA</td><td>35</td><td> NA</td></tr>\n",
       "\t<tr><th scope=row>2</th><td>28004</td><td>Universidad</td><td>Apartment</td><td>Entire home/apt</td><td>6</td><td>1</td><td>3</td><td>5</td><td>Real Bed</td><td>TV,Internet,Wireless Internet,Air conditioning,Kitchen,Indoor fireplace,Heating,Family/kid friendly,Washer,Dryer,Smoke detector,Carbon monoxide detector,Essentials,Shampoo                                                                                                                                                                                     </td><td> NA</td><td>92</td><td> 96</td></tr>\n",
       "\t<tr><th scope=row>3</th><td>28004</td><td>Universidad</td><td>Apartment</td><td>Entire home/apt</td><td>3</td><td>1</td><td>2</td><td>2</td><td>Real Bed</td><td>TV,Internet,Wireless Internet,Air conditioning,Kitchen,Doorman,Heating,Family/kid friendly,Washer,Essentials,Shampoo,Hangers,Hair dryer,Iron,Laptop friendly workspace                                                                                                                                                                                          </td><td> NA</td><td>55</td><td> 91</td></tr>\n",
       "\t<tr><th scope=row>4</th><td>28004</td><td>Universidad</td><td>Loft     </td><td>Entire home/apt</td><td>3</td><td>2</td><td>1</td><td>1</td><td>Real Bed</td><td>TV,Internet,Wireless Internet,Air conditioning,Kitchen,Pets allowed,Breakfast,Elevator in building,Indoor fireplace,Buzzer/wireless intercom,Heating,Washer,Essentials,Shampoo,Hangers,Hair dryer,Iron,Laptop friendly workspace,translation missing: en.hosting_amenity_49,translation missing: en.hosting_amenity_50                                          </td><td> NA</td><td>60</td><td>100</td></tr>\n",
       "\t<tr><th scope=row>5</th><td>28015</td><td>Universidad</td><td>Apartment</td><td>Entire home/apt</td><td>5</td><td>1</td><td>1</td><td>1</td><td>Real Bed</td><td>TV,Wireless Internet,Air conditioning,Kitchen,Smoking allowed,Pets allowed,Elevator in building,Heating,Family/kid friendly,Washer,Essentials,Iron                                                                                                                                                                                                              </td><td>538</td><td>75</td><td> 90</td></tr>\n",
       "\t<tr><th scope=row>6</th><td>28004</td><td>Universidad</td><td>Apartment</td><td>Entire home/apt</td><td>2</td><td>1</td><td>0</td><td>1</td><td>Real Bed</td><td>TV,Cable TV,Internet,Wireless Internet,Air conditioning,Wheelchair accessible,Kitchen,Doorman,Elevator in building,Buzzer/wireless intercom,Heating,Washer,Smoke detector,Carbon monoxide detector,First aid kit,Safety card,Fire extinguisher,Essentials,Shampoo,24-hour check-in,Hangers,Hair dryer,Iron,Laptop friendly workspace,Self Check-In,Doorman Entry</td><td> NA</td><td>55</td><td> 95</td></tr>\n",
       "</tbody>\n",
       "</table>\n"
      ],
      "text/latex": [
       "A data.frame: 6 × 13\n",
       "\\begin{tabular}{r|lllllllllllll}\n",
       "  & Zipcode & Neighbourhood.Cleansed & Property.Type & Room.Type & Accommodates & Bathrooms & Bedrooms & Beds & Bed.Type & Amenities & Square.Feet & Price & Review.Scores.Rating\\\\\n",
       "  & <fct> & <fct> & <fct> & <fct> & <int> & <dbl> & <int> & <int> & <fct> & <fct> & <int> & <int> & <int>\\\\\n",
       "\\hline\n",
       "\t1 & 28004 & Universidad & Apartment & Private room    & 2 & 2 & 1 & 1 & Real Bed & TV,Wireless Internet,Kitchen,Pets allowed,Pets live on this property,Buzzer/wireless intercom,Heating,Suitable for events,Washer,First aid kit,Essentials,Lock on bedroom door,Iron                                                                                                                                                                              &  NA & 35 &  NA\\\\\n",
       "\t2 & 28004 & Universidad & Apartment & Entire home/apt & 6 & 1 & 3 & 5 & Real Bed & TV,Internet,Wireless Internet,Air conditioning,Kitchen,Indoor fireplace,Heating,Family/kid friendly,Washer,Dryer,Smoke detector,Carbon monoxide detector,Essentials,Shampoo                                                                                                                                                                                      &  NA & 92 &  96\\\\\n",
       "\t3 & 28004 & Universidad & Apartment & Entire home/apt & 3 & 1 & 2 & 2 & Real Bed & TV,Internet,Wireless Internet,Air conditioning,Kitchen,Doorman,Heating,Family/kid friendly,Washer,Essentials,Shampoo,Hangers,Hair dryer,Iron,Laptop friendly workspace                                                                                                                                                                                           &  NA & 55 &  91\\\\\n",
       "\t4 & 28004 & Universidad & Loft      & Entire home/apt & 3 & 2 & 1 & 1 & Real Bed & TV,Internet,Wireless Internet,Air conditioning,Kitchen,Pets allowed,Breakfast,Elevator in building,Indoor fireplace,Buzzer/wireless intercom,Heating,Washer,Essentials,Shampoo,Hangers,Hair dryer,Iron,Laptop friendly workspace,translation missing: en.hosting\\_amenity\\_49,translation missing: en.hosting\\_amenity\\_50                                           &  NA & 60 & 100\\\\\n",
       "\t5 & 28015 & Universidad & Apartment & Entire home/apt & 5 & 1 & 1 & 1 & Real Bed & TV,Wireless Internet,Air conditioning,Kitchen,Smoking allowed,Pets allowed,Elevator in building,Heating,Family/kid friendly,Washer,Essentials,Iron                                                                                                                                                                                                               & 538 & 75 &  90\\\\\n",
       "\t6 & 28004 & Universidad & Apartment & Entire home/apt & 2 & 1 & 0 & 1 & Real Bed & TV,Cable TV,Internet,Wireless Internet,Air conditioning,Wheelchair accessible,Kitchen,Doorman,Elevator in building,Buzzer/wireless intercom,Heating,Washer,Smoke detector,Carbon monoxide detector,First aid kit,Safety card,Fire extinguisher,Essentials,Shampoo,24-hour check-in,Hangers,Hair dryer,Iron,Laptop friendly workspace,Self Check-In,Doorman Entry &  NA & 55 &  95\\\\\n",
       "\\end{tabular}\n"
      ],
      "text/markdown": [
       "\n",
       "A data.frame: 6 × 13\n",
       "\n",
       "| <!--/--> | Zipcode &lt;fct&gt; | Neighbourhood.Cleansed &lt;fct&gt; | Property.Type &lt;fct&gt; | Room.Type &lt;fct&gt; | Accommodates &lt;int&gt; | Bathrooms &lt;dbl&gt; | Bedrooms &lt;int&gt; | Beds &lt;int&gt; | Bed.Type &lt;fct&gt; | Amenities &lt;fct&gt; | Square.Feet &lt;int&gt; | Price &lt;int&gt; | Review.Scores.Rating &lt;int&gt; |\n",
       "|---|---|---|---|---|---|---|---|---|---|---|---|---|---|\n",
       "| 1 | 28004 | Universidad | Apartment | Private room    | 2 | 2 | 1 | 1 | Real Bed | TV,Wireless Internet,Kitchen,Pets allowed,Pets live on this property,Buzzer/wireless intercom,Heating,Suitable for events,Washer,First aid kit,Essentials,Lock on bedroom door,Iron                                                                                                                                                                              |  NA | 35 |  NA |\n",
       "| 2 | 28004 | Universidad | Apartment | Entire home/apt | 6 | 1 | 3 | 5 | Real Bed | TV,Internet,Wireless Internet,Air conditioning,Kitchen,Indoor fireplace,Heating,Family/kid friendly,Washer,Dryer,Smoke detector,Carbon monoxide detector,Essentials,Shampoo                                                                                                                                                                                      |  NA | 92 |  96 |\n",
       "| 3 | 28004 | Universidad | Apartment | Entire home/apt | 3 | 1 | 2 | 2 | Real Bed | TV,Internet,Wireless Internet,Air conditioning,Kitchen,Doorman,Heating,Family/kid friendly,Washer,Essentials,Shampoo,Hangers,Hair dryer,Iron,Laptop friendly workspace                                                                                                                                                                                           |  NA | 55 |  91 |\n",
       "| 4 | 28004 | Universidad | Loft      | Entire home/apt | 3 | 2 | 1 | 1 | Real Bed | TV,Internet,Wireless Internet,Air conditioning,Kitchen,Pets allowed,Breakfast,Elevator in building,Indoor fireplace,Buzzer/wireless intercom,Heating,Washer,Essentials,Shampoo,Hangers,Hair dryer,Iron,Laptop friendly workspace,translation missing: en.hosting_amenity_49,translation missing: en.hosting_amenity_50                                           |  NA | 60 | 100 |\n",
       "| 5 | 28015 | Universidad | Apartment | Entire home/apt | 5 | 1 | 1 | 1 | Real Bed | TV,Wireless Internet,Air conditioning,Kitchen,Smoking allowed,Pets allowed,Elevator in building,Heating,Family/kid friendly,Washer,Essentials,Iron                                                                                                                                                                                                               | 538 | 75 |  90 |\n",
       "| 6 | 28004 | Universidad | Apartment | Entire home/apt | 2 | 1 | 0 | 1 | Real Bed | TV,Cable TV,Internet,Wireless Internet,Air conditioning,Wheelchair accessible,Kitchen,Doorman,Elevator in building,Buzzer/wireless intercom,Heating,Washer,Smoke detector,Carbon monoxide detector,First aid kit,Safety card,Fire extinguisher,Essentials,Shampoo,24-hour check-in,Hangers,Hair dryer,Iron,Laptop friendly workspace,Self Check-In,Doorman Entry |  NA | 55 |  95 |\n",
       "\n"
      ],
      "text/plain": [
       "  Zipcode Neighbourhood.Cleansed Property.Type Room.Type       Accommodates\n",
       "1 28004   Universidad            Apartment     Private room    2           \n",
       "2 28004   Universidad            Apartment     Entire home/apt 6           \n",
       "3 28004   Universidad            Apartment     Entire home/apt 3           \n",
       "4 28004   Universidad            Loft          Entire home/apt 3           \n",
       "5 28015   Universidad            Apartment     Entire home/apt 5           \n",
       "6 28004   Universidad            Apartment     Entire home/apt 2           \n",
       "  Bathrooms Bedrooms Beds Bed.Type\n",
       "1 2         1        1    Real Bed\n",
       "2 1         3        5    Real Bed\n",
       "3 1         2        2    Real Bed\n",
       "4 2         1        1    Real Bed\n",
       "5 1         1        1    Real Bed\n",
       "6 1         0        1    Real Bed\n",
       "  Amenities                                                                                                                                                                                                                                                                                                                                                       \n",
       "1 TV,Wireless Internet,Kitchen,Pets allowed,Pets live on this property,Buzzer/wireless intercom,Heating,Suitable for events,Washer,First aid kit,Essentials,Lock on bedroom door,Iron                                                                                                                                                                             \n",
       "2 TV,Internet,Wireless Internet,Air conditioning,Kitchen,Indoor fireplace,Heating,Family/kid friendly,Washer,Dryer,Smoke detector,Carbon monoxide detector,Essentials,Shampoo                                                                                                                                                                                     \n",
       "3 TV,Internet,Wireless Internet,Air conditioning,Kitchen,Doorman,Heating,Family/kid friendly,Washer,Essentials,Shampoo,Hangers,Hair dryer,Iron,Laptop friendly workspace                                                                                                                                                                                          \n",
       "4 TV,Internet,Wireless Internet,Air conditioning,Kitchen,Pets allowed,Breakfast,Elevator in building,Indoor fireplace,Buzzer/wireless intercom,Heating,Washer,Essentials,Shampoo,Hangers,Hair dryer,Iron,Laptop friendly workspace,translation missing: en.hosting_amenity_49,translation missing: en.hosting_amenity_50                                          \n",
       "5 TV,Wireless Internet,Air conditioning,Kitchen,Smoking allowed,Pets allowed,Elevator in building,Heating,Family/kid friendly,Washer,Essentials,Iron                                                                                                                                                                                                              \n",
       "6 TV,Cable TV,Internet,Wireless Internet,Air conditioning,Wheelchair accessible,Kitchen,Doorman,Elevator in building,Buzzer/wireless intercom,Heating,Washer,Smoke detector,Carbon monoxide detector,First aid kit,Safety card,Fire extinguisher,Essentials,Shampoo,24-hour check-in,Hangers,Hair dryer,Iron,Laptop friendly workspace,Self Check-In,Doorman Entry\n",
       "  Square.Feet Price Review.Scores.Rating\n",
       "1  NA         35     NA                 \n",
       "2  NA         92     96                 \n",
       "3  NA         55     91                 \n",
       "4  NA         60    100                 \n",
       "5 538         75     90                 \n",
       "6  NA         55     95                 "
      ]
     },
     "metadata": {},
     "output_type": "display_data"
    }
   ],
   "source": [
    "head(airbnb)"
   ]
  },
  {
   "cell_type": "markdown",
   "metadata": {},
   "source": [
    "Renombrar las columnas de la siguiente forma:\n",
    "\n",
    "| Nombre original | Nuevo nombre |\n",
    "| - | - |\n",
    "| Zipcode | CodigoPostal |\n",
    "| Neighbourhood.Cleansed | Barrio |\n",
    "| Property.Type\t| TipoPropiedad |\n",
    "| Room.Type | TipoAlquiler |\n",
    "| Accommodates | MaxOcupantes |\n",
    "| Bathrooms\t| NumBanyos |\n",
    "| Bedrooms\t| NumDormitorios |\n",
    "| Beds\t|  NumCamas |\n",
    "| Bed.Type\t| TipoCama |\n",
    "| Amenities | Comodidades |\n",
    "| Square.Feet | PiesCuadrados |\n",
    "| Price\t| Precio |\n",
    "| Review.Scores.Rating | Puntuacion |"
   ]
  },
  {
   "cell_type": "code",
   "execution_count": 4,
   "metadata": {},
   "outputs": [
    {
     "data": {
      "text/html": [
       "<table>\n",
       "<caption>A data.frame: 6 × 13</caption>\n",
       "<thead>\n",
       "\t<tr><th></th><th scope=col>CodigoPostal</th><th scope=col>Barrio</th><th scope=col>TipoPropiedad</th><th scope=col>TipoAlquiler</th><th scope=col>MaxOcupantes</th><th scope=col>NumBanyos</th><th scope=col>NumDormitorios</th><th scope=col>NumCamas</th><th scope=col>TipoCama</th><th scope=col>Comodidades</th><th scope=col>PiesCuadrados</th><th scope=col>Precio</th><th scope=col>Puntuacion</th></tr>\n",
       "\t<tr><th></th><th scope=col>&lt;fct&gt;</th><th scope=col>&lt;fct&gt;</th><th scope=col>&lt;fct&gt;</th><th scope=col>&lt;fct&gt;</th><th scope=col>&lt;int&gt;</th><th scope=col>&lt;dbl&gt;</th><th scope=col>&lt;int&gt;</th><th scope=col>&lt;int&gt;</th><th scope=col>&lt;fct&gt;</th><th scope=col>&lt;fct&gt;</th><th scope=col>&lt;int&gt;</th><th scope=col>&lt;int&gt;</th><th scope=col>&lt;int&gt;</th></tr>\n",
       "</thead>\n",
       "<tbody>\n",
       "\t<tr><th scope=row>1</th><td>28004</td><td>Universidad</td><td>Apartment</td><td>Private room   </td><td>2</td><td>2</td><td>1</td><td>1</td><td>Real Bed</td><td>TV,Wireless Internet,Kitchen,Pets allowed,Pets live on this property,Buzzer/wireless intercom,Heating,Suitable for events,Washer,First aid kit,Essentials,Lock on bedroom door,Iron                                                                                                                                                                             </td><td> NA</td><td>35</td><td> NA</td></tr>\n",
       "\t<tr><th scope=row>2</th><td>28004</td><td>Universidad</td><td>Apartment</td><td>Entire home/apt</td><td>6</td><td>1</td><td>3</td><td>5</td><td>Real Bed</td><td>TV,Internet,Wireless Internet,Air conditioning,Kitchen,Indoor fireplace,Heating,Family/kid friendly,Washer,Dryer,Smoke detector,Carbon monoxide detector,Essentials,Shampoo                                                                                                                                                                                     </td><td> NA</td><td>92</td><td> 96</td></tr>\n",
       "\t<tr><th scope=row>3</th><td>28004</td><td>Universidad</td><td>Apartment</td><td>Entire home/apt</td><td>3</td><td>1</td><td>2</td><td>2</td><td>Real Bed</td><td>TV,Internet,Wireless Internet,Air conditioning,Kitchen,Doorman,Heating,Family/kid friendly,Washer,Essentials,Shampoo,Hangers,Hair dryer,Iron,Laptop friendly workspace                                                                                                                                                                                          </td><td> NA</td><td>55</td><td> 91</td></tr>\n",
       "\t<tr><th scope=row>4</th><td>28004</td><td>Universidad</td><td>Loft     </td><td>Entire home/apt</td><td>3</td><td>2</td><td>1</td><td>1</td><td>Real Bed</td><td>TV,Internet,Wireless Internet,Air conditioning,Kitchen,Pets allowed,Breakfast,Elevator in building,Indoor fireplace,Buzzer/wireless intercom,Heating,Washer,Essentials,Shampoo,Hangers,Hair dryer,Iron,Laptop friendly workspace,translation missing: en.hosting_amenity_49,translation missing: en.hosting_amenity_50                                          </td><td> NA</td><td>60</td><td>100</td></tr>\n",
       "\t<tr><th scope=row>5</th><td>28015</td><td>Universidad</td><td>Apartment</td><td>Entire home/apt</td><td>5</td><td>1</td><td>1</td><td>1</td><td>Real Bed</td><td>TV,Wireless Internet,Air conditioning,Kitchen,Smoking allowed,Pets allowed,Elevator in building,Heating,Family/kid friendly,Washer,Essentials,Iron                                                                                                                                                                                                              </td><td>538</td><td>75</td><td> 90</td></tr>\n",
       "\t<tr><th scope=row>6</th><td>28004</td><td>Universidad</td><td>Apartment</td><td>Entire home/apt</td><td>2</td><td>1</td><td>0</td><td>1</td><td>Real Bed</td><td>TV,Cable TV,Internet,Wireless Internet,Air conditioning,Wheelchair accessible,Kitchen,Doorman,Elevator in building,Buzzer/wireless intercom,Heating,Washer,Smoke detector,Carbon monoxide detector,First aid kit,Safety card,Fire extinguisher,Essentials,Shampoo,24-hour check-in,Hangers,Hair dryer,Iron,Laptop friendly workspace,Self Check-In,Doorman Entry</td><td> NA</td><td>55</td><td> 95</td></tr>\n",
       "</tbody>\n",
       "</table>\n"
      ],
      "text/latex": [
       "A data.frame: 6 × 13\n",
       "\\begin{tabular}{r|lllllllllllll}\n",
       "  & CodigoPostal & Barrio & TipoPropiedad & TipoAlquiler & MaxOcupantes & NumBanyos & NumDormitorios & NumCamas & TipoCama & Comodidades & PiesCuadrados & Precio & Puntuacion\\\\\n",
       "  & <fct> & <fct> & <fct> & <fct> & <int> & <dbl> & <int> & <int> & <fct> & <fct> & <int> & <int> & <int>\\\\\n",
       "\\hline\n",
       "\t1 & 28004 & Universidad & Apartment & Private room    & 2 & 2 & 1 & 1 & Real Bed & TV,Wireless Internet,Kitchen,Pets allowed,Pets live on this property,Buzzer/wireless intercom,Heating,Suitable for events,Washer,First aid kit,Essentials,Lock on bedroom door,Iron                                                                                                                                                                              &  NA & 35 &  NA\\\\\n",
       "\t2 & 28004 & Universidad & Apartment & Entire home/apt & 6 & 1 & 3 & 5 & Real Bed & TV,Internet,Wireless Internet,Air conditioning,Kitchen,Indoor fireplace,Heating,Family/kid friendly,Washer,Dryer,Smoke detector,Carbon monoxide detector,Essentials,Shampoo                                                                                                                                                                                      &  NA & 92 &  96\\\\\n",
       "\t3 & 28004 & Universidad & Apartment & Entire home/apt & 3 & 1 & 2 & 2 & Real Bed & TV,Internet,Wireless Internet,Air conditioning,Kitchen,Doorman,Heating,Family/kid friendly,Washer,Essentials,Shampoo,Hangers,Hair dryer,Iron,Laptop friendly workspace                                                                                                                                                                                           &  NA & 55 &  91\\\\\n",
       "\t4 & 28004 & Universidad & Loft      & Entire home/apt & 3 & 2 & 1 & 1 & Real Bed & TV,Internet,Wireless Internet,Air conditioning,Kitchen,Pets allowed,Breakfast,Elevator in building,Indoor fireplace,Buzzer/wireless intercom,Heating,Washer,Essentials,Shampoo,Hangers,Hair dryer,Iron,Laptop friendly workspace,translation missing: en.hosting\\_amenity\\_49,translation missing: en.hosting\\_amenity\\_50                                           &  NA & 60 & 100\\\\\n",
       "\t5 & 28015 & Universidad & Apartment & Entire home/apt & 5 & 1 & 1 & 1 & Real Bed & TV,Wireless Internet,Air conditioning,Kitchen,Smoking allowed,Pets allowed,Elevator in building,Heating,Family/kid friendly,Washer,Essentials,Iron                                                                                                                                                                                                               & 538 & 75 &  90\\\\\n",
       "\t6 & 28004 & Universidad & Apartment & Entire home/apt & 2 & 1 & 0 & 1 & Real Bed & TV,Cable TV,Internet,Wireless Internet,Air conditioning,Wheelchair accessible,Kitchen,Doorman,Elevator in building,Buzzer/wireless intercom,Heating,Washer,Smoke detector,Carbon monoxide detector,First aid kit,Safety card,Fire extinguisher,Essentials,Shampoo,24-hour check-in,Hangers,Hair dryer,Iron,Laptop friendly workspace,Self Check-In,Doorman Entry &  NA & 55 &  95\\\\\n",
       "\\end{tabular}\n"
      ],
      "text/markdown": [
       "\n",
       "A data.frame: 6 × 13\n",
       "\n",
       "| <!--/--> | CodigoPostal &lt;fct&gt; | Barrio &lt;fct&gt; | TipoPropiedad &lt;fct&gt; | TipoAlquiler &lt;fct&gt; | MaxOcupantes &lt;int&gt; | NumBanyos &lt;dbl&gt; | NumDormitorios &lt;int&gt; | NumCamas &lt;int&gt; | TipoCama &lt;fct&gt; | Comodidades &lt;fct&gt; | PiesCuadrados &lt;int&gt; | Precio &lt;int&gt; | Puntuacion &lt;int&gt; |\n",
       "|---|---|---|---|---|---|---|---|---|---|---|---|---|---|\n",
       "| 1 | 28004 | Universidad | Apartment | Private room    | 2 | 2 | 1 | 1 | Real Bed | TV,Wireless Internet,Kitchen,Pets allowed,Pets live on this property,Buzzer/wireless intercom,Heating,Suitable for events,Washer,First aid kit,Essentials,Lock on bedroom door,Iron                                                                                                                                                                              |  NA | 35 |  NA |\n",
       "| 2 | 28004 | Universidad | Apartment | Entire home/apt | 6 | 1 | 3 | 5 | Real Bed | TV,Internet,Wireless Internet,Air conditioning,Kitchen,Indoor fireplace,Heating,Family/kid friendly,Washer,Dryer,Smoke detector,Carbon monoxide detector,Essentials,Shampoo                                                                                                                                                                                      |  NA | 92 |  96 |\n",
       "| 3 | 28004 | Universidad | Apartment | Entire home/apt | 3 | 1 | 2 | 2 | Real Bed | TV,Internet,Wireless Internet,Air conditioning,Kitchen,Doorman,Heating,Family/kid friendly,Washer,Essentials,Shampoo,Hangers,Hair dryer,Iron,Laptop friendly workspace                                                                                                                                                                                           |  NA | 55 |  91 |\n",
       "| 4 | 28004 | Universidad | Loft      | Entire home/apt | 3 | 2 | 1 | 1 | Real Bed | TV,Internet,Wireless Internet,Air conditioning,Kitchen,Pets allowed,Breakfast,Elevator in building,Indoor fireplace,Buzzer/wireless intercom,Heating,Washer,Essentials,Shampoo,Hangers,Hair dryer,Iron,Laptop friendly workspace,translation missing: en.hosting_amenity_49,translation missing: en.hosting_amenity_50                                           |  NA | 60 | 100 |\n",
       "| 5 | 28015 | Universidad | Apartment | Entire home/apt | 5 | 1 | 1 | 1 | Real Bed | TV,Wireless Internet,Air conditioning,Kitchen,Smoking allowed,Pets allowed,Elevator in building,Heating,Family/kid friendly,Washer,Essentials,Iron                                                                                                                                                                                                               | 538 | 75 |  90 |\n",
       "| 6 | 28004 | Universidad | Apartment | Entire home/apt | 2 | 1 | 0 | 1 | Real Bed | TV,Cable TV,Internet,Wireless Internet,Air conditioning,Wheelchair accessible,Kitchen,Doorman,Elevator in building,Buzzer/wireless intercom,Heating,Washer,Smoke detector,Carbon monoxide detector,First aid kit,Safety card,Fire extinguisher,Essentials,Shampoo,24-hour check-in,Hangers,Hair dryer,Iron,Laptop friendly workspace,Self Check-In,Doorman Entry |  NA | 55 |  95 |\n",
       "\n"
      ],
      "text/plain": [
       "  CodigoPostal Barrio      TipoPropiedad TipoAlquiler    MaxOcupantes NumBanyos\n",
       "1 28004        Universidad Apartment     Private room    2            2        \n",
       "2 28004        Universidad Apartment     Entire home/apt 6            1        \n",
       "3 28004        Universidad Apartment     Entire home/apt 3            1        \n",
       "4 28004        Universidad Loft          Entire home/apt 3            2        \n",
       "5 28015        Universidad Apartment     Entire home/apt 5            1        \n",
       "6 28004        Universidad Apartment     Entire home/apt 2            1        \n",
       "  NumDormitorios NumCamas TipoCama\n",
       "1 1              1        Real Bed\n",
       "2 3              5        Real Bed\n",
       "3 2              2        Real Bed\n",
       "4 1              1        Real Bed\n",
       "5 1              1        Real Bed\n",
       "6 0              1        Real Bed\n",
       "  Comodidades                                                                                                                                                                                                                                                                                                                                                     \n",
       "1 TV,Wireless Internet,Kitchen,Pets allowed,Pets live on this property,Buzzer/wireless intercom,Heating,Suitable for events,Washer,First aid kit,Essentials,Lock on bedroom door,Iron                                                                                                                                                                             \n",
       "2 TV,Internet,Wireless Internet,Air conditioning,Kitchen,Indoor fireplace,Heating,Family/kid friendly,Washer,Dryer,Smoke detector,Carbon monoxide detector,Essentials,Shampoo                                                                                                                                                                                     \n",
       "3 TV,Internet,Wireless Internet,Air conditioning,Kitchen,Doorman,Heating,Family/kid friendly,Washer,Essentials,Shampoo,Hangers,Hair dryer,Iron,Laptop friendly workspace                                                                                                                                                                                          \n",
       "4 TV,Internet,Wireless Internet,Air conditioning,Kitchen,Pets allowed,Breakfast,Elevator in building,Indoor fireplace,Buzzer/wireless intercom,Heating,Washer,Essentials,Shampoo,Hangers,Hair dryer,Iron,Laptop friendly workspace,translation missing: en.hosting_amenity_49,translation missing: en.hosting_amenity_50                                          \n",
       "5 TV,Wireless Internet,Air conditioning,Kitchen,Smoking allowed,Pets allowed,Elevator in building,Heating,Family/kid friendly,Washer,Essentials,Iron                                                                                                                                                                                                              \n",
       "6 TV,Cable TV,Internet,Wireless Internet,Air conditioning,Wheelchair accessible,Kitchen,Doorman,Elevator in building,Buzzer/wireless intercom,Heating,Washer,Smoke detector,Carbon monoxide detector,First aid kit,Safety card,Fire extinguisher,Essentials,Shampoo,24-hour check-in,Hangers,Hair dryer,Iron,Laptop friendly workspace,Self Check-In,Doorman Entry\n",
       "  PiesCuadrados Precio Puntuacion\n",
       "1  NA           35      NA       \n",
       "2  NA           92      96       \n",
       "3  NA           55      91       \n",
       "4  NA           60     100       \n",
       "5 538           75      90       \n",
       "6  NA           55      95       "
      ]
     },
     "metadata": {},
     "output_type": "display_data"
    }
   ],
   "source": [
    "#?colnames\n",
    "colnames(airbnb)<-c(\"CodigoPostal\",\"Barrio\",\"TipoPropiedad\",\"TipoAlquiler\",\"MaxOcupantes\",\"NumBanyos\",\n",
    "\"NumDormitorios\",\"NumCamas\",\"TipoCama\",\"Comodidades\",\"PiesCuadrados\",\"Precio\",\"Puntuacion\")\n",
    "head(airbnb)"
   ]
  },
  {
   "cell_type": "markdown",
   "metadata": {},
   "source": [
    "Crea una nueva columna llamada MetrosCuadrados a partir de la columna PiesCuadrados.\n",
    "\n",
    "Ayuda: 1 pie cuadrado son 0,092903 metros cuadrados\n"
   ]
  },
  {
   "cell_type": "code",
   "execution_count": 5,
   "metadata": {},
   "outputs": [
    {
     "name": "stdout",
     "output_type": "stream",
     "text": [
      "'data.frame':\t13207 obs. of  14 variables:\n",
      " $ CodigoPostal   : Factor w/ 77 levels \"\",\"-\",\"20013\",..: 15 15 15 15 26 15 15 15 26 15 ...\n",
      " $ Barrio         : Factor w/ 125 levels \"Abrantes\",\"Acacias\",..: 115 115 115 115 115 115 115 115 115 115 ...\n",
      " $ TipoPropiedad  : Factor w/ 22 levels \"Apartment\",\"Bed & Breakfast\",..: 1 1 1 16 1 1 15 1 1 1 ...\n",
      " $ TipoAlquiler   : Factor w/ 3 levels \"Entire home/apt\",..: 2 1 1 1 1 1 2 1 1 1 ...\n",
      " $ MaxOcupantes   : int  2 6 3 3 5 2 7 3 2 4 ...\n",
      " $ NumBanyos      : num  2 1 1 2 1 1 5 1 1 2 ...\n",
      " $ NumDormitorios : int  1 3 2 1 1 0 1 1 1 2 ...\n",
      " $ NumCamas       : int  1 5 2 1 1 1 7 NA 1 2 ...\n",
      " $ TipoCama       : Factor w/ 5 levels \"Airbed\",\"Couch\",..: 5 5 5 5 5 5 5 5 5 5 ...\n",
      " $ Comodidades    : Factor w/ 11073 levels \"\",\"Air conditioning,Breakfast,Washer,Essentials,Hair dryer\",..: 9444 4020 3249 4039 8369 2047 961 7436 5618 7736 ...\n",
      " $ PiesCuadrados  : int  NA NA NA NA 538 NA NA NA 700 NA ...\n",
      " $ Precio         : int  35 92 55 60 75 55 60 70 90 155 ...\n",
      " $ Puntuacion     : int  NA 96 91 100 90 95 77 84 98 NA ...\n",
      " $ MetrosCuadrados: num  NA NA NA NA 50 ...\n"
     ]
    }
   ],
   "source": [
    "#aprovecho y redondeo el resultado del cambio de pies a metros\n",
    "airbnb$MetrosCuadrados<-round(airbnb$PiesCuadrados*0.092903,2)\n",
    "str(airbnb)"
   ]
  },
  {
   "cell_type": "code",
   "execution_count": 6,
   "metadata": {},
   "outputs": [
    {
     "data": {
      "text/plain": [
       "  CodigoPostal          Barrio             TipoPropiedad  \n",
       " 28012  :2060   Embajadores:1844   Apartment      :10888  \n",
       " 28004  :1794   Universidad:1358   House          :  966  \n",
       " 28005  :1194   Palacio    :1083   Condominium    :  345  \n",
       " 28013  :1019   Sol        : 940   Bed & Breakfast:  337  \n",
       " 28014  : 630   Justicia   : 785   Loft           :  283  \n",
       " 28015  : 600   Cortes     : 750   Other          :  220  \n",
       " (Other):5910   (Other)    :6447   (Other)        :  168  \n",
       "          TipoAlquiler   MaxOcupantes      NumBanyos     NumDormitorios  \n",
       " Entire home/apt:7903   Min.   : 1.000   Min.   :0.000   Min.   : 0.000  \n",
       " Private room   :5113   1st Qu.: 2.000   1st Qu.:1.000   1st Qu.: 1.000  \n",
       " Shared room    : 191   Median : 2.000   Median :1.000   Median : 1.000  \n",
       "                        Mean   : 3.191   Mean   :1.253   Mean   : 1.294  \n",
       "                        3rd Qu.: 4.000   3rd Qu.:1.000   3rd Qu.: 2.000  \n",
       "                        Max.   :16.000   Max.   :8.000   Max.   :10.000  \n",
       "                                         NA's   :49      NA's   :23      \n",
       "    NumCamas               TipoCama    \n",
       " Min.   : 1.000   Airbed       :    5  \n",
       " 1st Qu.: 1.000   Couch        :   15  \n",
       " Median : 2.000   Futon        :   35  \n",
       " Mean   : 1.986   Pull-out Sofa:  238  \n",
       " 3rd Qu.: 2.000   Real Bed     :12914  \n",
       " Max.   :16.000                        \n",
       " NA's   :49                            \n",
       "                                                                                                                                                                                                                        Comodidades   \n",
       "                                                                                                                                                                                                                              :  107  \n",
       " TV,Internet,Wireless Internet,Air conditioning,Kitchen,Elevator in building,Buzzer/wireless intercom,Heating,Family/kid friendly,Washer,Essentials,Hangers,Hair dryer,Iron,Laptop friendly workspace                         :   41  \n",
       " TV,Wireless Internet,Air conditioning,Kitchen,Elevator in building,Heating,Family/kid friendly,Washer,Dryer,Essentials,Shampoo,Hangers,Hair dryer,Iron                                                                       :   34  \n",
       " translation missing: en.hosting_amenity_49,translation missing: en.hosting_amenity_50                                                                                                                                        :   28  \n",
       " TV,Internet,Wireless Internet,Air conditioning,Kitchen,Elevator in building,Buzzer/wireless intercom,Heating,Family/kid friendly,Washer,Essentials,Shampoo,24-hour check-in,Hangers,Hair dryer,Iron,Laptop friendly workspace:   28  \n",
       " Wireless Internet,Heating,Fire extinguisher,Lock on bedroom door,translation missing: en.hosting_amenity_49,translation missing: en.hosting_amenity_50                                                                       :   25  \n",
       " (Other)                                                                                                                                                                                                                      :12944  \n",
       " PiesCuadrados       Precio         Puntuacion     MetrosCuadrados \n",
       " Min.   :   0    Min.   :  9.00   Min.   : 20.00   Min.   :  0.74  \n",
       " 1st Qu.:   0    1st Qu.: 31.00   1st Qu.: 88.00   1st Qu.: 15.21  \n",
       " Median : 108    Median : 52.00   Median : 94.00   Median : 49.98  \n",
       " Mean   : 378    Mean   : 65.92   Mean   : 91.62   Mean   : 58.05  \n",
       " 3rd Qu.: 646    3rd Qu.: 80.00   3rd Qu.: 98.00   3rd Qu.: 74.97  \n",
       " Max.   :5167    Max.   :875.00   Max.   :100.00   Max.   :480.03  \n",
       " NA's   :12688   NA's   :9        NA's   :2838     NA's   :12893   "
      ]
     },
     "metadata": {},
     "output_type": "display_data"
    }
   ],
   "source": [
    "# También cambio ya los que tienen 0 metros por NA\n",
    "airbnb$MetrosCuadrados<- na_if(airbnb$MetrosCuadrados, 0)\n",
    "summary(airbnb)"
   ]
  },
  {
   "cell_type": "markdown",
   "metadata": {},
   "source": [
    "Miremos el código postal. Es una variable con entradas erroneas.\n",
    "Hay valores como '', '-'  y '28' que deberían ser considerados como NA.\n",
    "Así mismo también debería ser NA todos los que no comiencen por 28, ya que estamos con códigos postales de Madrid\n",
    "\n",
    "El código postal 28002, 28004 y 28051 tienen entradas repetidas. \n",
    "Por ejemplo las entradas 28002\\n20882 deberían ir dnetro de 28002\n",
    "\n",
    "El codigo 2804 debería ser 28004, 2805 deberia ser 28005 y 2815 junto con 2815 debería ser 28015\n",
    "\n",
    "Limpia los datos de la columna Codigo Postal"
   ]
  },
  {
   "cell_type": "code",
   "execution_count": 7,
   "metadata": {},
   "outputs": [],
   "source": [
    "airbnb$CodigoPostal[airbnb$CodigoPostal==''|airbnb$CodigoPostal=='-'|airbnb$CodigoPostal=='1'|airbnb$CodigoPostal=='20013'|airbnb$CodigoPostal=='20126'|airbnb$CodigoPostal=='2015'|airbnb$CodigoPostal=='25008'|airbnb$CodigoPostal=='27004'|airbnb$CodigoPostal=='27013'|airbnb$CodigoPostal=='28']<-NA\n",
    "\n",
    "airbnb<- airbnb %>% mutate(CodigoPostal = replace(CodigoPostal, CodigoPostal== '2804', '28004')) #porque lo pone en el enunciado. yo pondría NA porque puede ser varias opciones además del 28004/28040, no sé si me equivoco\n",
    "airbnb<- airbnb %>% mutate(CodigoPostal = replace(CodigoPostal, CodigoPostal== '2805', '28005')) #igual que el anterior, para mí podría ser 28005 o 28050 y pondría NA. es posible?\n",
    "airbnb<- airbnb %>% mutate(CodigoPostal = replace(CodigoPostal, CodigoPostal== '2815', '28015'))\n",
    "airbnb<- airbnb %>% mutate(CodigoPostal = replace(CodigoPostal, CodigoPostal== 'Madrid 28004', '28004'))\n",
    "airbnb<- airbnb %>% mutate(CodigoPostal = replace(CodigoPostal, CodigoPostal== '28051\\n28051', '28051'))\n",
    "airbnb<- airbnb %>% mutate(CodigoPostal = replace(CodigoPostal, CodigoPostal== '28002\\n28002', '28002'))\n",
    "airbnb<- airbnb %>% mutate(CodigoPostal = replace(CodigoPostal, CodigoPostal== '280013', '28013'))\n",
    "\n",
    "\n"
   ]
  },
  {
   "cell_type": "code",
   "execution_count": 8,
   "metadata": {},
   "outputs": [
    {
     "data": {
      "text/html": [
       "<style>\n",
       ".list-inline {list-style: none; margin:0; padding: 0}\n",
       ".list-inline>li {display: inline-block}\n",
       ".list-inline>li:not(:last-child)::after {content: \"\\00b7\"; padding: 0 .5ex}\n",
       "</style>\n",
       "<ol class=list-inline><li>''</li><li>'-'</li><li>'20013'</li><li>'20126'</li><li>'2015'</li><li>'25008'</li><li>'27004'</li><li>'27013'</li><li>'28'</li><li>'28001'</li><li>'280013'</li><li>'28002'</li><li>'28002\\n28002'</li><li>'28003'</li><li>'28004'</li><li>'28005'</li><li>'28006'</li><li>'28007'</li><li>'28008'</li><li>'28009'</li><li>'28010'</li><li>'28011'</li><li>'28012'</li><li>'28013'</li><li>'28014'</li><li>'28015'</li><li>'28016'</li><li>'28017'</li><li>'28018'</li><li>'28019'</li><li>'28020'</li><li>'28021'</li><li>'28022'</li><li>'28023'</li><li>'28024'</li><li>'28025'</li><li>'28026'</li><li>'28027'</li><li>'28028'</li><li>'28029'</li><li>'28030'</li><li>'28031'</li><li>'28032'</li><li>'28033'</li><li>'28034'</li><li>'28035'</li><li>'28036'</li><li>'28037'</li><li>'28038'</li><li>'28039'</li><li>'2804'</li><li>'28040'</li><li>'28041'</li><li>'28042'</li><li>'28043'</li><li>'28044'</li><li>'28045'</li><li>'28046'</li><li>'28047'</li><li>'28048'</li><li>'28049'</li><li>'2805'</li><li>'28050'</li><li>'28051'</li><li>'28051\\n28051'</li><li>'28052'</li><li>'28053'</li><li>'28054'</li><li>'28055'</li><li>'28056'</li><li>'28058'</li><li>'28060'</li><li>'28094'</li><li>'28105'</li><li>'2815'</li><li>'28850'</li><li>'Madrid 28004'</li></ol>\n"
      ],
      "text/latex": [
       "\\begin{enumerate*}\n",
       "\\item ''\n",
       "\\item '-'\n",
       "\\item '20013'\n",
       "\\item '20126'\n",
       "\\item '2015'\n",
       "\\item '25008'\n",
       "\\item '27004'\n",
       "\\item '27013'\n",
       "\\item '28'\n",
       "\\item '28001'\n",
       "\\item '280013'\n",
       "\\item '28002'\n",
       "\\item '28002\\textbackslash{}n28002'\n",
       "\\item '28003'\n",
       "\\item '28004'\n",
       "\\item '28005'\n",
       "\\item '28006'\n",
       "\\item '28007'\n",
       "\\item '28008'\n",
       "\\item '28009'\n",
       "\\item '28010'\n",
       "\\item '28011'\n",
       "\\item '28012'\n",
       "\\item '28013'\n",
       "\\item '28014'\n",
       "\\item '28015'\n",
       "\\item '28016'\n",
       "\\item '28017'\n",
       "\\item '28018'\n",
       "\\item '28019'\n",
       "\\item '28020'\n",
       "\\item '28021'\n",
       "\\item '28022'\n",
       "\\item '28023'\n",
       "\\item '28024'\n",
       "\\item '28025'\n",
       "\\item '28026'\n",
       "\\item '28027'\n",
       "\\item '28028'\n",
       "\\item '28029'\n",
       "\\item '28030'\n",
       "\\item '28031'\n",
       "\\item '28032'\n",
       "\\item '28033'\n",
       "\\item '28034'\n",
       "\\item '28035'\n",
       "\\item '28036'\n",
       "\\item '28037'\n",
       "\\item '28038'\n",
       "\\item '28039'\n",
       "\\item '2804'\n",
       "\\item '28040'\n",
       "\\item '28041'\n",
       "\\item '28042'\n",
       "\\item '28043'\n",
       "\\item '28044'\n",
       "\\item '28045'\n",
       "\\item '28046'\n",
       "\\item '28047'\n",
       "\\item '28048'\n",
       "\\item '28049'\n",
       "\\item '2805'\n",
       "\\item '28050'\n",
       "\\item '28051'\n",
       "\\item '28051\\textbackslash{}n28051'\n",
       "\\item '28052'\n",
       "\\item '28053'\n",
       "\\item '28054'\n",
       "\\item '28055'\n",
       "\\item '28056'\n",
       "\\item '28058'\n",
       "\\item '28060'\n",
       "\\item '28094'\n",
       "\\item '28105'\n",
       "\\item '2815'\n",
       "\\item '28850'\n",
       "\\item 'Madrid 28004'\n",
       "\\end{enumerate*}\n"
      ],
      "text/markdown": [
       "1. ''\n",
       "2. '-'\n",
       "3. '20013'\n",
       "4. '20126'\n",
       "5. '2015'\n",
       "6. '25008'\n",
       "7. '27004'\n",
       "8. '27013'\n",
       "9. '28'\n",
       "10. '28001'\n",
       "11. '280013'\n",
       "12. '28002'\n",
       "13. '28002\\n28002'\n",
       "14. '28003'\n",
       "15. '28004'\n",
       "16. '28005'\n",
       "17. '28006'\n",
       "18. '28007'\n",
       "19. '28008'\n",
       "20. '28009'\n",
       "21. '28010'\n",
       "22. '28011'\n",
       "23. '28012'\n",
       "24. '28013'\n",
       "25. '28014'\n",
       "26. '28015'\n",
       "27. '28016'\n",
       "28. '28017'\n",
       "29. '28018'\n",
       "30. '28019'\n",
       "31. '28020'\n",
       "32. '28021'\n",
       "33. '28022'\n",
       "34. '28023'\n",
       "35. '28024'\n",
       "36. '28025'\n",
       "37. '28026'\n",
       "38. '28027'\n",
       "39. '28028'\n",
       "40. '28029'\n",
       "41. '28030'\n",
       "42. '28031'\n",
       "43. '28032'\n",
       "44. '28033'\n",
       "45. '28034'\n",
       "46. '28035'\n",
       "47. '28036'\n",
       "48. '28037'\n",
       "49. '28038'\n",
       "50. '28039'\n",
       "51. '2804'\n",
       "52. '28040'\n",
       "53. '28041'\n",
       "54. '28042'\n",
       "55. '28043'\n",
       "56. '28044'\n",
       "57. '28045'\n",
       "58. '28046'\n",
       "59. '28047'\n",
       "60. '28048'\n",
       "61. '28049'\n",
       "62. '2805'\n",
       "63. '28050'\n",
       "64. '28051'\n",
       "65. '28051\\n28051'\n",
       "66. '28052'\n",
       "67. '28053'\n",
       "68. '28054'\n",
       "69. '28055'\n",
       "70. '28056'\n",
       "71. '28058'\n",
       "72. '28060'\n",
       "73. '28094'\n",
       "74. '28105'\n",
       "75. '2815'\n",
       "76. '28850'\n",
       "77. 'Madrid 28004'\n",
       "\n",
       "\n"
      ],
      "text/plain": [
       " [1] \"\"             \"-\"            \"20013\"        \"20126\"        \"2015\"        \n",
       " [6] \"25008\"        \"27004\"        \"27013\"        \"28\"           \"28001\"       \n",
       "[11] \"280013\"       \"28002\"        \"28002\\n28002\" \"28003\"        \"28004\"       \n",
       "[16] \"28005\"        \"28006\"        \"28007\"        \"28008\"        \"28009\"       \n",
       "[21] \"28010\"        \"28011\"        \"28012\"        \"28013\"        \"28014\"       \n",
       "[26] \"28015\"        \"28016\"        \"28017\"        \"28018\"        \"28019\"       \n",
       "[31] \"28020\"        \"28021\"        \"28022\"        \"28023\"        \"28024\"       \n",
       "[36] \"28025\"        \"28026\"        \"28027\"        \"28028\"        \"28029\"       \n",
       "[41] \"28030\"        \"28031\"        \"28032\"        \"28033\"        \"28034\"       \n",
       "[46] \"28035\"        \"28036\"        \"28037\"        \"28038\"        \"28039\"       \n",
       "[51] \"2804\"         \"28040\"        \"28041\"        \"28042\"        \"28043\"       \n",
       "[56] \"28044\"        \"28045\"        \"28046\"        \"28047\"        \"28048\"       \n",
       "[61] \"28049\"        \"2805\"         \"28050\"        \"28051\"        \"28051\\n28051\"\n",
       "[66] \"28052\"        \"28053\"        \"28054\"        \"28055\"        \"28056\"       \n",
       "[71] \"28058\"        \"28060\"        \"28094\"        \"28105\"        \"2815\"        \n",
       "[76] \"28850\"        \"Madrid 28004\""
      ]
     },
     "metadata": {},
     "output_type": "display_data"
    },
    {
     "data": {
      "text/html": [
       "<style>\n",
       ".dl-inline {width: auto; margin:0; padding: 0}\n",
       ".dl-inline>dt, .dl-inline>dd {float: none; width: auto; display: inline-block}\n",
       ".dl-inline>dt::after {content: \":\\0020\"; padding-right: .5ex}\n",
       ".dl-inline>dt:not(:first-of-type) {padding-left: .5ex}\n",
       "</style><dl class=dl-inline><dt>1</dt><dd>0</dd><dt>-</dt><dd>0</dd><dt>20013</dt><dd>0</dd><dt>20126</dt><dd>0</dd><dt>2015</dt><dd>0</dd><dt>25008</dt><dd>0</dd><dt>27004</dt><dd>0</dd><dt>27013</dt><dd>0</dd><dt>28</dt><dd>0</dd><dt>28001</dt><dd>231</dd><dt>280013</dt><dd>0</dd><dt>28002</dt><dd>171</dd><dt>28002\n",
       "28002</dt><dd>0</dd><dt>28003</dt><dd>185</dd><dt>28004</dt><dd>1796</dd><dt>28005</dt><dd>1195</dd><dt>28006</dt><dd>218</dd><dt>28007</dt><dd>206</dd><dt>28008</dt><dd>338</dd><dt>28009</dt><dd>216</dd><dt>28010</dt><dd>384</dd><dt>28011</dt><dd>250</dd><dt>28012</dt><dd>2060</dd><dt>28013</dt><dd>1020</dd><dt>28014</dt><dd>630</dd><dt>28015</dt><dd>601</dd><dt>28016</dt><dd>76</dd><dt>28017</dt><dd>107</dd><dt>28018</dt><dd>43</dd><dt>28019</dt><dd>200</dd><dt>28020</dt><dd>192</dd><dt>28021</dt><dd>58</dd><dt>28022</dt><dd>30</dd><dt>28023</dt><dd>23</dd><dt>28024</dt><dd>44</dd><dt>28025</dt><dd>123</dd><dt>28026</dt><dd>93</dd><dt>28027</dt><dd>122</dd><dt>28028</dt><dd>263</dd><dt>28029</dt><dd>110</dd><dt>28030</dt><dd>73</dd><dt>28031</dt><dd>27</dd><dt>28032</dt><dd>33</dd><dt>28033</dt><dd>89</dd><dt>28034</dt><dd>45</dd><dt>28035</dt><dd>59</dd><dt>28036</dt><dd>67</dd><dt>28037</dt><dd>65</dd><dt>28038</dt><dd>77</dd><dt>28039</dt><dd>160</dd><dt>2804</dt><dd>0</dd><dt>28040</dt><dd>16</dd><dt>28041</dt><dd>63</dd><dt>28042</dt><dd>90</dd><dt>28043</dt><dd>103</dd><dt>28044</dt><dd>19</dd><dt>28045</dt><dd>495</dd><dt>28046</dt><dd>32</dd><dt>28047</dt><dd>67</dd><dt>28048</dt><dd>1</dd><dt>28049</dt><dd>3</dd><dt>2805</dt><dd>0</dd><dt>28050</dt><dd>58</dd><dt>28051</dt><dd>17</dd><dt>28051\n",
       "28051</dt><dd>0</dd><dt>28052</dt><dd>1</dd><dt>28053</dt><dd>85</dd><dt>28054</dt><dd>12</dd><dt>28055</dt><dd>12</dd><dt>28056</dt><dd>1</dd><dt>28058</dt><dd>1</dd><dt>28060</dt><dd>1</dd><dt>28094</dt><dd>1</dd><dt>28105</dt><dd>1</dd><dt>2815</dt><dd>0</dd><dt>28850</dt><dd>1</dd><dt>Madrid 28004</dt><dd>0</dd><dt>NA's</dt><dd>447</dd></dl>\n"
      ],
      "text/latex": [
       "\\begin{description*}\n",
       "\\item[1] 0\n",
       "\\item[-] 0\n",
       "\\item[20013] 0\n",
       "\\item[20126] 0\n",
       "\\item[2015] 0\n",
       "\\item[25008] 0\n",
       "\\item[27004] 0\n",
       "\\item[27013] 0\n",
       "\\item[28] 0\n",
       "\\item[28001] 231\n",
       "\\item[280013] 0\n",
       "\\item[28002] 171\n",
       "\\item[28002\n",
       "28002] 0\n",
       "\\item[28003] 185\n",
       "\\item[28004] 1796\n",
       "\\item[28005] 1195\n",
       "\\item[28006] 218\n",
       "\\item[28007] 206\n",
       "\\item[28008] 338\n",
       "\\item[28009] 216\n",
       "\\item[28010] 384\n",
       "\\item[28011] 250\n",
       "\\item[28012] 2060\n",
       "\\item[28013] 1020\n",
       "\\item[28014] 630\n",
       "\\item[28015] 601\n",
       "\\item[28016] 76\n",
       "\\item[28017] 107\n",
       "\\item[28018] 43\n",
       "\\item[28019] 200\n",
       "\\item[28020] 192\n",
       "\\item[28021] 58\n",
       "\\item[28022] 30\n",
       "\\item[28023] 23\n",
       "\\item[28024] 44\n",
       "\\item[28025] 123\n",
       "\\item[28026] 93\n",
       "\\item[28027] 122\n",
       "\\item[28028] 263\n",
       "\\item[28029] 110\n",
       "\\item[28030] 73\n",
       "\\item[28031] 27\n",
       "\\item[28032] 33\n",
       "\\item[28033] 89\n",
       "\\item[28034] 45\n",
       "\\item[28035] 59\n",
       "\\item[28036] 67\n",
       "\\item[28037] 65\n",
       "\\item[28038] 77\n",
       "\\item[28039] 160\n",
       "\\item[2804] 0\n",
       "\\item[28040] 16\n",
       "\\item[28041] 63\n",
       "\\item[28042] 90\n",
       "\\item[28043] 103\n",
       "\\item[28044] 19\n",
       "\\item[28045] 495\n",
       "\\item[28046] 32\n",
       "\\item[28047] 67\n",
       "\\item[28048] 1\n",
       "\\item[28049] 3\n",
       "\\item[2805] 0\n",
       "\\item[28050] 58\n",
       "\\item[28051] 17\n",
       "\\item[28051\n",
       "28051] 0\n",
       "\\item[28052] 1\n",
       "\\item[28053] 85\n",
       "\\item[28054] 12\n",
       "\\item[28055] 12\n",
       "\\item[28056] 1\n",
       "\\item[28058] 1\n",
       "\\item[28060] 1\n",
       "\\item[28094] 1\n",
       "\\item[28105] 1\n",
       "\\item[2815] 0\n",
       "\\item[28850] 1\n",
       "\\item[Madrid 28004] 0\n",
       "\\item[NA's] 447\n",
       "\\end{description*}\n"
      ],
      "text/markdown": [
       "1\n",
       ":   0-\n",
       ":   020013\n",
       ":   020126\n",
       ":   02015\n",
       ":   025008\n",
       ":   027004\n",
       ":   027013\n",
       ":   028\n",
       ":   028001\n",
       ":   231280013\n",
       ":   028002\n",
       ":   17128002\n",
       "28002\n",
       ":   028003\n",
       ":   18528004\n",
       ":   179628005\n",
       ":   119528006\n",
       ":   21828007\n",
       ":   20628008\n",
       ":   33828009\n",
       ":   21628010\n",
       ":   38428011\n",
       ":   25028012\n",
       ":   206028013\n",
       ":   102028014\n",
       ":   63028015\n",
       ":   60128016\n",
       ":   7628017\n",
       ":   10728018\n",
       ":   4328019\n",
       ":   20028020\n",
       ":   19228021\n",
       ":   5828022\n",
       ":   3028023\n",
       ":   2328024\n",
       ":   4428025\n",
       ":   12328026\n",
       ":   9328027\n",
       ":   12228028\n",
       ":   26328029\n",
       ":   11028030\n",
       ":   7328031\n",
       ":   2728032\n",
       ":   3328033\n",
       ":   8928034\n",
       ":   4528035\n",
       ":   5928036\n",
       ":   6728037\n",
       ":   6528038\n",
       ":   7728039\n",
       ":   1602804\n",
       ":   028040\n",
       ":   1628041\n",
       ":   6328042\n",
       ":   9028043\n",
       ":   10328044\n",
       ":   1928045\n",
       ":   49528046\n",
       ":   3228047\n",
       ":   6728048\n",
       ":   128049\n",
       ":   32805\n",
       ":   028050\n",
       ":   5828051\n",
       ":   1728051\n",
       "28051\n",
       ":   028052\n",
       ":   128053\n",
       ":   8528054\n",
       ":   1228055\n",
       ":   1228056\n",
       ":   128058\n",
       ":   128060\n",
       ":   128094\n",
       ":   128105\n",
       ":   12815\n",
       ":   028850\n",
       ":   1Madrid 28004\n",
       ":   0NA's\n",
       ":   447\n",
       "\n"
      ],
      "text/plain": [
       "                        -        20013        20126         2015        25008 \n",
       "           0            0            0            0            0            0 \n",
       "       27004        27013           28        28001       280013        28002 \n",
       "           0            0            0          231            0          171 \n",
       "28002\\n28002        28003        28004        28005        28006        28007 \n",
       "           0          185         1796         1195          218          206 \n",
       "       28008        28009        28010        28011        28012        28013 \n",
       "         338          216          384          250         2060         1020 \n",
       "       28014        28015        28016        28017        28018        28019 \n",
       "         630          601           76          107           43          200 \n",
       "       28020        28021        28022        28023        28024        28025 \n",
       "         192           58           30           23           44          123 \n",
       "       28026        28027        28028        28029        28030        28031 \n",
       "          93          122          263          110           73           27 \n",
       "       28032        28033        28034        28035        28036        28037 \n",
       "          33           89           45           59           67           65 \n",
       "       28038        28039         2804        28040        28041        28042 \n",
       "          77          160            0           16           63           90 \n",
       "       28043        28044        28045        28046        28047        28048 \n",
       "         103           19          495           32           67            1 \n",
       "       28049         2805        28050        28051 28051\\n28051        28052 \n",
       "           3            0           58           17            0            1 \n",
       "       28053        28054        28055        28056        28058        28060 \n",
       "          85           12           12            1            1            1 \n",
       "       28094        28105         2815        28850 Madrid 28004         NA's \n",
       "           1            1            0            1            0          447 "
      ]
     },
     "metadata": {},
     "output_type": "display_data"
    }
   ],
   "source": [
    "levels(airbnb$CodigoPostal)\n",
    "summary(airbnb$CodigoPostal)"
   ]
  },
  {
   "cell_type": "code",
   "execution_count": 9,
   "metadata": {},
   "outputs": [
    {
     "data": {
      "text/html": [
       "<style>\n",
       ".list-inline {list-style: none; margin:0; padding: 0}\n",
       ".list-inline>li {display: inline-block}\n",
       ".list-inline>li:not(:last-child)::after {content: \"\\00b7\"; padding: 0 .5ex}\n",
       "</style>\n",
       "<ol class=list-inline><li>'28001'</li><li>'28002'</li><li>'28003'</li><li>'28004'</li><li>'28005'</li><li>'28006'</li><li>'28007'</li><li>'28008'</li><li>'28009'</li><li>'28010'</li><li>'28011'</li><li>'28012'</li><li>'28013'</li><li>'28014'</li><li>'28015'</li><li>'28016'</li><li>'28017'</li><li>'28018'</li><li>'28019'</li><li>'28020'</li><li>'28021'</li><li>'28022'</li><li>'28023'</li><li>'28024'</li><li>'28025'</li><li>'28026'</li><li>'28027'</li><li>'28028'</li><li>'28029'</li><li>'28030'</li><li>'28031'</li><li>'28032'</li><li>'28033'</li><li>'28034'</li><li>'28035'</li><li>'28036'</li><li>'28037'</li><li>'28038'</li><li>'28039'</li><li>'28040'</li><li>'28041'</li><li>'28042'</li><li>'28043'</li><li>'28044'</li><li>'28045'</li><li>'28046'</li><li>'28047'</li><li>'28048'</li><li>'28049'</li><li>'28050'</li><li>'28051'</li><li>'28052'</li><li>'28053'</li><li>'28054'</li><li>'28055'</li><li>'28056'</li><li>'28058'</li><li>'28060'</li><li>'28094'</li><li>'28105'</li><li>'28850'</li></ol>\n"
      ],
      "text/latex": [
       "\\begin{enumerate*}\n",
       "\\item '28001'\n",
       "\\item '28002'\n",
       "\\item '28003'\n",
       "\\item '28004'\n",
       "\\item '28005'\n",
       "\\item '28006'\n",
       "\\item '28007'\n",
       "\\item '28008'\n",
       "\\item '28009'\n",
       "\\item '28010'\n",
       "\\item '28011'\n",
       "\\item '28012'\n",
       "\\item '28013'\n",
       "\\item '28014'\n",
       "\\item '28015'\n",
       "\\item '28016'\n",
       "\\item '28017'\n",
       "\\item '28018'\n",
       "\\item '28019'\n",
       "\\item '28020'\n",
       "\\item '28021'\n",
       "\\item '28022'\n",
       "\\item '28023'\n",
       "\\item '28024'\n",
       "\\item '28025'\n",
       "\\item '28026'\n",
       "\\item '28027'\n",
       "\\item '28028'\n",
       "\\item '28029'\n",
       "\\item '28030'\n",
       "\\item '28031'\n",
       "\\item '28032'\n",
       "\\item '28033'\n",
       "\\item '28034'\n",
       "\\item '28035'\n",
       "\\item '28036'\n",
       "\\item '28037'\n",
       "\\item '28038'\n",
       "\\item '28039'\n",
       "\\item '28040'\n",
       "\\item '28041'\n",
       "\\item '28042'\n",
       "\\item '28043'\n",
       "\\item '28044'\n",
       "\\item '28045'\n",
       "\\item '28046'\n",
       "\\item '28047'\n",
       "\\item '28048'\n",
       "\\item '28049'\n",
       "\\item '28050'\n",
       "\\item '28051'\n",
       "\\item '28052'\n",
       "\\item '28053'\n",
       "\\item '28054'\n",
       "\\item '28055'\n",
       "\\item '28056'\n",
       "\\item '28058'\n",
       "\\item '28060'\n",
       "\\item '28094'\n",
       "\\item '28105'\n",
       "\\item '28850'\n",
       "\\end{enumerate*}\n"
      ],
      "text/markdown": [
       "1. '28001'\n",
       "2. '28002'\n",
       "3. '28003'\n",
       "4. '28004'\n",
       "5. '28005'\n",
       "6. '28006'\n",
       "7. '28007'\n",
       "8. '28008'\n",
       "9. '28009'\n",
       "10. '28010'\n",
       "11. '28011'\n",
       "12. '28012'\n",
       "13. '28013'\n",
       "14. '28014'\n",
       "15. '28015'\n",
       "16. '28016'\n",
       "17. '28017'\n",
       "18. '28018'\n",
       "19. '28019'\n",
       "20. '28020'\n",
       "21. '28021'\n",
       "22. '28022'\n",
       "23. '28023'\n",
       "24. '28024'\n",
       "25. '28025'\n",
       "26. '28026'\n",
       "27. '28027'\n",
       "28. '28028'\n",
       "29. '28029'\n",
       "30. '28030'\n",
       "31. '28031'\n",
       "32. '28032'\n",
       "33. '28033'\n",
       "34. '28034'\n",
       "35. '28035'\n",
       "36. '28036'\n",
       "37. '28037'\n",
       "38. '28038'\n",
       "39. '28039'\n",
       "40. '28040'\n",
       "41. '28041'\n",
       "42. '28042'\n",
       "43. '28043'\n",
       "44. '28044'\n",
       "45. '28045'\n",
       "46. '28046'\n",
       "47. '28047'\n",
       "48. '28048'\n",
       "49. '28049'\n",
       "50. '28050'\n",
       "51. '28051'\n",
       "52. '28052'\n",
       "53. '28053'\n",
       "54. '28054'\n",
       "55. '28055'\n",
       "56. '28056'\n",
       "57. '28058'\n",
       "58. '28060'\n",
       "59. '28094'\n",
       "60. '28105'\n",
       "61. '28850'\n",
       "\n",
       "\n"
      ],
      "text/plain": [
       " [1] \"28001\" \"28002\" \"28003\" \"28004\" \"28005\" \"28006\" \"28007\" \"28008\" \"28009\"\n",
       "[10] \"28010\" \"28011\" \"28012\" \"28013\" \"28014\" \"28015\" \"28016\" \"28017\" \"28018\"\n",
       "[19] \"28019\" \"28020\" \"28021\" \"28022\" \"28023\" \"28024\" \"28025\" \"28026\" \"28027\"\n",
       "[28] \"28028\" \"28029\" \"28030\" \"28031\" \"28032\" \"28033\" \"28034\" \"28035\" \"28036\"\n",
       "[37] \"28037\" \"28038\" \"28039\" \"28040\" \"28041\" \"28042\" \"28043\" \"28044\" \"28045\"\n",
       "[46] \"28046\" \"28047\" \"28048\" \"28049\" \"28050\" \"28051\" \"28052\" \"28053\" \"28054\"\n",
       "[55] \"28055\" \"28056\" \"28058\" \"28060\" \"28094\" \"28105\" \"28850\""
      ]
     },
     "metadata": {},
     "output_type": "display_data"
    }
   ],
   "source": [
    "#para quitar los niveles que he dejado a 0 al convertirlos en NA paso a character y luego otra vez a factor.\n",
    "#Hay alguna fórmula mejor, verdad? \n",
    "airbnb$CodigoPostal<-as.factor(as.character(airbnb$CodigoPostal)) \n",
    "levels(airbnb$CodigoPostal)\n",
    "\n"
   ]
  },
  {
   "cell_type": "markdown",
   "metadata": {},
   "source": [
    "Una vez limpios los datos ¿Cuales son los códigos postales que tenemos? "
   ]
  },
  {
   "cell_type": "code",
   "execution_count": 10,
   "metadata": {},
   "outputs": [
    {
     "data": {
      "text/html": [
       "'Los códigos postales que tenemos en Madrid capital son:'"
      ],
      "text/latex": [
       "'Los códigos postales que tenemos en Madrid capital son:'"
      ],
      "text/markdown": [
       "'Los códigos postales que tenemos en Madrid capital son:'"
      ],
      "text/plain": [
       "[1] \"Los códigos postales que tenemos en Madrid capital son:\""
      ]
     },
     "metadata": {},
     "output_type": "display_data"
    },
    {
     "data": {
      "text/html": [
       "<style>\n",
       ".list-inline {list-style: none; margin:0; padding: 0}\n",
       ".list-inline>li {display: inline-block}\n",
       ".list-inline>li:not(:last-child)::after {content: \"\\00b7\"; padding: 0 .5ex}\n",
       "</style>\n",
       "<ol class=list-inline><li>'28001'</li><li>'28002'</li><li>'28003'</li><li>'28004'</li><li>'28005'</li><li>'28006'</li><li>'28007'</li><li>'28008'</li><li>'28009'</li><li>'28010'</li><li>'28011'</li><li>'28012'</li><li>'28013'</li><li>'28014'</li><li>'28015'</li><li>'28016'</li><li>'28017'</li><li>'28018'</li><li>'28019'</li><li>'28020'</li><li>'28021'</li><li>'28022'</li><li>'28023'</li><li>'28024'</li><li>'28025'</li><li>'28026'</li><li>'28027'</li><li>'28028'</li><li>'28029'</li><li>'28030'</li><li>'28031'</li><li>'28032'</li><li>'28033'</li><li>'28034'</li><li>'28035'</li><li>'28036'</li><li>'28037'</li><li>'28038'</li><li>'28039'</li><li>'28040'</li><li>'28041'</li><li>'28042'</li><li>'28043'</li><li>'28044'</li><li>'28045'</li><li>'28046'</li><li>'28047'</li><li>'28048'</li><li>'28049'</li><li>'28050'</li><li>'28051'</li><li>'28052'</li><li>'28053'</li><li>'28054'</li><li>'28055'</li><li>'28056'</li><li>'28058'</li><li>'28060'</li><li>'28094'</li><li>'28105'</li><li>'28850'</li></ol>\n"
      ],
      "text/latex": [
       "\\begin{enumerate*}\n",
       "\\item '28001'\n",
       "\\item '28002'\n",
       "\\item '28003'\n",
       "\\item '28004'\n",
       "\\item '28005'\n",
       "\\item '28006'\n",
       "\\item '28007'\n",
       "\\item '28008'\n",
       "\\item '28009'\n",
       "\\item '28010'\n",
       "\\item '28011'\n",
       "\\item '28012'\n",
       "\\item '28013'\n",
       "\\item '28014'\n",
       "\\item '28015'\n",
       "\\item '28016'\n",
       "\\item '28017'\n",
       "\\item '28018'\n",
       "\\item '28019'\n",
       "\\item '28020'\n",
       "\\item '28021'\n",
       "\\item '28022'\n",
       "\\item '28023'\n",
       "\\item '28024'\n",
       "\\item '28025'\n",
       "\\item '28026'\n",
       "\\item '28027'\n",
       "\\item '28028'\n",
       "\\item '28029'\n",
       "\\item '28030'\n",
       "\\item '28031'\n",
       "\\item '28032'\n",
       "\\item '28033'\n",
       "\\item '28034'\n",
       "\\item '28035'\n",
       "\\item '28036'\n",
       "\\item '28037'\n",
       "\\item '28038'\n",
       "\\item '28039'\n",
       "\\item '28040'\n",
       "\\item '28041'\n",
       "\\item '28042'\n",
       "\\item '28043'\n",
       "\\item '28044'\n",
       "\\item '28045'\n",
       "\\item '28046'\n",
       "\\item '28047'\n",
       "\\item '28048'\n",
       "\\item '28049'\n",
       "\\item '28050'\n",
       "\\item '28051'\n",
       "\\item '28052'\n",
       "\\item '28053'\n",
       "\\item '28054'\n",
       "\\item '28055'\n",
       "\\item '28056'\n",
       "\\item '28058'\n",
       "\\item '28060'\n",
       "\\item '28094'\n",
       "\\item '28105'\n",
       "\\item '28850'\n",
       "\\end{enumerate*}\n"
      ],
      "text/markdown": [
       "1. '28001'\n",
       "2. '28002'\n",
       "3. '28003'\n",
       "4. '28004'\n",
       "5. '28005'\n",
       "6. '28006'\n",
       "7. '28007'\n",
       "8. '28008'\n",
       "9. '28009'\n",
       "10. '28010'\n",
       "11. '28011'\n",
       "12. '28012'\n",
       "13. '28013'\n",
       "14. '28014'\n",
       "15. '28015'\n",
       "16. '28016'\n",
       "17. '28017'\n",
       "18. '28018'\n",
       "19. '28019'\n",
       "20. '28020'\n",
       "21. '28021'\n",
       "22. '28022'\n",
       "23. '28023'\n",
       "24. '28024'\n",
       "25. '28025'\n",
       "26. '28026'\n",
       "27. '28027'\n",
       "28. '28028'\n",
       "29. '28029'\n",
       "30. '28030'\n",
       "31. '28031'\n",
       "32. '28032'\n",
       "33. '28033'\n",
       "34. '28034'\n",
       "35. '28035'\n",
       "36. '28036'\n",
       "37. '28037'\n",
       "38. '28038'\n",
       "39. '28039'\n",
       "40. '28040'\n",
       "41. '28041'\n",
       "42. '28042'\n",
       "43. '28043'\n",
       "44. '28044'\n",
       "45. '28045'\n",
       "46. '28046'\n",
       "47. '28047'\n",
       "48. '28048'\n",
       "49. '28049'\n",
       "50. '28050'\n",
       "51. '28051'\n",
       "52. '28052'\n",
       "53. '28053'\n",
       "54. '28054'\n",
       "55. '28055'\n",
       "56. '28056'\n",
       "57. '28058'\n",
       "58. '28060'\n",
       "59. '28094'\n",
       "60. '28105'\n",
       "61. '28850'\n",
       "\n",
       "\n"
      ],
      "text/plain": [
       " [1] \"28001\" \"28002\" \"28003\" \"28004\" \"28005\" \"28006\" \"28007\" \"28008\" \"28009\"\n",
       "[10] \"28010\" \"28011\" \"28012\" \"28013\" \"28014\" \"28015\" \"28016\" \"28017\" \"28018\"\n",
       "[19] \"28019\" \"28020\" \"28021\" \"28022\" \"28023\" \"28024\" \"28025\" \"28026\" \"28027\"\n",
       "[28] \"28028\" \"28029\" \"28030\" \"28031\" \"28032\" \"28033\" \"28034\" \"28035\" \"28036\"\n",
       "[37] \"28037\" \"28038\" \"28039\" \"28040\" \"28041\" \"28042\" \"28043\" \"28044\" \"28045\"\n",
       "[46] \"28046\" \"28047\" \"28048\" \"28049\" \"28050\" \"28051\" \"28052\" \"28053\" \"28054\"\n",
       "[55] \"28055\" \"28056\" \"28058\" \"28060\" \"28094\" \"28105\" \"28850\""
      ]
     },
     "metadata": {},
     "output_type": "display_data"
    }
   ],
   "source": [
    "paste('Los códigos postales que tenemos en Madrid capital son:' )\n",
    "levels(airbnb$CodigoPostal)\n",
    "\n"
   ]
  },
  {
   "cell_type": "markdown",
   "metadata": {},
   "source": [
    "\n",
    "¿Cuales son los 5 códigos postales con más entradas? ¿Y con menos? ¿Cuantas entradas tienen?"
   ]
  },
  {
   "cell_type": "code",
   "execution_count": 11,
   "metadata": {},
   "outputs": [
    {
     "name": "stdout",
     "output_type": "stream",
     "text": [
      "[1] \"Los 5 códigos postales con más entradas junto con el número de entradas correspondiente, son:\"\n"
     ]
    },
    {
     "data": {
      "text/plain": [
       "\n",
       "28012 28004 28005 28013 28014 \n",
       " 2060  1796  1195  1020   630 "
      ]
     },
     "metadata": {},
     "output_type": "display_data"
    },
    {
     "data": {
      "text/html": [
       "'Los 5 códigos postales con menos entradas junto con el número de entradas, son:'"
      ],
      "text/latex": [
       "'Los 5 códigos postales con menos entradas junto con el número de entradas, son:'"
      ],
      "text/markdown": [
       "'Los 5 códigos postales con menos entradas junto con el número de entradas, son:'"
      ],
      "text/plain": [
       "[1] \"Los 5 códigos postales con menos entradas junto con el número de entradas, son:\""
      ]
     },
     "metadata": {},
     "output_type": "display_data"
    },
    {
     "data": {
      "text/plain": [
       "\n",
       "28048 28052 28056 28058 28060 \n",
       "    1     1     1     1     1 "
      ]
     },
     "metadata": {},
     "output_type": "display_data"
    }
   ],
   "source": [
    "print('Los 5 códigos postales con más entradas junto con el número de entradas correspondiente, son:')\n",
    "head(sort(table(airbnb$CodigoPostal), decreasing = T),n=5L)\n",
    "\n",
    "paste('Los 5 códigos postales con menos entradas junto con el número de entradas, son:')\n",
    "head(sort(table(airbnb$CodigoPostal), decreasing = F),n=5L)\n",
    "\n",
    "#no tengo clara la ventaja de uno u otro método (print vs paste), casi prefiero paste que no tiene el 1."
   ]
  },
  {
   "cell_type": "markdown",
   "metadata": {},
   "source": [
    "¿Cuales son los barrios que hay en el código postal 28012?"
   ]
  },
  {
   "cell_type": "code",
   "execution_count": 12,
   "metadata": {},
   "outputs": [
    {
     "data": {
      "text/html": [
       "<span style=white-space:pre-wrap>'Los barrios que hay en el código postal 28012 son  11 : '</span>"
      ],
      "text/latex": [
       "'Los barrios que hay en el código postal 28012 son  11 : '"
      ],
      "text/markdown": [
       "<span style=white-space:pre-wrap>'Los barrios que hay en el código postal 28012 son  11 : '</span>"
      ],
      "text/plain": [
       "[1] \"Los barrios que hay en el código postal 28012 son  11 : \""
      ]
     },
     "metadata": {},
     "output_type": "display_data"
    },
    {
     "data": {
      "text/html": [
       "<style>\n",
       ".list-inline {list-style: none; margin:0; padding: 0}\n",
       ".list-inline>li {display: inline-block}\n",
       ".list-inline>li:not(:last-child)::after {content: \"\\00b7\"; padding: 0 .5ex}\n",
       "</style>\n",
       "<ol class=list-inline><li>Sol</li><li>Acacias</li><li>Palos de Moguer</li><li>Embajadores</li><li>Cortes</li><li>Palacio</li><li>Universidad</li><li>Delicias</li><li>Arapiles</li><li>Atocha</li><li>Goya</li></ol>\n",
       "\n",
       "<details>\n",
       "\t<summary style=display:list-item;cursor:pointer>\n",
       "\t\t<strong>Levels</strong>:\n",
       "\t</summary>\n",
       "\t<style>\n",
       "\t.list-inline {list-style: none; margin:0; padding: 0}\n",
       "\t.list-inline>li {display: inline-block}\n",
       "\t.list-inline>li:not(:last-child)::after {content: \"\\00b7\"; padding: 0 .5ex}\n",
       "\t</style>\n",
       "\t<ol class=list-inline><li>'Abrantes'</li><li>'Acacias'</li><li>'Adelfas'</li><li>'Aeropuerto'</li><li>'Aguilas'</li><li>'Alameda de Osuna'</li><li>'Almagro'</li><li>'Almenara'</li><li>'Almendrales'</li><li>'Aluche'</li><li>'Ambroz'</li><li>'Amposta'</li><li>'Apostol Santiago'</li><li>'Arapiles'</li><li>'Aravaca'</li><li>'Arcos'</li><li>'Argüelles'</li><li>'Atocha'</li><li>'Bellas Vistas'</li><li>'Berruguete'</li><li>'Buenavista'</li><li>'Butarque'</li><li>'Campamento'</li><li>'Canillas'</li><li>'Canillejas'</li><li>'Cármenes'</li><li>'Casa de Campo'</li><li>'Casco Histórico de Barajas'</li><li>'Casco Histórico de Vallecas'</li><li>'Casco Histórico de Vicálvaro'</li><li>'Castellana'</li><li>'Castilla'</li><li>'Castillejos'</li><li>'Chopera'</li><li>'Ciudad Jardín'</li><li>'Ciudad Universitaria'</li><li>'Colina'</li><li>'Comillas'</li><li>'Concepción'</li><li>'Corralejos'</li><li>'Cortes'</li><li>'Costillares'</li><li>'Cuatro Caminos'</li><li>'Cuatro Vientos'</li><li>'Delicias'</li><li>'El Goloso'</li><li>'El Plantío'</li><li>'El Viso'</li><li>'Embajadores'</li><li>'Entrevías'</li><li>'Estrella'</li><li>'Fontarrón'</li><li>'Fuente del Berro'</li><li>'Fuentelareina'</li><li>'Gaztambide'</li><li>'Goya'</li><li>'Guindalera'</li><li>'Hellín'</li><li>'Hispanoamérica'</li><li>'Ibiza'</li><li>'Imperial'</li><li>'Jerónimos'</li><li>'Justicia'</li><li>'La Paz'</li><li>'Legazpi'</li><li>'Lista'</li><li>'Los Angeles'</li><li>'Los Rosales'</li><li>'Lucero'</li><li>'Marroquina'</li><li>'Media Legua'</li><li>'Mirasierra'</li><li>'Moscardó'</li><li>'Niño Jesús'</li><li>'Nueva España'</li><li>'Numancia'</li><li>'Opañel'</li><li>'Orcasitas'</li><li>'Orcasur'</li><li>'Pacífico'</li><li>'Palacio'</li><li>'Palomas'</li><li>'Palomeras Bajas'</li><li>'Palomeras Sureste'</li><li>'Palos de Moguer'</li><li>'Pavones'</li><li>'Peñagrande'</li><li>'Pilar'</li><li>'Pinar del Rey'</li><li>'Piovera'</li><li>'Portazgo'</li><li>'Pradolongo'</li><li>'Prosperidad'</li><li>'Pueblo Nuevo'</li><li>'Puerta Bonita'</li><li>'Puerta del Angel'</li><li>'Quintana'</li><li>'Recoletos'</li><li>'Rejas'</li><li>'Rios Rosas'</li><li>'Rosas'</li><li>'Salvador'</li><li>'San Andrés'</li><li>'San Cristobal'</li><li>'San Diego'</li><li>'San Fermín'</li><li>'San Isidro'</li><li>'San Juan Bautista'</li><li>'San Pascual'</li><li>'Santa Eugenia'</li><li>'Simancas'</li><li>'Sol'</li><li>'Timón'</li><li>'Trafalgar'</li><li>'Universidad'</li><li>'Valdeacederas'</li><li>'Valdefuentes'</li><li>'Valdemarín'</li><li>'Valdezarza'</li><li>'Vallehermoso'</li><li>'Valverde'</li><li>'Ventas'</li><li>'Vinateros'</li><li>'Vista Alegre'</li><li>'Zofío'</li></ol>\n",
       "</details>"
      ],
      "text/latex": [
       "\\begin{enumerate*}\n",
       "\\item Sol\n",
       "\\item Acacias\n",
       "\\item Palos de Moguer\n",
       "\\item Embajadores\n",
       "\\item Cortes\n",
       "\\item Palacio\n",
       "\\item Universidad\n",
       "\\item Delicias\n",
       "\\item Arapiles\n",
       "\\item Atocha\n",
       "\\item Goya\n",
       "\\end{enumerate*}\n",
       "\n",
       "\\emph{Levels}: \\begin{enumerate*}\n",
       "\\item 'Abrantes'\n",
       "\\item 'Acacias'\n",
       "\\item 'Adelfas'\n",
       "\\item 'Aeropuerto'\n",
       "\\item 'Aguilas'\n",
       "\\item 'Alameda de Osuna'\n",
       "\\item 'Almagro'\n",
       "\\item 'Almenara'\n",
       "\\item 'Almendrales'\n",
       "\\item 'Aluche'\n",
       "\\item 'Ambroz'\n",
       "\\item 'Amposta'\n",
       "\\item 'Apostol Santiago'\n",
       "\\item 'Arapiles'\n",
       "\\item 'Aravaca'\n",
       "\\item 'Arcos'\n",
       "\\item 'Argüelles'\n",
       "\\item 'Atocha'\n",
       "\\item 'Bellas Vistas'\n",
       "\\item 'Berruguete'\n",
       "\\item 'Buenavista'\n",
       "\\item 'Butarque'\n",
       "\\item 'Campamento'\n",
       "\\item 'Canillas'\n",
       "\\item 'Canillejas'\n",
       "\\item 'Cármenes'\n",
       "\\item 'Casa de Campo'\n",
       "\\item 'Casco Histórico de Barajas'\n",
       "\\item 'Casco Histórico de Vallecas'\n",
       "\\item 'Casco Histórico de Vicálvaro'\n",
       "\\item 'Castellana'\n",
       "\\item 'Castilla'\n",
       "\\item 'Castillejos'\n",
       "\\item 'Chopera'\n",
       "\\item 'Ciudad Jardín'\n",
       "\\item 'Ciudad Universitaria'\n",
       "\\item 'Colina'\n",
       "\\item 'Comillas'\n",
       "\\item 'Concepción'\n",
       "\\item 'Corralejos'\n",
       "\\item 'Cortes'\n",
       "\\item 'Costillares'\n",
       "\\item 'Cuatro Caminos'\n",
       "\\item 'Cuatro Vientos'\n",
       "\\item 'Delicias'\n",
       "\\item 'El Goloso'\n",
       "\\item 'El Plantío'\n",
       "\\item 'El Viso'\n",
       "\\item 'Embajadores'\n",
       "\\item 'Entrevías'\n",
       "\\item 'Estrella'\n",
       "\\item 'Fontarrón'\n",
       "\\item 'Fuente del Berro'\n",
       "\\item 'Fuentelareina'\n",
       "\\item 'Gaztambide'\n",
       "\\item 'Goya'\n",
       "\\item 'Guindalera'\n",
       "\\item 'Hellín'\n",
       "\\item 'Hispanoamérica'\n",
       "\\item 'Ibiza'\n",
       "\\item 'Imperial'\n",
       "\\item 'Jerónimos'\n",
       "\\item 'Justicia'\n",
       "\\item 'La Paz'\n",
       "\\item 'Legazpi'\n",
       "\\item 'Lista'\n",
       "\\item 'Los Angeles'\n",
       "\\item 'Los Rosales'\n",
       "\\item 'Lucero'\n",
       "\\item 'Marroquina'\n",
       "\\item 'Media Legua'\n",
       "\\item 'Mirasierra'\n",
       "\\item 'Moscardó'\n",
       "\\item 'Niño Jesús'\n",
       "\\item 'Nueva España'\n",
       "\\item 'Numancia'\n",
       "\\item 'Opañel'\n",
       "\\item 'Orcasitas'\n",
       "\\item 'Orcasur'\n",
       "\\item 'Pacífico'\n",
       "\\item 'Palacio'\n",
       "\\item 'Palomas'\n",
       "\\item 'Palomeras Bajas'\n",
       "\\item 'Palomeras Sureste'\n",
       "\\item 'Palos de Moguer'\n",
       "\\item 'Pavones'\n",
       "\\item 'Peñagrande'\n",
       "\\item 'Pilar'\n",
       "\\item 'Pinar del Rey'\n",
       "\\item 'Piovera'\n",
       "\\item 'Portazgo'\n",
       "\\item 'Pradolongo'\n",
       "\\item 'Prosperidad'\n",
       "\\item 'Pueblo Nuevo'\n",
       "\\item 'Puerta Bonita'\n",
       "\\item 'Puerta del Angel'\n",
       "\\item 'Quintana'\n",
       "\\item 'Recoletos'\n",
       "\\item 'Rejas'\n",
       "\\item 'Rios Rosas'\n",
       "\\item 'Rosas'\n",
       "\\item 'Salvador'\n",
       "\\item 'San Andrés'\n",
       "\\item 'San Cristobal'\n",
       "\\item 'San Diego'\n",
       "\\item 'San Fermín'\n",
       "\\item 'San Isidro'\n",
       "\\item 'San Juan Bautista'\n",
       "\\item 'San Pascual'\n",
       "\\item 'Santa Eugenia'\n",
       "\\item 'Simancas'\n",
       "\\item 'Sol'\n",
       "\\item 'Timón'\n",
       "\\item 'Trafalgar'\n",
       "\\item 'Universidad'\n",
       "\\item 'Valdeacederas'\n",
       "\\item 'Valdefuentes'\n",
       "\\item 'Valdemarín'\n",
       "\\item 'Valdezarza'\n",
       "\\item 'Vallehermoso'\n",
       "\\item 'Valverde'\n",
       "\\item 'Ventas'\n",
       "\\item 'Vinateros'\n",
       "\\item 'Vista Alegre'\n",
       "\\item 'Zofío'\n",
       "\\end{enumerate*}\n"
      ],
      "text/markdown": [
       "1. Sol\n",
       "2. Acacias\n",
       "3. Palos de Moguer\n",
       "4. Embajadores\n",
       "5. Cortes\n",
       "6. Palacio\n",
       "7. Universidad\n",
       "8. Delicias\n",
       "9. Arapiles\n",
       "10. Atocha\n",
       "11. Goya\n",
       "\n",
       "\n",
       "\n",
       "**Levels**: 1. 'Abrantes'\n",
       "2. 'Acacias'\n",
       "3. 'Adelfas'\n",
       "4. 'Aeropuerto'\n",
       "5. 'Aguilas'\n",
       "6. 'Alameda de Osuna'\n",
       "7. 'Almagro'\n",
       "8. 'Almenara'\n",
       "9. 'Almendrales'\n",
       "10. 'Aluche'\n",
       "11. 'Ambroz'\n",
       "12. 'Amposta'\n",
       "13. 'Apostol Santiago'\n",
       "14. 'Arapiles'\n",
       "15. 'Aravaca'\n",
       "16. 'Arcos'\n",
       "17. 'Argüelles'\n",
       "18. 'Atocha'\n",
       "19. 'Bellas Vistas'\n",
       "20. 'Berruguete'\n",
       "21. 'Buenavista'\n",
       "22. 'Butarque'\n",
       "23. 'Campamento'\n",
       "24. 'Canillas'\n",
       "25. 'Canillejas'\n",
       "26. 'Cármenes'\n",
       "27. 'Casa de Campo'\n",
       "28. 'Casco Histórico de Barajas'\n",
       "29. 'Casco Histórico de Vallecas'\n",
       "30. 'Casco Histórico de Vicálvaro'\n",
       "31. 'Castellana'\n",
       "32. 'Castilla'\n",
       "33. 'Castillejos'\n",
       "34. 'Chopera'\n",
       "35. 'Ciudad Jardín'\n",
       "36. 'Ciudad Universitaria'\n",
       "37. 'Colina'\n",
       "38. 'Comillas'\n",
       "39. 'Concepción'\n",
       "40. 'Corralejos'\n",
       "41. 'Cortes'\n",
       "42. 'Costillares'\n",
       "43. 'Cuatro Caminos'\n",
       "44. 'Cuatro Vientos'\n",
       "45. 'Delicias'\n",
       "46. 'El Goloso'\n",
       "47. 'El Plantío'\n",
       "48. 'El Viso'\n",
       "49. 'Embajadores'\n",
       "50. 'Entrevías'\n",
       "51. 'Estrella'\n",
       "52. 'Fontarrón'\n",
       "53. 'Fuente del Berro'\n",
       "54. 'Fuentelareina'\n",
       "55. 'Gaztambide'\n",
       "56. 'Goya'\n",
       "57. 'Guindalera'\n",
       "58. 'Hellín'\n",
       "59. 'Hispanoamérica'\n",
       "60. 'Ibiza'\n",
       "61. 'Imperial'\n",
       "62. 'Jerónimos'\n",
       "63. 'Justicia'\n",
       "64. 'La Paz'\n",
       "65. 'Legazpi'\n",
       "66. 'Lista'\n",
       "67. 'Los Angeles'\n",
       "68. 'Los Rosales'\n",
       "69. 'Lucero'\n",
       "70. 'Marroquina'\n",
       "71. 'Media Legua'\n",
       "72. 'Mirasierra'\n",
       "73. 'Moscardó'\n",
       "74. 'Niño Jesús'\n",
       "75. 'Nueva España'\n",
       "76. 'Numancia'\n",
       "77. 'Opañel'\n",
       "78. 'Orcasitas'\n",
       "79. 'Orcasur'\n",
       "80. 'Pacífico'\n",
       "81. 'Palacio'\n",
       "82. 'Palomas'\n",
       "83. 'Palomeras Bajas'\n",
       "84. 'Palomeras Sureste'\n",
       "85. 'Palos de Moguer'\n",
       "86. 'Pavones'\n",
       "87. 'Peñagrande'\n",
       "88. 'Pilar'\n",
       "89. 'Pinar del Rey'\n",
       "90. 'Piovera'\n",
       "91. 'Portazgo'\n",
       "92. 'Pradolongo'\n",
       "93. 'Prosperidad'\n",
       "94. 'Pueblo Nuevo'\n",
       "95. 'Puerta Bonita'\n",
       "96. 'Puerta del Angel'\n",
       "97. 'Quintana'\n",
       "98. 'Recoletos'\n",
       "99. 'Rejas'\n",
       "100. 'Rios Rosas'\n",
       "101. 'Rosas'\n",
       "102. 'Salvador'\n",
       "103. 'San Andrés'\n",
       "104. 'San Cristobal'\n",
       "105. 'San Diego'\n",
       "106. 'San Fermín'\n",
       "107. 'San Isidro'\n",
       "108. 'San Juan Bautista'\n",
       "109. 'San Pascual'\n",
       "110. 'Santa Eugenia'\n",
       "111. 'Simancas'\n",
       "112. 'Sol'\n",
       "113. 'Timón'\n",
       "114. 'Trafalgar'\n",
       "115. 'Universidad'\n",
       "116. 'Valdeacederas'\n",
       "117. 'Valdefuentes'\n",
       "118. 'Valdemarín'\n",
       "119. 'Valdezarza'\n",
       "120. 'Vallehermoso'\n",
       "121. 'Valverde'\n",
       "122. 'Ventas'\n",
       "123. 'Vinateros'\n",
       "124. 'Vista Alegre'\n",
       "125. 'Zofío'\n",
       "\n",
       "\n"
      ],
      "text/plain": [
       " [1] Sol             Acacias         Palos de Moguer Embajadores    \n",
       " [5] Cortes          Palacio         Universidad     Delicias       \n",
       " [9] Arapiles        Atocha          Goya           \n",
       "125 Levels: Abrantes Acacias Adelfas Aeropuerto Aguilas ... Zofío"
      ]
     },
     "metadata": {},
     "output_type": "display_data"
    }
   ],
   "source": [
    "paste('Los barrios que hay en el código postal 28012 son ', n_distinct(airbnb$Barrio[airbnb$CodigoPostal=='28012'], na.rm = TRUE),': ')\n",
    "unique(na.omit(airbnb$Barrio[airbnb$CodigoPostal=='28012']))\n",
    "\n"
   ]
  },
  {
   "cell_type": "markdown",
   "metadata": {},
   "source": [
    "¿Cuantas entradas hay en cada uno de esos barrios para el codigo postal 28012?"
   ]
  },
  {
   "cell_type": "code",
   "execution_count": 13,
   "metadata": {},
   "outputs": [
    {
     "data": {
      "text/html": [
       "<table>\n",
       "<caption>A tibble: 11 × 2</caption>\n",
       "<thead>\n",
       "\t<tr><th scope=col>Barrio</th><th scope=col>n</th></tr>\n",
       "\t<tr><th scope=col>&lt;fct&gt;</th><th scope=col>&lt;int&gt;</th></tr>\n",
       "</thead>\n",
       "<tbody>\n",
       "\t<tr><td>Acacias        </td><td>  13</td></tr>\n",
       "\t<tr><td>Arapiles       </td><td>   1</td></tr>\n",
       "\t<tr><td>Atocha         </td><td>   1</td></tr>\n",
       "\t<tr><td>Cortes         </td><td> 216</td></tr>\n",
       "\t<tr><td>Delicias       </td><td>   1</td></tr>\n",
       "\t<tr><td>Embajadores    </td><td>1449</td></tr>\n",
       "\t<tr><td>Goya           </td><td>   1</td></tr>\n",
       "\t<tr><td>Palacio        </td><td>  27</td></tr>\n",
       "\t<tr><td>Palos de Moguer</td><td>  46</td></tr>\n",
       "\t<tr><td>Sol            </td><td> 301</td></tr>\n",
       "\t<tr><td>Universidad    </td><td>   4</td></tr>\n",
       "</tbody>\n",
       "</table>\n"
      ],
      "text/latex": [
       "A tibble: 11 × 2\n",
       "\\begin{tabular}{ll}\n",
       " Barrio & n\\\\\n",
       " <fct> & <int>\\\\\n",
       "\\hline\n",
       "\t Acacias         &   13\\\\\n",
       "\t Arapiles        &    1\\\\\n",
       "\t Atocha          &    1\\\\\n",
       "\t Cortes          &  216\\\\\n",
       "\t Delicias        &    1\\\\\n",
       "\t Embajadores     & 1449\\\\\n",
       "\t Goya            &    1\\\\\n",
       "\t Palacio         &   27\\\\\n",
       "\t Palos de Moguer &   46\\\\\n",
       "\t Sol             &  301\\\\\n",
       "\t Universidad     &    4\\\\\n",
       "\\end{tabular}\n"
      ],
      "text/markdown": [
       "\n",
       "A tibble: 11 × 2\n",
       "\n",
       "| Barrio &lt;fct&gt; | n &lt;int&gt; |\n",
       "|---|---|\n",
       "| Acacias         |   13 |\n",
       "| Arapiles        |    1 |\n",
       "| Atocha          |    1 |\n",
       "| Cortes          |  216 |\n",
       "| Delicias        |    1 |\n",
       "| Embajadores     | 1449 |\n",
       "| Goya            |    1 |\n",
       "| Palacio         |   27 |\n",
       "| Palos de Moguer |   46 |\n",
       "| Sol             |  301 |\n",
       "| Universidad     |    4 |\n",
       "\n"
      ],
      "text/plain": [
       "   Barrio          n   \n",
       "1  Acacias           13\n",
       "2  Arapiles           1\n",
       "3  Atocha             1\n",
       "4  Cortes           216\n",
       "5  Delicias           1\n",
       "6  Embajadores     1449\n",
       "7  Goya               1\n",
       "8  Palacio           27\n",
       "9  Palos de Moguer   46\n",
       "10 Sol              301\n",
       "11 Universidad        4"
      ]
     },
     "metadata": {},
     "output_type": "display_data"
    }
   ],
   "source": [
    "airbnb %>% filter(CodigoPostal=='28012')%>% count(Barrio)\n",
    "\n",
    "#summary(airbnb$Barrio[airbnb$CodigoPostal=='28012'])#duda por qué salen todos los demás barrios "
   ]
  },
  {
   "cell_type": "markdown",
   "metadata": {},
   "source": [
    "¿Cuantos barrios hay en todo el dataset airbnb? ¿Cuales son?"
   ]
  },
  {
   "cell_type": "code",
   "execution_count": 14,
   "metadata": {},
   "outputs": [
    {
     "data": {
      "text/html": [
       "<span style=white-space:pre-wrap>'En el dataset de airbnb Madrid hay:  125 barrios. '</span>"
      ],
      "text/latex": [
       "'En el dataset de airbnb Madrid hay:  125 barrios. '"
      ],
      "text/markdown": [
       "<span style=white-space:pre-wrap>'En el dataset de airbnb Madrid hay:  125 barrios. '</span>"
      ],
      "text/plain": [
       "[1] \"En el dataset de airbnb Madrid hay:  125 barrios. \""
      ]
     },
     "metadata": {},
     "output_type": "display_data"
    },
    {
     "data": {
      "text/html": [
       "'Los barrios de airbnb Madrid son:'"
      ],
      "text/latex": [
       "'Los barrios de airbnb Madrid son:'"
      ],
      "text/markdown": [
       "'Los barrios de airbnb Madrid son:'"
      ],
      "text/plain": [
       "[1] \"Los barrios de airbnb Madrid son:\""
      ]
     },
     "metadata": {},
     "output_type": "display_data"
    },
    {
     "data": {
      "text/html": [
       "<style>\n",
       ".list-inline {list-style: none; margin:0; padding: 0}\n",
       ".list-inline>li {display: inline-block}\n",
       ".list-inline>li:not(:last-child)::after {content: \"\\00b7\"; padding: 0 .5ex}\n",
       "</style>\n",
       "<ol class=list-inline><li>'Abrantes'</li><li>'Acacias'</li><li>'Adelfas'</li><li>'Aeropuerto'</li><li>'Aguilas'</li><li>'Alameda de Osuna'</li><li>'Almagro'</li><li>'Almenara'</li><li>'Almendrales'</li><li>'Aluche'</li><li>'Ambroz'</li><li>'Amposta'</li><li>'Apostol Santiago'</li><li>'Arapiles'</li><li>'Aravaca'</li><li>'Arcos'</li><li>'Argüelles'</li><li>'Atocha'</li><li>'Bellas Vistas'</li><li>'Berruguete'</li><li>'Buenavista'</li><li>'Butarque'</li><li>'Campamento'</li><li>'Canillas'</li><li>'Canillejas'</li><li>'Cármenes'</li><li>'Casa de Campo'</li><li>'Casco Histórico de Barajas'</li><li>'Casco Histórico de Vallecas'</li><li>'Casco Histórico de Vicálvaro'</li><li>'Castellana'</li><li>'Castilla'</li><li>'Castillejos'</li><li>'Chopera'</li><li>'Ciudad Jardín'</li><li>'Ciudad Universitaria'</li><li>'Colina'</li><li>'Comillas'</li><li>'Concepción'</li><li>'Corralejos'</li><li>'Cortes'</li><li>'Costillares'</li><li>'Cuatro Caminos'</li><li>'Cuatro Vientos'</li><li>'Delicias'</li><li>'El Goloso'</li><li>'El Plantío'</li><li>'El Viso'</li><li>'Embajadores'</li><li>'Entrevías'</li><li>'Estrella'</li><li>'Fontarrón'</li><li>'Fuente del Berro'</li><li>'Fuentelareina'</li><li>'Gaztambide'</li><li>'Goya'</li><li>'Guindalera'</li><li>'Hellín'</li><li>'Hispanoamérica'</li><li>'Ibiza'</li><li>'Imperial'</li><li>'Jerónimos'</li><li>'Justicia'</li><li>'La Paz'</li><li>'Legazpi'</li><li>'Lista'</li><li>'Los Angeles'</li><li>'Los Rosales'</li><li>'Lucero'</li><li>'Marroquina'</li><li>'Media Legua'</li><li>'Mirasierra'</li><li>'Moscardó'</li><li>'Niño Jesús'</li><li>'Nueva España'</li><li>'Numancia'</li><li>'Opañel'</li><li>'Orcasitas'</li><li>'Orcasur'</li><li>'Pacífico'</li><li>'Palacio'</li><li>'Palomas'</li><li>'Palomeras Bajas'</li><li>'Palomeras Sureste'</li><li>'Palos de Moguer'</li><li>'Pavones'</li><li>'Peñagrande'</li><li>'Pilar'</li><li>'Pinar del Rey'</li><li>'Piovera'</li><li>'Portazgo'</li><li>'Pradolongo'</li><li>'Prosperidad'</li><li>'Pueblo Nuevo'</li><li>'Puerta Bonita'</li><li>'Puerta del Angel'</li><li>'Quintana'</li><li>'Recoletos'</li><li>'Rejas'</li><li>'Rios Rosas'</li><li>'Rosas'</li><li>'Salvador'</li><li>'San Andrés'</li><li>'San Cristobal'</li><li>'San Diego'</li><li>'San Fermín'</li><li>'San Isidro'</li><li>'San Juan Bautista'</li><li>'San Pascual'</li><li>'Santa Eugenia'</li><li>'Simancas'</li><li>'Sol'</li><li>'Timón'</li><li>'Trafalgar'</li><li>'Universidad'</li><li>'Valdeacederas'</li><li>'Valdefuentes'</li><li>'Valdemarín'</li><li>'Valdezarza'</li><li>'Vallehermoso'</li><li>'Valverde'</li><li>'Ventas'</li><li>'Vinateros'</li><li>'Vista Alegre'</li><li>'Zofío'</li></ol>\n"
      ],
      "text/latex": [
       "\\begin{enumerate*}\n",
       "\\item 'Abrantes'\n",
       "\\item 'Acacias'\n",
       "\\item 'Adelfas'\n",
       "\\item 'Aeropuerto'\n",
       "\\item 'Aguilas'\n",
       "\\item 'Alameda de Osuna'\n",
       "\\item 'Almagro'\n",
       "\\item 'Almenara'\n",
       "\\item 'Almendrales'\n",
       "\\item 'Aluche'\n",
       "\\item 'Ambroz'\n",
       "\\item 'Amposta'\n",
       "\\item 'Apostol Santiago'\n",
       "\\item 'Arapiles'\n",
       "\\item 'Aravaca'\n",
       "\\item 'Arcos'\n",
       "\\item 'Argüelles'\n",
       "\\item 'Atocha'\n",
       "\\item 'Bellas Vistas'\n",
       "\\item 'Berruguete'\n",
       "\\item 'Buenavista'\n",
       "\\item 'Butarque'\n",
       "\\item 'Campamento'\n",
       "\\item 'Canillas'\n",
       "\\item 'Canillejas'\n",
       "\\item 'Cármenes'\n",
       "\\item 'Casa de Campo'\n",
       "\\item 'Casco Histórico de Barajas'\n",
       "\\item 'Casco Histórico de Vallecas'\n",
       "\\item 'Casco Histórico de Vicálvaro'\n",
       "\\item 'Castellana'\n",
       "\\item 'Castilla'\n",
       "\\item 'Castillejos'\n",
       "\\item 'Chopera'\n",
       "\\item 'Ciudad Jardín'\n",
       "\\item 'Ciudad Universitaria'\n",
       "\\item 'Colina'\n",
       "\\item 'Comillas'\n",
       "\\item 'Concepción'\n",
       "\\item 'Corralejos'\n",
       "\\item 'Cortes'\n",
       "\\item 'Costillares'\n",
       "\\item 'Cuatro Caminos'\n",
       "\\item 'Cuatro Vientos'\n",
       "\\item 'Delicias'\n",
       "\\item 'El Goloso'\n",
       "\\item 'El Plantío'\n",
       "\\item 'El Viso'\n",
       "\\item 'Embajadores'\n",
       "\\item 'Entrevías'\n",
       "\\item 'Estrella'\n",
       "\\item 'Fontarrón'\n",
       "\\item 'Fuente del Berro'\n",
       "\\item 'Fuentelareina'\n",
       "\\item 'Gaztambide'\n",
       "\\item 'Goya'\n",
       "\\item 'Guindalera'\n",
       "\\item 'Hellín'\n",
       "\\item 'Hispanoamérica'\n",
       "\\item 'Ibiza'\n",
       "\\item 'Imperial'\n",
       "\\item 'Jerónimos'\n",
       "\\item 'Justicia'\n",
       "\\item 'La Paz'\n",
       "\\item 'Legazpi'\n",
       "\\item 'Lista'\n",
       "\\item 'Los Angeles'\n",
       "\\item 'Los Rosales'\n",
       "\\item 'Lucero'\n",
       "\\item 'Marroquina'\n",
       "\\item 'Media Legua'\n",
       "\\item 'Mirasierra'\n",
       "\\item 'Moscardó'\n",
       "\\item 'Niño Jesús'\n",
       "\\item 'Nueva España'\n",
       "\\item 'Numancia'\n",
       "\\item 'Opañel'\n",
       "\\item 'Orcasitas'\n",
       "\\item 'Orcasur'\n",
       "\\item 'Pacífico'\n",
       "\\item 'Palacio'\n",
       "\\item 'Palomas'\n",
       "\\item 'Palomeras Bajas'\n",
       "\\item 'Palomeras Sureste'\n",
       "\\item 'Palos de Moguer'\n",
       "\\item 'Pavones'\n",
       "\\item 'Peñagrande'\n",
       "\\item 'Pilar'\n",
       "\\item 'Pinar del Rey'\n",
       "\\item 'Piovera'\n",
       "\\item 'Portazgo'\n",
       "\\item 'Pradolongo'\n",
       "\\item 'Prosperidad'\n",
       "\\item 'Pueblo Nuevo'\n",
       "\\item 'Puerta Bonita'\n",
       "\\item 'Puerta del Angel'\n",
       "\\item 'Quintana'\n",
       "\\item 'Recoletos'\n",
       "\\item 'Rejas'\n",
       "\\item 'Rios Rosas'\n",
       "\\item 'Rosas'\n",
       "\\item 'Salvador'\n",
       "\\item 'San Andrés'\n",
       "\\item 'San Cristobal'\n",
       "\\item 'San Diego'\n",
       "\\item 'San Fermín'\n",
       "\\item 'San Isidro'\n",
       "\\item 'San Juan Bautista'\n",
       "\\item 'San Pascual'\n",
       "\\item 'Santa Eugenia'\n",
       "\\item 'Simancas'\n",
       "\\item 'Sol'\n",
       "\\item 'Timón'\n",
       "\\item 'Trafalgar'\n",
       "\\item 'Universidad'\n",
       "\\item 'Valdeacederas'\n",
       "\\item 'Valdefuentes'\n",
       "\\item 'Valdemarín'\n",
       "\\item 'Valdezarza'\n",
       "\\item 'Vallehermoso'\n",
       "\\item 'Valverde'\n",
       "\\item 'Ventas'\n",
       "\\item 'Vinateros'\n",
       "\\item 'Vista Alegre'\n",
       "\\item 'Zofío'\n",
       "\\end{enumerate*}\n"
      ],
      "text/markdown": [
       "1. 'Abrantes'\n",
       "2. 'Acacias'\n",
       "3. 'Adelfas'\n",
       "4. 'Aeropuerto'\n",
       "5. 'Aguilas'\n",
       "6. 'Alameda de Osuna'\n",
       "7. 'Almagro'\n",
       "8. 'Almenara'\n",
       "9. 'Almendrales'\n",
       "10. 'Aluche'\n",
       "11. 'Ambroz'\n",
       "12. 'Amposta'\n",
       "13. 'Apostol Santiago'\n",
       "14. 'Arapiles'\n",
       "15. 'Aravaca'\n",
       "16. 'Arcos'\n",
       "17. 'Argüelles'\n",
       "18. 'Atocha'\n",
       "19. 'Bellas Vistas'\n",
       "20. 'Berruguete'\n",
       "21. 'Buenavista'\n",
       "22. 'Butarque'\n",
       "23. 'Campamento'\n",
       "24. 'Canillas'\n",
       "25. 'Canillejas'\n",
       "26. 'Cármenes'\n",
       "27. 'Casa de Campo'\n",
       "28. 'Casco Histórico de Barajas'\n",
       "29. 'Casco Histórico de Vallecas'\n",
       "30. 'Casco Histórico de Vicálvaro'\n",
       "31. 'Castellana'\n",
       "32. 'Castilla'\n",
       "33. 'Castillejos'\n",
       "34. 'Chopera'\n",
       "35. 'Ciudad Jardín'\n",
       "36. 'Ciudad Universitaria'\n",
       "37. 'Colina'\n",
       "38. 'Comillas'\n",
       "39. 'Concepción'\n",
       "40. 'Corralejos'\n",
       "41. 'Cortes'\n",
       "42. 'Costillares'\n",
       "43. 'Cuatro Caminos'\n",
       "44. 'Cuatro Vientos'\n",
       "45. 'Delicias'\n",
       "46. 'El Goloso'\n",
       "47. 'El Plantío'\n",
       "48. 'El Viso'\n",
       "49. 'Embajadores'\n",
       "50. 'Entrevías'\n",
       "51. 'Estrella'\n",
       "52. 'Fontarrón'\n",
       "53. 'Fuente del Berro'\n",
       "54. 'Fuentelareina'\n",
       "55. 'Gaztambide'\n",
       "56. 'Goya'\n",
       "57. 'Guindalera'\n",
       "58. 'Hellín'\n",
       "59. 'Hispanoamérica'\n",
       "60. 'Ibiza'\n",
       "61. 'Imperial'\n",
       "62. 'Jerónimos'\n",
       "63. 'Justicia'\n",
       "64. 'La Paz'\n",
       "65. 'Legazpi'\n",
       "66. 'Lista'\n",
       "67. 'Los Angeles'\n",
       "68. 'Los Rosales'\n",
       "69. 'Lucero'\n",
       "70. 'Marroquina'\n",
       "71. 'Media Legua'\n",
       "72. 'Mirasierra'\n",
       "73. 'Moscardó'\n",
       "74. 'Niño Jesús'\n",
       "75. 'Nueva España'\n",
       "76. 'Numancia'\n",
       "77. 'Opañel'\n",
       "78. 'Orcasitas'\n",
       "79. 'Orcasur'\n",
       "80. 'Pacífico'\n",
       "81. 'Palacio'\n",
       "82. 'Palomas'\n",
       "83. 'Palomeras Bajas'\n",
       "84. 'Palomeras Sureste'\n",
       "85. 'Palos de Moguer'\n",
       "86. 'Pavones'\n",
       "87. 'Peñagrande'\n",
       "88. 'Pilar'\n",
       "89. 'Pinar del Rey'\n",
       "90. 'Piovera'\n",
       "91. 'Portazgo'\n",
       "92. 'Pradolongo'\n",
       "93. 'Prosperidad'\n",
       "94. 'Pueblo Nuevo'\n",
       "95. 'Puerta Bonita'\n",
       "96. 'Puerta del Angel'\n",
       "97. 'Quintana'\n",
       "98. 'Recoletos'\n",
       "99. 'Rejas'\n",
       "100. 'Rios Rosas'\n",
       "101. 'Rosas'\n",
       "102. 'Salvador'\n",
       "103. 'San Andrés'\n",
       "104. 'San Cristobal'\n",
       "105. 'San Diego'\n",
       "106. 'San Fermín'\n",
       "107. 'San Isidro'\n",
       "108. 'San Juan Bautista'\n",
       "109. 'San Pascual'\n",
       "110. 'Santa Eugenia'\n",
       "111. 'Simancas'\n",
       "112. 'Sol'\n",
       "113. 'Timón'\n",
       "114. 'Trafalgar'\n",
       "115. 'Universidad'\n",
       "116. 'Valdeacederas'\n",
       "117. 'Valdefuentes'\n",
       "118. 'Valdemarín'\n",
       "119. 'Valdezarza'\n",
       "120. 'Vallehermoso'\n",
       "121. 'Valverde'\n",
       "122. 'Ventas'\n",
       "123. 'Vinateros'\n",
       "124. 'Vista Alegre'\n",
       "125. 'Zofío'\n",
       "\n",
       "\n"
      ],
      "text/plain": [
       "  [1] \"Abrantes\"                     \"Acacias\"                     \n",
       "  [3] \"Adelfas\"                      \"Aeropuerto\"                  \n",
       "  [5] \"Aguilas\"                      \"Alameda de Osuna\"            \n",
       "  [7] \"Almagro\"                      \"Almenara\"                    \n",
       "  [9] \"Almendrales\"                  \"Aluche\"                      \n",
       " [11] \"Ambroz\"                       \"Amposta\"                     \n",
       " [13] \"Apostol Santiago\"             \"Arapiles\"                    \n",
       " [15] \"Aravaca\"                      \"Arcos\"                       \n",
       " [17] \"Argüelles\"                    \"Atocha\"                      \n",
       " [19] \"Bellas Vistas\"                \"Berruguete\"                  \n",
       " [21] \"Buenavista\"                   \"Butarque\"                    \n",
       " [23] \"Campamento\"                   \"Canillas\"                    \n",
       " [25] \"Canillejas\"                   \"Cármenes\"                    \n",
       " [27] \"Casa de Campo\"                \"Casco Histórico de Barajas\"  \n",
       " [29] \"Casco Histórico de Vallecas\"  \"Casco Histórico de Vicálvaro\"\n",
       " [31] \"Castellana\"                   \"Castilla\"                    \n",
       " [33] \"Castillejos\"                  \"Chopera\"                     \n",
       " [35] \"Ciudad Jardín\"                \"Ciudad Universitaria\"        \n",
       " [37] \"Colina\"                       \"Comillas\"                    \n",
       " [39] \"Concepción\"                   \"Corralejos\"                  \n",
       " [41] \"Cortes\"                       \"Costillares\"                 \n",
       " [43] \"Cuatro Caminos\"               \"Cuatro Vientos\"              \n",
       " [45] \"Delicias\"                     \"El Goloso\"                   \n",
       " [47] \"El Plantío\"                   \"El Viso\"                     \n",
       " [49] \"Embajadores\"                  \"Entrevías\"                   \n",
       " [51] \"Estrella\"                     \"Fontarrón\"                   \n",
       " [53] \"Fuente del Berro\"             \"Fuentelareina\"               \n",
       " [55] \"Gaztambide\"                   \"Goya\"                        \n",
       " [57] \"Guindalera\"                   \"Hellín\"                      \n",
       " [59] \"Hispanoamérica\"               \"Ibiza\"                       \n",
       " [61] \"Imperial\"                     \"Jerónimos\"                   \n",
       " [63] \"Justicia\"                     \"La Paz\"                      \n",
       " [65] \"Legazpi\"                      \"Lista\"                       \n",
       " [67] \"Los Angeles\"                  \"Los Rosales\"                 \n",
       " [69] \"Lucero\"                       \"Marroquina\"                  \n",
       " [71] \"Media Legua\"                  \"Mirasierra\"                  \n",
       " [73] \"Moscardó\"                     \"Niño Jesús\"                  \n",
       " [75] \"Nueva España\"                 \"Numancia\"                    \n",
       " [77] \"Opañel\"                       \"Orcasitas\"                   \n",
       " [79] \"Orcasur\"                      \"Pacífico\"                    \n",
       " [81] \"Palacio\"                      \"Palomas\"                     \n",
       " [83] \"Palomeras Bajas\"              \"Palomeras Sureste\"           \n",
       " [85] \"Palos de Moguer\"              \"Pavones\"                     \n",
       " [87] \"Peñagrande\"                   \"Pilar\"                       \n",
       " [89] \"Pinar del Rey\"                \"Piovera\"                     \n",
       " [91] \"Portazgo\"                     \"Pradolongo\"                  \n",
       " [93] \"Prosperidad\"                  \"Pueblo Nuevo\"                \n",
       " [95] \"Puerta Bonita\"                \"Puerta del Angel\"            \n",
       " [97] \"Quintana\"                     \"Recoletos\"                   \n",
       " [99] \"Rejas\"                        \"Rios Rosas\"                  \n",
       "[101] \"Rosas\"                        \"Salvador\"                    \n",
       "[103] \"San Andrés\"                   \"San Cristobal\"               \n",
       "[105] \"San Diego\"                    \"San Fermín\"                  \n",
       "[107] \"San Isidro\"                   \"San Juan Bautista\"           \n",
       "[109] \"San Pascual\"                  \"Santa Eugenia\"               \n",
       "[111] \"Simancas\"                     \"Sol\"                         \n",
       "[113] \"Timón\"                        \"Trafalgar\"                   \n",
       "[115] \"Universidad\"                  \"Valdeacederas\"               \n",
       "[117] \"Valdefuentes\"                 \"Valdemarín\"                  \n",
       "[119] \"Valdezarza\"                   \"Vallehermoso\"                \n",
       "[121] \"Valverde\"                     \"Ventas\"                      \n",
       "[123] \"Vinateros\"                    \"Vista Alegre\"                \n",
       "[125] \"Zofío\"                       "
      ]
     },
     "metadata": {},
     "output_type": "display_data"
    }
   ],
   "source": [
    "paste('En el dataset de airbnb Madrid hay: ', n_distinct(airbnb$Barrio), 'barrios. ')\n",
    "#str(airbnb$Barrio)\n",
    "\n",
    "paste('Los barrios de airbnb Madrid son:')\n",
    "levels(airbnb$Barrio)\n",
    "\n"
   ]
  },
  {
   "cell_type": "markdown",
   "metadata": {},
   "source": [
    "¿Cuales son los 5 barrios que tienen mayor número entradas?"
   ]
  },
  {
   "cell_type": "code",
   "execution_count": 15,
   "metadata": {},
   "outputs": [
    {
     "data": {
      "text/html": [
       "<style>\n",
       ".dl-inline {width: auto; margin:0; padding: 0}\n",
       ".dl-inline>dt, .dl-inline>dd {float: none; width: auto; display: inline-block}\n",
       ".dl-inline>dt::after {content: \":\\0020\"; padding-right: .5ex}\n",
       ".dl-inline>dt:not(:first-of-type) {padding-left: .5ex}\n",
       "</style><dl class=dl-inline><dt>Embajadores</dt><dd>1844</dd><dt>Universidad</dt><dd>1358</dd><dt>Palacio</dt><dd>1083</dd><dt>Sol</dt><dd>940</dd><dt>Justicia</dt><dd>785</dd></dl>\n"
      ],
      "text/latex": [
       "\\begin{description*}\n",
       "\\item[Embajadores] 1844\n",
       "\\item[Universidad] 1358\n",
       "\\item[Palacio] 1083\n",
       "\\item[Sol] 940\n",
       "\\item[Justicia] 785\n",
       "\\end{description*}\n"
      ],
      "text/markdown": [
       "Embajadores\n",
       ":   1844Universidad\n",
       ":   1358Palacio\n",
       ":   1083Sol\n",
       ":   940Justicia\n",
       ":   785\n",
       "\n"
      ],
      "text/plain": [
       "Embajadores Universidad     Palacio         Sol    Justicia \n",
       "       1844        1358        1083         940         785 "
      ]
     },
     "metadata": {},
     "output_type": "display_data"
    }
   ],
   "source": [
    "head(sort(summary(airbnb$Barrio),decreasing = T),5)"
   ]
  },
  {
   "cell_type": "markdown",
   "metadata": {},
   "source": [
    "¿Cuantos Tipos de Alquiler diferentes hay? ¿Cuales son? ¿Cuantas entradas en el dataframe hay por cada tipo?"
   ]
  },
  {
   "cell_type": "code",
   "execution_count": 16,
   "metadata": {},
   "outputs": [
    {
     "data": {
      "text/html": [
       "<span style=white-space:pre-wrap>'Los tipos de alquiler diferentes en el dataset son:  3  y el tipo y número de entradas por cada tipo son: '</span>"
      ],
      "text/latex": [
       "'Los tipos de alquiler diferentes en el dataset son:  3  y el tipo y número de entradas por cada tipo son: '"
      ],
      "text/markdown": [
       "<span style=white-space:pre-wrap>'Los tipos de alquiler diferentes en el dataset son:  3  y el tipo y número de entradas por cada tipo son: '</span>"
      ],
      "text/plain": [
       "[1] \"Los tipos de alquiler diferentes en el dataset son:  3  y el tipo y número de entradas por cada tipo son: \""
      ]
     },
     "metadata": {},
     "output_type": "display_data"
    },
    {
     "data": {
      "text/html": [
       "<table>\n",
       "<caption>A tibble: 3 × 2</caption>\n",
       "<thead>\n",
       "\t<tr><th scope=col>TipoAlquiler</th><th scope=col>num_entradas_por_tipo</th></tr>\n",
       "\t<tr><th scope=col>&lt;fct&gt;</th><th scope=col>&lt;int&gt;</th></tr>\n",
       "</thead>\n",
       "<tbody>\n",
       "\t<tr><td>Entire home/apt</td><td>7903</td></tr>\n",
       "\t<tr><td>Private room   </td><td>5113</td></tr>\n",
       "\t<tr><td>Shared room    </td><td> 191</td></tr>\n",
       "</tbody>\n",
       "</table>\n"
      ],
      "text/latex": [
       "A tibble: 3 × 2\n",
       "\\begin{tabular}{ll}\n",
       " TipoAlquiler & num\\_entradas\\_por\\_tipo\\\\\n",
       " <fct> & <int>\\\\\n",
       "\\hline\n",
       "\t Entire home/apt & 7903\\\\\n",
       "\t Private room    & 5113\\\\\n",
       "\t Shared room     &  191\\\\\n",
       "\\end{tabular}\n"
      ],
      "text/markdown": [
       "\n",
       "A tibble: 3 × 2\n",
       "\n",
       "| TipoAlquiler &lt;fct&gt; | num_entradas_por_tipo &lt;int&gt; |\n",
       "|---|---|\n",
       "| Entire home/apt | 7903 |\n",
       "| Private room    | 5113 |\n",
       "| Shared room     |  191 |\n",
       "\n"
      ],
      "text/plain": [
       "  TipoAlquiler    num_entradas_por_tipo\n",
       "1 Entire home/apt 7903                 \n",
       "2 Private room    5113                 \n",
       "3 Shared room      191                 "
      ]
     },
     "metadata": {},
     "output_type": "display_data"
    }
   ],
   "source": [
    "paste('Los tipos de alquiler diferentes en el dataset son: ', n_distinct(airbnb$TipoAlquiler), ' y el tipo y número de entradas por cada tipo son: ')\n",
    "\n",
    "airbnb %>% group_by(TipoAlquiler) %>% summarise(num_entradas_por_tipo = n())\n",
    "\n",
    "#airbnb %>% count(TipoAlquiler)"
   ]
  },
  {
   "cell_type": "markdown",
   "metadata": {},
   "source": [
    "Muestra el diagrama de cajas del precio para cada uno de los diferentes Tipos de Alquiler"
   ]
  },
  {
   "cell_type": "code",
   "execution_count": 17,
   "metadata": {},
   "outputs": [
    {
     "name": "stderr",
     "output_type": "stream",
     "text": [
      "Warning message:\n",
      "“Removed 9 rows containing non-finite values (stat_boxplot).”\n"
     ]
    },
    {
     "data": {
      "text/html": [
       "9"
      ],
      "text/latex": [
       "9"
      ],
      "text/markdown": [
       "9"
      ],
      "text/plain": [
       "[1] 9"
      ]
     },
     "metadata": {},
     "output_type": "display_data"
    },
    {
     "data": {
      "image/png": "[encoded data removed]",
      "text/plain": [
       "plot without title"
      ]
     },
     "metadata": {
      "image/png": {
       "height": 600,
       "width": 800
      },
      "text/plain": {
       "height": 600,
       "width": 800
      }
     },
     "output_type": "display_data"
    }
   ],
   "source": [
    "ggplot(airbnb,aes(x=TipoAlquiler,y=Precio,color=TipoAlquiler))+geom_boxplot()+\n",
    "    scale_color_discrete(name=\"Tipo de Alquiler\")\n",
    "#reviso warning: “Removed 9 rows containing non-finite values (stat_boxplot).”\n",
    "sum(is.na(airbnb$Precio)) #compruebo que los 9 valores son NA por lo que dejo la gráfica como está y valoro quitar esas entradas del dataframe\n",
    "#?boxplot\n",
    "#boxplot(Precio ~ TipoAlquiler, airbnb)"
   ]
  },
  {
   "cell_type": "markdown",
   "metadata": {},
   "source": [
    "Cual es el precio medio de alquiler de cada uno, la diferencia que hay ¿es estadísticamente significativa?\n",
    "¿Con que test lo comprobarías?"
   ]
  },
  {
   "cell_type": "code",
   "execution_count": 18,
   "metadata": {
    "scrolled": false
   },
   "outputs": [
    {
     "data": {
      "text/html": [
       "'El precio medio del alquiler por cada grupo ofertado es: '"
      ],
      "text/latex": [
       "'El precio medio del alquiler por cada grupo ofertado es: '"
      ],
      "text/markdown": [
       "'El precio medio del alquiler por cada grupo ofertado es: '"
      ],
      "text/plain": [
       "[1] \"El precio medio del alquiler por cada grupo ofertado es: \""
      ]
     },
     "metadata": {},
     "output_type": "display_data"
    },
    {
     "data": {
      "text/html": [
       "<table>\n",
       "<caption>A tibble: 3 × 2</caption>\n",
       "<thead>\n",
       "\t<tr><th scope=col>TipoAlquiler</th><th scope=col>Precio_medio</th></tr>\n",
       "\t<tr><th scope=col>&lt;fct&gt;</th><th scope=col>&lt;dbl&gt;</th></tr>\n",
       "</thead>\n",
       "<tbody>\n",
       "\t<tr><td>Entire home/apt</td><td>87.30</td></tr>\n",
       "\t<tr><td>Private room   </td><td>34.26</td></tr>\n",
       "\t<tr><td>Shared room    </td><td>29.85</td></tr>\n",
       "</tbody>\n",
       "</table>\n"
      ],
      "text/latex": [
       "A tibble: 3 × 2\n",
       "\\begin{tabular}{ll}\n",
       " TipoAlquiler & Precio\\_medio\\\\\n",
       " <fct> & <dbl>\\\\\n",
       "\\hline\n",
       "\t Entire home/apt & 87.30\\\\\n",
       "\t Private room    & 34.26\\\\\n",
       "\t Shared room     & 29.85\\\\\n",
       "\\end{tabular}\n"
      ],
      "text/markdown": [
       "\n",
       "A tibble: 3 × 2\n",
       "\n",
       "| TipoAlquiler &lt;fct&gt; | Precio_medio &lt;dbl&gt; |\n",
       "|---|---|\n",
       "| Entire home/apt | 87.30 |\n",
       "| Private room    | 34.26 |\n",
       "| Shared room     | 29.85 |\n",
       "\n"
      ],
      "text/plain": [
       "  TipoAlquiler    Precio_medio\n",
       "1 Entire home/apt 87.30       \n",
       "2 Private room    34.26       \n",
       "3 Shared room     29.85       "
      ]
     },
     "metadata": {},
     "output_type": "display_data"
    },
    {
     "data": {
      "text/html": [
       "'Lo primero que tengo que ver para comprobar si la diferencia de las medias es significativa o si es debida al azar es ver si los grupos siguen una distribución gaussiana con el test de Shapiro. Este test tiene un máximo de 5000 entradas y el grupo de entire home tiene 7903, y el de Private room 5113, por ello cojo 5000 elementos para el test de estos dos grupos. Para shared room utilizo todas las entradas para ver su pvalue.'"
      ],
      "text/latex": [
       "'Lo primero que tengo que ver para comprobar si la diferencia de las medias es significativa o si es debida al azar es ver si los grupos siguen una distribución gaussiana con el test de Shapiro. Este test tiene un máximo de 5000 entradas y el grupo de entire home tiene 7903, y el de Private room 5113, por ello cojo 5000 elementos para el test de estos dos grupos. Para shared room utilizo todas las entradas para ver su pvalue.'"
      ],
      "text/markdown": [
       "'Lo primero que tengo que ver para comprobar si la diferencia de las medias es significativa o si es debida al azar es ver si los grupos siguen una distribución gaussiana con el test de Shapiro. Este test tiene un máximo de 5000 entradas y el grupo de entire home tiene 7903, y el de Private room 5113, por ello cojo 5000 elementos para el test de estos dos grupos. Para shared room utilizo todas las entradas para ver su pvalue.'"
      ],
      "text/plain": [
       "[1] \"Lo primero que tengo que ver para comprobar si la diferencia de las medias es significativa o si es debida al azar es ver si los grupos siguen una distribución gaussiana con el test de Shapiro. Este test tiene un máximo de 5000 entradas y el grupo de entire home tiene 7903, y el de Private room 5113, por ello cojo 5000 elementos para el test de estos dos grupos. Para shared room utilizo todas las entradas para ver su pvalue.\""
      ]
     },
     "metadata": {},
     "output_type": "display_data"
    },
    {
     "data": {
      "text/html": [
       "'Al aplicar el test de Shapiro sobre el grupo de Entire Home/apt obtengo un pvalue de: '"
      ],
      "text/latex": [
       "'Al aplicar el test de Shapiro sobre el grupo de Entire Home/apt obtengo un pvalue de: '"
      ],
      "text/markdown": [
       "'Al aplicar el test de Shapiro sobre el grupo de Entire Home/apt obtengo un pvalue de: '"
      ],
      "text/plain": [
       "[1] \"Al aplicar el test de Shapiro sobre el grupo de Entire Home/apt obtengo un pvalue de: \""
      ]
     },
     "metadata": {},
     "output_type": "display_data"
    },
    {
     "name": "stderr",
     "output_type": "stream",
     "text": [
      "Warning message in 1:5000[airbnb_entire$TipoAlquiler]:\n",
      "“numerical expression has 7903 elements: only the first used”\n"
     ]
    },
    {
     "data": {
      "text/html": [
       "1.24077898621874e-72"
      ],
      "text/latex": [
       "1.24077898621874e-72"
      ],
      "text/markdown": [
       "1.24077898621874e-72"
      ],
      "text/plain": [
       "[1] 1.240779e-72"
      ]
     },
     "metadata": {},
     "output_type": "display_data"
    },
    {
     "data": {
      "text/html": [
       "'Al aplicar el test de Shapiro sobre el grupo de Private room obtengo un pvalue de: '"
      ],
      "text/latex": [
       "'Al aplicar el test de Shapiro sobre el grupo de Private room obtengo un pvalue de: '"
      ],
      "text/markdown": [
       "'Al aplicar el test de Shapiro sobre el grupo de Private room obtengo un pvalue de: '"
      ],
      "text/plain": [
       "[1] \"Al aplicar el test de Shapiro sobre el grupo de Private room obtengo un pvalue de: \""
      ]
     },
     "metadata": {},
     "output_type": "display_data"
    },
    {
     "name": "stderr",
     "output_type": "stream",
     "text": [
      "Warning message in 1:5000[airbnb_private$TipoAlquiler]:\n",
      "“numerical expression has 5113 elements: only the first used”\n"
     ]
    },
    {
     "data": {
      "text/html": [
       "9.18974842339072e-85"
      ],
      "text/latex": [
       "9.18974842339072e-85"
      ],
      "text/markdown": [
       "9.18974842339072e-85"
      ],
      "text/plain": [
       "[1] 9.189748e-85"
      ]
     },
     "metadata": {},
     "output_type": "display_data"
    },
    {
     "data": {
      "text/html": [
       "'Al aplicar el test de Shapiro sobre el grupo de Shared room obtengo un pvalue de: '"
      ],
      "text/latex": [
       "'Al aplicar el test de Shapiro sobre el grupo de Shared room obtengo un pvalue de: '"
      ],
      "text/markdown": [
       "'Al aplicar el test de Shapiro sobre el grupo de Shared room obtengo un pvalue de: '"
      ],
      "text/plain": [
       "[1] \"Al aplicar el test de Shapiro sobre el grupo de Shared room obtengo un pvalue de: \""
      ]
     },
     "metadata": {},
     "output_type": "display_data"
    },
    {
     "data": {
      "text/html": [
       "4.51672121600842e-24"
      ],
      "text/latex": [
       "4.51672121600842e-24"
      ],
      "text/markdown": [
       "4.51672121600842e-24"
      ],
      "text/plain": [
       "[1] 4.516721e-24"
      ]
     },
     "metadata": {},
     "output_type": "display_data"
    },
    {
     "data": {
      "text/html": [
       "'el p-valor es muy bajo con lo que puedo decir que la distribución no es normal'"
      ],
      "text/latex": [
       "'el p-valor es muy bajo con lo que puedo decir que la distribución no es normal'"
      ],
      "text/markdown": [
       "'el p-valor es muy bajo con lo que puedo decir que la distribución no es normal'"
      ],
      "text/plain": [
       "[1] \"el p-valor es muy bajo con lo que puedo decir que la distribución no es normal\""
      ]
     },
     "metadata": {},
     "output_type": "display_data"
    },
    {
     "data": {
      "text/html": [
       "'Al no seguir uno de los grupos una distribución Gaussiana, aplico un test de Kruskal-Wallis'"
      ],
      "text/latex": [
       "'Al no seguir uno de los grupos una distribución Gaussiana, aplico un test de Kruskal-Wallis'"
      ],
      "text/markdown": [
       "'Al no seguir uno de los grupos una distribución Gaussiana, aplico un test de Kruskal-Wallis'"
      ],
      "text/plain": [
       "[1] \"Al no seguir uno de los grupos una distribución Gaussiana, aplico un test de Kruskal-Wallis\""
      ]
     },
     "metadata": {},
     "output_type": "display_data"
    },
    {
     "data": {
      "text/plain": [
       "\n",
       "\tKruskal-Wallis rank sum test\n",
       "\n",
       "data:  Precio by TipoAlquiler\n",
       "Kruskal-Wallis chi-squared = 7235.6, df = 2, p-value < 2.2e-16\n"
      ]
     },
     "metadata": {},
     "output_type": "display_data"
    },
    {
     "data": {
      "text/html": [
       "'Con el test Kruskal-Wallis obtengo un p valor muy bajo -menor que alpha 0.05- y puedo decir que las diferencias de las medias son estadísticamente significativas'"
      ],
      "text/latex": [
       "'Con el test Kruskal-Wallis obtengo un p valor muy bajo -menor que alpha 0.05- y puedo decir que las diferencias de las medias son estadísticamente significativas'"
      ],
      "text/markdown": [
       "'Con el test Kruskal-Wallis obtengo un p valor muy bajo -menor que alpha 0.05- y puedo decir que las diferencias de las medias son estadísticamente significativas'"
      ],
      "text/plain": [
       "[1] \"Con el test Kruskal-Wallis obtengo un p valor muy bajo -menor que alpha 0.05- y puedo decir que las diferencias de las medias son estadísticamente significativas\""
      ]
     },
     "metadata": {},
     "output_type": "display_data"
    },
    {
     "data": {
      "text/html": [
       "'Aprovecho y confirmo el resultado con la regresión lineal'"
      ],
      "text/latex": [
       "'Aprovecho y confirmo el resultado con la regresión lineal'"
      ],
      "text/markdown": [
       "'Aprovecho y confirmo el resultado con la regresión lineal'"
      ],
      "text/plain": [
       "[1] \"Aprovecho y confirmo el resultado con la regresión lineal\""
      ]
     },
     "metadata": {},
     "output_type": "display_data"
    },
    {
     "data": {
      "text/plain": [
       "\n",
       "Call:\n",
       "lm(formula = Precio ~ TipoAlquiler, data = airbnb)\n",
       "\n",
       "Residuals:\n",
       "   Min     1Q Median     3Q    Max \n",
       "-77.30 -22.30  -9.26   5.74 787.70 \n",
       "\n",
       "Coefficients:\n",
       "                         Estimate Std. Error t value Pr(>|t|)    \n",
       "(Intercept)               87.2966     0.5578  156.50   <2e-16 ***\n",
       "TipoAlquilerPrivate room -53.0415     0.8898  -59.61   <2e-16 ***\n",
       "TipoAlquilerShared room  -57.4432     3.6296  -15.83   <2e-16 ***\n",
       "---\n",
       "Signif. codes:  0 ‘***’ 0.001 ‘**’ 0.01 ‘*’ 0.05 ‘.’ 0.1 ‘ ’ 1\n",
       "\n",
       "Residual standard error: 49.57 on 13195 degrees of freedom\n",
       "  (9 observations deleted due to missingness)\n",
       "Multiple R-squared:  0.2169,\tAdjusted R-squared:  0.2168 \n",
       "F-statistic:  1828 on 2 and 13195 DF,  p-value: < 2.2e-16\n"
      ]
     },
     "metadata": {},
     "output_type": "display_data"
    }
   ],
   "source": [
    "paste('El precio medio del alquiler por cada grupo ofertado es: ')\n",
    "airbnb %>%\n",
    "  group_by(TipoAlquiler) %>%\n",
    "  summarise(Precio_medio = round(mean(Precio, na.rm = TRUE),2))\n",
    "\n",
    "paste('Lo primero que tengo que ver para comprobar si la diferencia de las medias es significativa o si es debida al azar es ver si los grupos siguen una distribución gaussiana con el test de Shapiro. Este test tiene un máximo de 5000 entradas y el grupo de entire home tiene 7903, y el de Private room 5113, por ello cojo 5000 elementos para el test de estos dos grupos. Para shared room utilizo todas las entradas para ver su pvalue.')\n",
    "#me facilito la aplicación creando un subset de cada tipo de alojamiento de los que tienen más de 5000 entradas. \n",
    "airbnb_entire<-airbnb[airbnb$TipoAlquiler=='Entire home/apt',]\n",
    "airbnb_private<-airbnb[airbnb$TipoAlquiler=='Private room',]\n",
    "\n",
    "#limpio para quitar niveles sin asignaciones que quedan al hacer el subset y me pueden dar error.\n",
    "airbnb_entire$TipoAlquiler<-as.factor(as.numeric(airbnb_entire$TipoAlquiler))\n",
    "airbnb_private$TipoAlquiler<-as.factor(as.numeric(airbnb_private$TipoAlquiler))\n",
    "\n",
    "paste('Al aplicar el test de Shapiro sobre el grupo de Entire Home/apt obtengo un pvalue de: ')\n",
    "shapiro.test(airbnb_entire$Precio[1:5000[airbnb_entire$TipoAlquiler]])$p.value \n",
    "\n",
    "paste('Al aplicar el test de Shapiro sobre el grupo de Private room obtengo un pvalue de: ')\n",
    "shapiro.test(airbnb_private$Precio[1:5000[airbnb_private$TipoAlquiler]])$p.value \n",
    "\n",
    "paste('Al aplicar el test de Shapiro sobre el grupo de Shared room obtengo un pvalue de: ')\n",
    "shapiro.test(airbnb$Precio[airbnb$TipoAlquiler==\"Shared room\"])$p.value\n",
    "\n",
    "paste('el p-valor es muy bajo con lo que puedo decir que la distribución no es normal')\n",
    "\n",
    "paste('Al no seguir uno de los grupos una distribución Gaussiana, aplico un test de Kruskal-Wallis')\n",
    "kruskal.test( Precio ~ TipoAlquiler, data=airbnb)\n",
    "\n",
    "paste('Con el test Kruskal-Wallis obtengo un p valor muy bajo -menor que alpha 0.05- y puedo decir que las diferencias de las medias son estadísticamente significativas')\n",
    "paste('Aprovecho y confirmo el resultado con la regresión lineal')\n",
    "summary(lm(Precio ~ TipoAlquiler, data=airbnb))\n",
    "\n",
    "#pensaba intentar seleccionar una muestra aleatoria de entire home para poder aplicar el test de shapiro, pero no conseguí hacerlo\n",
    "#airbnb_entire$TipoAlquiler<-as.numeric(airbnb_entire$TipoAlquiler)\n",
    "#shapiro.test(airbnb_entire$Precio[sample(1:nrow(airbnb_entire$TipoAlquiler),5000)])$p.value \n",
    "\n"
   ]
  },
  {
   "cell_type": "markdown",
   "metadata": {},
   "source": [
    "Filtra el dataframe cuyos tipo de alquiler sea  'Entire home/apt' y guardalo en un dataframe llamado \n",
    "*airbnb_entire*.\n",
    "Estas serán las entradas que tienen un alquiler del piso completo."
   ]
  },
  {
   "cell_type": "code",
   "execution_count": 19,
   "metadata": {},
   "outputs": [
    {
     "data": {
      "text/plain": [
       "\n",
       "Entire home/apt    Private room     Shared room \n",
       "           7903               0               0 "
      ]
     },
     "metadata": {},
     "output_type": "display_data"
    },
    {
     "name": "stdout",
     "output_type": "stream",
     "text": [
      "'data.frame':\t7903 obs. of  14 variables:\n",
      " $ CodigoPostal   : Factor w/ 61 levels \"28001\",\"28002\",..: 4 4 4 15 4 4 15 4 4 13 ...\n",
      " $ Barrio         : Factor w/ 125 levels \"Abrantes\",\"Acacias\",..: 115 115 115 115 115 115 115 115 115 112 ...\n",
      " $ TipoPropiedad  : Factor w/ 22 levels \"Apartment\",\"Bed & Breakfast\",..: 1 1 16 1 1 1 1 1 1 1 ...\n",
      " $ TipoAlquiler   : Factor w/ 1 level \"1\": 1 1 1 1 1 1 1 1 1 1 ...\n",
      " $ MaxOcupantes   : int  6 3 3 5 2 3 2 4 4 4 ...\n",
      " $ NumBanyos      : num  1 1 2 1 1 1 1 2 1 1 ...\n",
      " $ NumDormitorios : int  3 2 1 1 0 1 1 2 1 1 ...\n",
      " $ NumCamas       : int  5 2 1 1 1 NA 1 2 2 1 ...\n",
      " $ TipoCama       : Factor w/ 5 levels \"Airbed\",\"Couch\",..: 5 5 5 5 5 5 5 5 5 5 ...\n",
      " $ Comodidades    : Factor w/ 11073 levels \"\",\"Air conditioning,Breakfast,Washer,Essentials,Hair dryer\",..: 4020 3249 4039 8369 2047 7436 5618 7736 8582 7255 ...\n",
      " $ PiesCuadrados  : int  NA NA NA 538 NA NA 700 NA 40 646 ...\n",
      " $ Precio         : int  92 55 60 75 55 70 90 155 70 75 ...\n",
      " $ Puntuacion     : int  96 91 100 90 95 84 98 NA 90 91 ...\n",
      " $ MetrosCuadrados: num  NA NA NA 50 NA ...\n"
     ]
    }
   ],
   "source": [
    "airbnb_entire<-airbnb[airbnb$TipoAlquiler=='Entire home/apt',]\n",
    "table(airbnb_entire$TipoAlquiler)\n",
    "\n",
    "airbnb_entire$TipoAlquiler<-as.factor(as.numeric(airbnb_entire$TipoAlquiler))\n",
    "str(airbnb_entire)\n",
    "\n",
    "\n"
   ]
  },
  {
   "cell_type": "markdown",
   "metadata": {},
   "source": [
    "¿Cuáles son los 5 barrios que tienen un mayor número de apartamentos enteros en alquiler?\n",
    "Nota: Mirar solo en airbnb_entire. A partir de este punto y hasta que se diga lo contrario partiremos de airbnb_entire."
   ]
  },
  {
   "cell_type": "code",
   "execution_count": 20,
   "metadata": {},
   "outputs": [
    {
     "data": {
      "text/html": [
       "'Los 5 barrios con un mayor número de apartamentos enteros en alquiler son: '"
      ],
      "text/latex": [
       "'Los 5 barrios con un mayor número de apartamentos enteros en alquiler son: '"
      ],
      "text/markdown": [
       "'Los 5 barrios con un mayor número de apartamentos enteros en alquiler son: '"
      ],
      "text/plain": [
       "[1] \"Los 5 barrios con un mayor número de apartamentos enteros en alquiler son: \""
      ]
     },
     "metadata": {},
     "output_type": "display_data"
    },
    {
     "data": {
      "text/html": [
       "<table>\n",
       "<caption>A tibble: 5 × 2</caption>\n",
       "<thead>\n",
       "\t<tr><th scope=col>Barrio</th><th scope=col>num_aptos_enteros_por_barrio_en_alquiler</th></tr>\n",
       "\t<tr><th scope=col>&lt;fct&gt;</th><th scope=col>&lt;int&gt;</th></tr>\n",
       "</thead>\n",
       "<tbody>\n",
       "\t<tr><td>Embajadores</td><td>1228</td></tr>\n",
       "\t<tr><td>Universidad</td><td> 984</td></tr>\n",
       "\t<tr><td>Palacio    </td><td> 769</td></tr>\n",
       "\t<tr><td>Sol        </td><td> 701</td></tr>\n",
       "\t<tr><td>Cortes     </td><td> 574</td></tr>\n",
       "</tbody>\n",
       "</table>\n"
      ],
      "text/latex": [
       "A tibble: 5 × 2\n",
       "\\begin{tabular}{ll}\n",
       " Barrio & num\\_aptos\\_enteros\\_por\\_barrio\\_en\\_alquiler\\\\\n",
       " <fct> & <int>\\\\\n",
       "\\hline\n",
       "\t Embajadores & 1228\\\\\n",
       "\t Universidad &  984\\\\\n",
       "\t Palacio     &  769\\\\\n",
       "\t Sol         &  701\\\\\n",
       "\t Cortes      &  574\\\\\n",
       "\\end{tabular}\n"
      ],
      "text/markdown": [
       "\n",
       "A tibble: 5 × 2\n",
       "\n",
       "| Barrio &lt;fct&gt; | num_aptos_enteros_por_barrio_en_alquiler &lt;int&gt; |\n",
       "|---|---|\n",
       "| Embajadores | 1228 |\n",
       "| Universidad |  984 |\n",
       "| Palacio     |  769 |\n",
       "| Sol         |  701 |\n",
       "| Cortes      |  574 |\n",
       "\n"
      ],
      "text/plain": [
       "  Barrio      num_aptos_enteros_por_barrio_en_alquiler\n",
       "1 Embajadores 1228                                    \n",
       "2 Universidad  984                                    \n",
       "3 Palacio      769                                    \n",
       "4 Sol          701                                    \n",
       "5 Cortes       574                                    "
      ]
     },
     "metadata": {},
     "output_type": "display_data"
    }
   ],
   "source": [
    "paste('Los 5 barrios con un mayor número de apartamentos enteros en alquiler son: ')\n",
    "airbnb_entire %>%\n",
    "select(Barrio,TipoAlquiler) %>%\n",
    "  group_by(Barrio) %>%\n",
    "  summarise(num_aptos_enteros_por_barrio_en_alquiler = n()) %>%\n",
    "  arrange(desc(num_aptos_enteros_por_barrio_en_alquiler)) %>%\n",
    "  head(n=5)\n",
    "\n",
    "\n",
    "\n"
   ]
  },
  {
   "cell_type": "markdown",
   "metadata": {},
   "source": [
    "¿Cuales son los 5 barrios que tienen un mayor precio medio de alquiler para apartamentos enteros (es decir, del dataframe airbnb_entire)?\n",
    "\n",
    "¿Cual es su precio medio?\n",
    "\n",
    "Ayuda: Usa la función aggregate `aggregate(.~colname,df,mean,na.rm=TRUE)`"
   ]
  },
  {
   "cell_type": "code",
   "execution_count": 21,
   "metadata": {},
   "outputs": [
    {
     "data": {
      "text/html": [
       "'Los 5 barrios con un mayor precio medio de alquiler para apartamentos enteros junto con su precio medio son:'"
      ],
      "text/latex": [
       "'Los 5 barrios con un mayor precio medio de alquiler para apartamentos enteros junto con su precio medio son:'"
      ],
      "text/markdown": [
       "'Los 5 barrios con un mayor precio medio de alquiler para apartamentos enteros junto con su precio medio son:'"
      ],
      "text/plain": [
       "[1] \"Los 5 barrios con un mayor precio medio de alquiler para apartamentos enteros junto con su precio medio son:\""
      ]
     },
     "metadata": {},
     "output_type": "display_data"
    },
    {
     "data": {
      "text/html": [
       "<table>\n",
       "<caption>A tibble: 5 × 2</caption>\n",
       "<thead>\n",
       "\t<tr><th scope=col>Barrio</th><th scope=col>Precio_medio</th></tr>\n",
       "\t<tr><th scope=col>&lt;fct&gt;</th><th scope=col>&lt;dbl&gt;</th></tr>\n",
       "</thead>\n",
       "<tbody>\n",
       "\t<tr><td>Palomas      </td><td>309.75</td></tr>\n",
       "\t<tr><td>Fuentelareina</td><td>180.00</td></tr>\n",
       "\t<tr><td>Recoletos    </td><td>161.93</td></tr>\n",
       "\t<tr><td>El Plantío   </td><td>150.00</td></tr>\n",
       "\t<tr><td>Castellana   </td><td>141.39</td></tr>\n",
       "</tbody>\n",
       "</table>\n"
      ],
      "text/latex": [
       "A tibble: 5 × 2\n",
       "\\begin{tabular}{ll}\n",
       " Barrio & Precio\\_medio\\\\\n",
       " <fct> & <dbl>\\\\\n",
       "\\hline\n",
       "\t Palomas       & 309.75\\\\\n",
       "\t Fuentelareina & 180.00\\\\\n",
       "\t Recoletos     & 161.93\\\\\n",
       "\t El Plantío    & 150.00\\\\\n",
       "\t Castellana    & 141.39\\\\\n",
       "\\end{tabular}\n"
      ],
      "text/markdown": [
       "\n",
       "A tibble: 5 × 2\n",
       "\n",
       "| Barrio &lt;fct&gt; | Precio_medio &lt;dbl&gt; |\n",
       "|---|---|\n",
       "| Palomas       | 309.75 |\n",
       "| Fuentelareina | 180.00 |\n",
       "| Recoletos     | 161.93 |\n",
       "| El Plantío    | 150.00 |\n",
       "| Castellana    | 141.39 |\n",
       "\n"
      ],
      "text/plain": [
       "  Barrio        Precio_medio\n",
       "1 Palomas       309.75      \n",
       "2 Fuentelareina 180.00      \n",
       "3 Recoletos     161.93      \n",
       "4 El Plantío    150.00      \n",
       "5 Castellana    141.39      "
      ]
     },
     "metadata": {},
     "output_type": "display_data"
    },
    {
     "data": {
      "text/html": [
       "<table>\n",
       "<caption>A data.frame: 5 × 2</caption>\n",
       "<thead>\n",
       "\t<tr><th></th><th scope=col>Barrio</th><th scope=col>Precio</th></tr>\n",
       "\t<tr><th></th><th scope=col>&lt;fct&gt;</th><th scope=col>&lt;dbl&gt;</th></tr>\n",
       "</thead>\n",
       "<tbody>\n",
       "\t<tr><th scope=row>77</th><td>Palomas      </td><td>309.7500</td></tr>\n",
       "\t<tr><th scope=row>50</th><td>Fuentelareina</td><td>180.0000</td></tr>\n",
       "\t<tr><th scope=row>93</th><td>Recoletos    </td><td>161.9254</td></tr>\n",
       "\t<tr><th scope=row>43</th><td>El Plantío   </td><td>150.0000</td></tr>\n",
       "\t<tr><th scope=row>30</th><td>Castellana   </td><td>141.3889</td></tr>\n",
       "</tbody>\n",
       "</table>\n"
      ],
      "text/latex": [
       "A data.frame: 5 × 2\n",
       "\\begin{tabular}{r|ll}\n",
       "  & Barrio & Precio\\\\\n",
       "  & <fct> & <dbl>\\\\\n",
       "\\hline\n",
       "\t77 & Palomas       & 309.7500\\\\\n",
       "\t50 & Fuentelareina & 180.0000\\\\\n",
       "\t93 & Recoletos     & 161.9254\\\\\n",
       "\t43 & El Plantío    & 150.0000\\\\\n",
       "\t30 & Castellana    & 141.3889\\\\\n",
       "\\end{tabular}\n"
      ],
      "text/markdown": [
       "\n",
       "A data.frame: 5 × 2\n",
       "\n",
       "| <!--/--> | Barrio &lt;fct&gt; | Precio &lt;dbl&gt; |\n",
       "|---|---|---|\n",
       "| 77 | Palomas       | 309.7500 |\n",
       "| 50 | Fuentelareina | 180.0000 |\n",
       "| 93 | Recoletos     | 161.9254 |\n",
       "| 43 | El Plantío    | 150.0000 |\n",
       "| 30 | Castellana    | 141.3889 |\n",
       "\n"
      ],
      "text/plain": [
       "   Barrio        Precio  \n",
       "77 Palomas       309.7500\n",
       "50 Fuentelareina 180.0000\n",
       "93 Recoletos     161.9254\n",
       "43 El Plantío    150.0000\n",
       "30 Castellana    141.3889"
      ]
     },
     "metadata": {},
     "output_type": "display_data"
    }
   ],
   "source": [
    "paste('Los 5 barrios con un mayor precio medio de alquiler para apartamentos enteros junto con su precio medio son:')\n",
    "#La opción más facil para mí sería: \n",
    "airbnb_entire %>%\n",
    "  group_by(Barrio) %>%\n",
    "  summarise(Precio_medio = round(mean(Precio, na.rm = TRUE),2))%>%\n",
    "  arrange(desc(Precio_medio))%>%\n",
    "  head(5)\n",
    "\n",
    "#según la ayuda: \n",
    "precio_medio_barrio<- aggregate(Precio~Barrio,airbnb_entire,mean,na.rm=TRUE)\n",
    "#obtengo un dataframe y sobre este ordeno y saco las 5 primeras filas. No consigo redondear..\n",
    "precio_medio_barrio[head(order(precio_medio_barrio$Precio,decreasing=T),5),]\n",
    "\n"
   ]
  },
  {
   "cell_type": "markdown",
   "metadata": {},
   "source": [
    "¿Cuantos apartamentos hay en cada uno de esos barrios?\n",
    "\n",
    "Mostrar una dataframe con el nombre del barrio, el precio y el número de entradas.\n",
    "\n",
    "Ayuda: Podeis crear un nuevo dataframe con las columnas \"Barrio\" y \"Freq\" que contenga el número de entradas en cada barrio y hacer un merge con el dataframe del punto anterior."
   ]
  },
  {
   "cell_type": "code",
   "execution_count": 22,
   "metadata": {},
   "outputs": [
    {
     "data": {
      "text/html": [
       "'En cada uno de los barrios de la pregunta anterior, es decir, en los 5 barrios con mayor precio medio de alquiler, hay los siguientes apartamentos: '"
      ],
      "text/latex": [
       "'En cada uno de los barrios de la pregunta anterior, es decir, en los 5 barrios con mayor precio medio de alquiler, hay los siguientes apartamentos: '"
      ],
      "text/markdown": [
       "'En cada uno de los barrios de la pregunta anterior, es decir, en los 5 barrios con mayor precio medio de alquiler, hay los siguientes apartamentos: '"
      ],
      "text/plain": [
       "[1] \"En cada uno de los barrios de la pregunta anterior, es decir, en los 5 barrios con mayor precio medio de alquiler, hay los siguientes apartamentos: \""
      ]
     },
     "metadata": {},
     "output_type": "display_data"
    },
    {
     "data": {
      "text/html": [
       "<table>\n",
       "<caption>A data.frame: 5 × 3</caption>\n",
       "<thead>\n",
       "\t<tr><th></th><th scope=col>Barrio</th><th scope=col>Precio</th><th scope=col>n_aptos</th></tr>\n",
       "\t<tr><th></th><th scope=col>&lt;fct&gt;</th><th scope=col>&lt;dbl&gt;</th><th scope=col>&lt;int&gt;</th></tr>\n",
       "</thead>\n",
       "<tbody>\n",
       "\t<tr><th scope=row>77</th><td>Palomas      </td><td>309.7500</td><td>  4</td></tr>\n",
       "\t<tr><th scope=row>50</th><td>Fuentelareina</td><td>180.0000</td><td>  2</td></tr>\n",
       "\t<tr><th scope=row>93</th><td>Recoletos    </td><td>161.9254</td><td>135</td></tr>\n",
       "\t<tr><th scope=row>43</th><td>El Plantío   </td><td>150.0000</td><td>  1</td></tr>\n",
       "\t<tr><th scope=row>30</th><td>Castellana   </td><td>141.3889</td><td> 73</td></tr>\n",
       "</tbody>\n",
       "</table>\n"
      ],
      "text/latex": [
       "A data.frame: 5 × 3\n",
       "\\begin{tabular}{r|lll}\n",
       "  & Barrio & Precio & n\\_aptos\\\\\n",
       "  & <fct> & <dbl> & <int>\\\\\n",
       "\\hline\n",
       "\t77 & Palomas       & 309.7500 &   4\\\\\n",
       "\t50 & Fuentelareina & 180.0000 &   2\\\\\n",
       "\t93 & Recoletos     & 161.9254 & 135\\\\\n",
       "\t43 & El Plantío    & 150.0000 &   1\\\\\n",
       "\t30 & Castellana    & 141.3889 &  73\\\\\n",
       "\\end{tabular}\n"
      ],
      "text/markdown": [
       "\n",
       "A data.frame: 5 × 3\n",
       "\n",
       "| <!--/--> | Barrio &lt;fct&gt; | Precio &lt;dbl&gt; | n_aptos &lt;int&gt; |\n",
       "|---|---|---|---|\n",
       "| 77 | Palomas       | 309.7500 |   4 |\n",
       "| 50 | Fuentelareina | 180.0000 |   2 |\n",
       "| 93 | Recoletos     | 161.9254 | 135 |\n",
       "| 43 | El Plantío    | 150.0000 |   1 |\n",
       "| 30 | Castellana    | 141.3889 |  73 |\n",
       "\n"
      ],
      "text/plain": [
       "   Barrio        Precio   n_aptos\n",
       "77 Palomas       309.7500   4    \n",
       "50 Fuentelareina 180.0000   2    \n",
       "93 Recoletos     161.9254 135    \n",
       "43 El Plantío    150.0000   1    \n",
       "30 Castellana    141.3889  73    "
      ]
     },
     "metadata": {},
     "output_type": "display_data"
    }
   ],
   "source": [
    "aptos_barrio<-airbnb_entire %>% group_by(Barrio) %>% summarise(n_aptos= n()) \n",
    "\n",
    "frecuencia_aptos_enteros_barrios<-merge(precio_medio_barrio,aptos_barrio, by='Barrio')\n",
    "paste('En cada uno de los barrios de la pregunta anterior, es decir, en los 5 barrios con mayor precio medio de alquiler, hay los siguientes apartamentos: ')\n",
    "frecuencia_aptos_enteros_barrios[head(order(frecuencia_aptos_enteros_barrios$Precio,decreasing=T),5),]\n",
    "\n"
   ]
  },
  {
   "cell_type": "markdown",
   "metadata": {},
   "source": [
    "Partiendo del dataframe anterior, muestra los 5 barrios con mayor precio, pero que tengan más de 100 entradas de alquiler."
   ]
  },
  {
   "cell_type": "code",
   "execution_count": 23,
   "metadata": {},
   "outputs": [
    {
     "data": {
      "text/html": [
       "'Los 5 barrios con mayor precio que tengan más de 100 entradas de alquiler son: '"
      ],
      "text/latex": [
       "'Los 5 barrios con mayor precio que tengan más de 100 entradas de alquiler son: '"
      ],
      "text/markdown": [
       "'Los 5 barrios con mayor precio que tengan más de 100 entradas de alquiler son: '"
      ],
      "text/plain": [
       "[1] \"Los 5 barrios con mayor precio que tengan más de 100 entradas de alquiler son: \""
      ]
     },
     "metadata": {},
     "output_type": "display_data"
    },
    {
     "data": {
      "text/html": [
       "<table>\n",
       "<caption>A data.frame: 5 × 3</caption>\n",
       "<thead>\n",
       "\t<tr><th></th><th scope=col>Barrio</th><th scope=col>Precio</th><th scope=col>n_aptos</th></tr>\n",
       "\t<tr><th></th><th scope=col>&lt;fct&gt;</th><th scope=col>&lt;dbl&gt;</th><th scope=col>&lt;int&gt;</th></tr>\n",
       "</thead>\n",
       "<tbody>\n",
       "\t<tr><th scope=row>1</th><td>Recoletos</td><td>161.92537</td><td>135</td></tr>\n",
       "\t<tr><th scope=row>2</th><td>Goya     </td><td>111.33803</td><td>142</td></tr>\n",
       "\t<tr><th scope=row>3</th><td>Sol      </td><td>100.75036</td><td>701</td></tr>\n",
       "\t<tr><th scope=row>4</th><td>Trafalgar</td><td> 98.57848</td><td>223</td></tr>\n",
       "\t<tr><th scope=row>5</th><td>Justicia </td><td> 98.25468</td><td>534</td></tr>\n",
       "</tbody>\n",
       "</table>\n"
      ],
      "text/latex": [
       "A data.frame: 5 × 3\n",
       "\\begin{tabular}{r|lll}\n",
       "  & Barrio & Precio & n\\_aptos\\\\\n",
       "  & <fct> & <dbl> & <int>\\\\\n",
       "\\hline\n",
       "\t1 & Recoletos & 161.92537 & 135\\\\\n",
       "\t2 & Goya      & 111.33803 & 142\\\\\n",
       "\t3 & Sol       & 100.75036 & 701\\\\\n",
       "\t4 & Trafalgar &  98.57848 & 223\\\\\n",
       "\t5 & Justicia  &  98.25468 & 534\\\\\n",
       "\\end{tabular}\n"
      ],
      "text/markdown": [
       "\n",
       "A data.frame: 5 × 3\n",
       "\n",
       "| <!--/--> | Barrio &lt;fct&gt; | Precio &lt;dbl&gt; | n_aptos &lt;int&gt; |\n",
       "|---|---|---|---|\n",
       "| 1 | Recoletos | 161.92537 | 135 |\n",
       "| 2 | Goya      | 111.33803 | 142 |\n",
       "| 3 | Sol       | 100.75036 | 701 |\n",
       "| 4 | Trafalgar |  98.57848 | 223 |\n",
       "| 5 | Justicia  |  98.25468 | 534 |\n",
       "\n"
      ],
      "text/plain": [
       "  Barrio    Precio    n_aptos\n",
       "1 Recoletos 161.92537 135    \n",
       "2 Goya      111.33803 142    \n",
       "3 Sol       100.75036 701    \n",
       "4 Trafalgar  98.57848 223    \n",
       "5 Justicia   98.25468 534    "
      ]
     },
     "metadata": {},
     "output_type": "display_data"
    }
   ],
   "source": [
    "paste('Los 5 barrios con mayor precio que tengan más de 100 entradas de alquiler son: ')\n",
    "frecuencia_aptos_enteros_barrios %>%\n",
    " filter(n_aptos>100) %>%\n",
    " arrange(desc(Precio)) %>%\n",
    " head(5)\n",
    "    \n"
   ]
  },
  {
   "cell_type": "markdown",
   "metadata": {},
   "source": [
    "Dibuja el diagrama de densidad de distribución de los diferentes precios. Serían 5 gráficas, una por cada barrio."
   ]
  },
  {
   "cell_type": "code",
   "execution_count": 24,
   "metadata": {},
   "outputs": [
    {
     "data": {
      "text/html": [
       "'Los diagramas de densidad de distribución de los 5 barrios más caros con más de 100 entradas son:'"
      ],
      "text/latex": [
       "'Los diagramas de densidad de distribución de los 5 barrios más caros con más de 100 entradas son:'"
      ],
      "text/markdown": [
       "'Los diagramas de densidad de distribución de los 5 barrios más caros con más de 100 entradas son:'"
      ],
      "text/plain": [
       "[1] \"Los diagramas de densidad de distribución de los 5 barrios más caros con más de 100 entradas son:\""
      ]
     },
     "metadata": {},
     "output_type": "display_data"
    },
    {
     "name": "stderr",
     "output_type": "stream",
     "text": [
      "Warning message:\n",
      "“Removed 1 rows containing non-finite values (stat_density).”\n"
     ]
    },
    {
     "data": {
      "image/png": "[encoded data removed]",
      "text/plain": [
       "plot without title"
      ]
     },
     "metadata": {
      "image/png": {
       "height": 800,
       "width": 800
      },
      "text/plain": {
       "height": 800,
       "width": 800
      }
     },
     "output_type": "display_data"
    }
   ],
   "source": [
    "options(repr.plot.height=8,repr.plot.width=8 , repr.plot.res = 200)\n",
    "\n",
    "paste('Los diagramas de densidad de distribución de los 5 barrios más caros con más de 100 entradas son:')\n",
    "barrio_Recoletos<-subset(airbnb_entire,Barrio==\"Recoletos\")\n",
    "\n",
    "g1<- ggplot(barrio_Recoletos, aes(x=Precio))+ geom_density(bw=5)+xlab(\"Precio-Recoletos\")\n",
    "\n",
    "#paste('El diagrama de densidad de distribución del Barrio de Goya sería:')\n",
    "barrio_Goya<-subset(airbnb_entire,Barrio==\"Goya\")\n",
    "g2<- ggplot(barrio_Goya, aes(x=Precio))+ geom_density(bw=5)+xlab(\"Precio-Goya\")\n",
    "\n",
    "#paste('El diagrama de densidad de distribución del Barrio de Sol sería:')\n",
    "barrio_Sol<-subset(airbnb_entire,Barrio==\"Sol\")\n",
    "g3<- ggplot(barrio_Sol, aes(x=Precio))+ geom_density(bw=5)+xlab(\"Precio-Sol\")\n",
    "\n",
    "#paste('El diagrama de densidad de distribución del Barrio de Trafalgar sería:')\n",
    "barrio_Trafalgar<-subset(airbnb_entire,Barrio==\"Trafalgar\")\n",
    "g4<- ggplot(barrio_Trafalgar, aes(x=Precio))+ geom_density(bw=5)+xlab(\"Precio-Trafalgar\")\n",
    "\n",
    "#paste('El diagrama de densidad de distribución del Barrio de Justicia sería:')\n",
    "barrio_Justicia<-subset(airbnb_entire,Barrio==\"Justicia\")\n",
    "g5<- ggplot(barrio_Justicia, aes(x=Precio))+ geom_density(bw=5)+xlab(\"Precio-Justicia\")\n",
    "\n",
    "grid.arrange(g1, g2, g3, g4,g5, nrow = 3,top = textGrob(\"Barrios más caros de más de 100 entradas\",gp=gpar(fontsize=10,font=3)))"
   ]
  },
  {
   "cell_type": "markdown",
   "metadata": {},
   "source": [
    "Calcula el tamaño medio, en metros cuadrados, para los 5 barrios anteriores y muestralo en el mismo dataframe junto con el precio y número de entradas"
   ]
  },
  {
   "cell_type": "code",
   "execution_count": 25,
   "metadata": {},
   "outputs": [
    {
     "data": {
      "text/html": [
       "<table>\n",
       "<caption>A data.frame: 5 × 4</caption>\n",
       "<thead>\n",
       "\t<tr><th></th><th scope=col>Barrio</th><th scope=col>Precio</th><th scope=col>n_aptos</th><th scope=col>MetrosCuadrados</th></tr>\n",
       "\t<tr><th></th><th scope=col>&lt;fct&gt;</th><th scope=col>&lt;dbl&gt;</th><th scope=col>&lt;int&gt;</th><th scope=col>&lt;dbl&gt;</th></tr>\n",
       "</thead>\n",
       "<tbody>\n",
       "\t<tr><th scope=row>1</th><td>Recoletos</td><td>161.92537</td><td>135</td><td>26.66333</td></tr>\n",
       "\t<tr><th scope=row>2</th><td>Goya     </td><td>111.33803</td><td>142</td><td>77.52500</td></tr>\n",
       "\t<tr><th scope=row>3</th><td>Sol      </td><td>100.75036</td><td>701</td><td>68.42625</td></tr>\n",
       "\t<tr><th scope=row>4</th><td>Trafalgar</td><td> 98.57848</td><td>223</td><td>51.28250</td></tr>\n",
       "\t<tr><th scope=row>5</th><td>Justicia </td><td> 98.25468</td><td>534</td><td>53.88444</td></tr>\n",
       "</tbody>\n",
       "</table>\n"
      ],
      "text/latex": [
       "A data.frame: 5 × 4\n",
       "\\begin{tabular}{r|llll}\n",
       "  & Barrio & Precio & n\\_aptos & MetrosCuadrados\\\\\n",
       "  & <fct> & <dbl> & <int> & <dbl>\\\\\n",
       "\\hline\n",
       "\t1 & Recoletos & 161.92537 & 135 & 26.66333\\\\\n",
       "\t2 & Goya      & 111.33803 & 142 & 77.52500\\\\\n",
       "\t3 & Sol       & 100.75036 & 701 & 68.42625\\\\\n",
       "\t4 & Trafalgar &  98.57848 & 223 & 51.28250\\\\\n",
       "\t5 & Justicia  &  98.25468 & 534 & 53.88444\\\\\n",
       "\\end{tabular}\n"
      ],
      "text/markdown": [
       "\n",
       "A data.frame: 5 × 4\n",
       "\n",
       "| <!--/--> | Barrio &lt;fct&gt; | Precio &lt;dbl&gt; | n_aptos &lt;int&gt; | MetrosCuadrados &lt;dbl&gt; |\n",
       "|---|---|---|---|---|\n",
       "| 1 | Recoletos | 161.92537 | 135 | 26.66333 |\n",
       "| 2 | Goya      | 111.33803 | 142 | 77.52500 |\n",
       "| 3 | Sol       | 100.75036 | 701 | 68.42625 |\n",
       "| 4 | Trafalgar |  98.57848 | 223 | 51.28250 |\n",
       "| 5 | Justicia  |  98.25468 | 534 | 53.88444 |\n",
       "\n"
      ],
      "text/plain": [
       "  Barrio    Precio    n_aptos MetrosCuadrados\n",
       "1 Recoletos 161.92537 135     26.66333       \n",
       "2 Goya      111.33803 142     77.52500       \n",
       "3 Sol       100.75036 701     68.42625       \n",
       "4 Trafalgar  98.57848 223     51.28250       \n",
       "5 Justicia   98.25468 534     53.88444       "
      ]
     },
     "metadata": {},
     "output_type": "display_data"
    }
   ],
   "source": [
    "#Recuerdo que en la limpieza de datos cambié los metros cuadrados que tenían valor 0 por NA.\n",
    "#Valorar si con esto es suficiente o es necesario limpiar algún dato más. \n",
    "#Pendiente comprobar si hay apartamentos enteros con menos x(10-20?) metros cuadrados y quitarlos?  \n",
    "tamaño_medio_barrio<- aggregate(MetrosCuadrados~Barrio,airbnb_entire,mean,na.rm=TRUE)\n",
    "tamaño_frecuencia_barrios<-merge(frecuencia_aptos_enteros_barrios,tamaño_medio_barrio, by='Barrio')\n",
    "\n",
    "tamaño_frecuencia_barrios %>% \n",
    " filter(n_aptos>100) %>%\n",
    " arrange(desc(Precio)) %>%\n",
    " head(5)"
   ]
  },
  {
   "cell_type": "markdown",
   "metadata": {},
   "source": [
    "Dibuja el diagrama de densidad de distribución de los diferentes tamaños de apartamentos. Serían 5 gráficas, una por cada barrio."
   ]
  },
  {
   "cell_type": "code",
   "execution_count": 26,
   "metadata": {
    "scrolled": false
   },
   "outputs": [
    {
     "data": {
      "text/html": [
       "'Los diagramas de densidad de distribución de los tamaños de los 5 barrios más caros con más de 100 entradas son:'"
      ],
      "text/latex": [
       "'Los diagramas de densidad de distribución de los tamaños de los 5 barrios más caros con más de 100 entradas son:'"
      ],
      "text/markdown": [
       "'Los diagramas de densidad de distribución de los tamaños de los 5 barrios más caros con más de 100 entradas son:'"
      ],
      "text/plain": [
       "[1] \"Los diagramas de densidad de distribución de los tamaños de los 5 barrios más caros con más de 100 entradas son:\""
      ]
     },
     "metadata": {},
     "output_type": "display_data"
    },
    {
     "name": "stderr",
     "output_type": "stream",
     "text": [
      "Warning message:\n",
      "“Removed 132 rows containing non-finite values (stat_density).”\n",
      "Warning message:\n",
      "“Removed 140 rows containing non-finite values (stat_density).”\n"
     ]
    },
    {
     "data": {
      "image/png": "[encoded data removed]",
      "text/plain": [
       "plot without title"
      ]
     },
     "metadata": {
      "image/png": {
       "height": 800,
       "width": 800
      },
      "text/plain": {
       "height": 800,
       "width": 800
      }
     },
     "output_type": "display_data"
    }
   ],
   "source": [
    "paste('Los diagramas de densidad de distribución de los tamaños de los 5 barrios más caros con más de 100 entradas son:')\n",
    "barrio_Recoletos<-subset(airbnb_entire,Barrio==\"Recoletos\")\n",
    "\n",
    "g1<- ggplot(barrio_Recoletos, aes(x=MetrosCuadrados))+ geom_density()+xlab(\"Metros cuadrados-Recoletos\")\n",
    "\n",
    "#paste('El diagrama de densidad de distribución del Barrio de Goya sería:')\n",
    "barrio_Goya<-subset(airbnb_entire,Barrio==\"Goya\")\n",
    "g2<- ggplot(barrio_Goya, aes(x=MetrosCuadrados))+ geom_density()+xlab(\"Metros cuadrados-Goya\")\n",
    "\n",
    "#paste('El diagrama de densidad de distribución del Barrio de Sol sería:')\n",
    "barrio_Sol<-subset(airbnb_entire,Barrio==\"Sol\")\n",
    "g3<- ggplot(barrio_Sol, aes(x=Precio))+ geom_density()+xlab(\"Metros cuadrados-Sol\")\n",
    "\n",
    "#paste('El diagrama de densidad de distribución del Barrio de Trafalgar sería:')\n",
    "barrio_Trafalgar<-subset(airbnb_entire,Barrio==\"Trafalgar\")\n",
    "g4<- ggplot(barrio_Trafalgar, aes(x=Precio))+ geom_density()+xlab(\"Metros cuadrados-Trafalgar\")\n",
    "\n",
    "#paste('El diagrama de densidad de distribución del Barrio de Justicia sería:')\n",
    "barrio_Justicia<-subset(airbnb_entire,Barrio==\"Justicia\")\n",
    "g5<- ggplot(barrio_Justicia, aes(x=Precio))+ geom_density()+xlab(\"Metros cuadrados-Justicia\")\n",
    "\n",
    "grid.arrange(g1, g2, g3, g4,g5, nrow = 3,top = textGrob(\"Barrios más caros de más de 100 entradas\",gp=gpar(fontsize=10,font=3)))\n",
    "\n",
    "#pruebo con diferentes bw y me parece que dejar el valor por defecto es lo más visual para la comparación de las gráficas"
   ]
  },
  {
   "cell_type": "markdown",
   "metadata": {},
   "source": [
    "Esta claro que las medias de cada uno de estos 5 barrios parecen ser diferentes, pero ¿son estadísticamente diferentes?\n",
    "¿Que test habría que usar para comprobarlo?"
   ]
  },
  {
   "cell_type": "code",
   "execution_count": 27,
   "metadata": {},
   "outputs": [
    {
     "data": {
      "text/html": [
       "'Al ser 3 o más grupos, el primer test para comprobar si las diferencias son significativas es Shapiro para ver si siguen una distribución gaussiana.Pruebo con Recoletos y el pvalue es 0 con lo que no es gaussiana y tengo que pasar al test de Kruskal. Pruebo también con Sol y aunque algo mayor, el pvalue es bajo.'"
      ],
      "text/latex": [
       "'Al ser 3 o más grupos, el primer test para comprobar si las diferencias son significativas es Shapiro para ver si siguen una distribución gaussiana.Pruebo con Recoletos y el pvalue es 0 con lo que no es gaussiana y tengo que pasar al test de Kruskal. Pruebo también con Sol y aunque algo mayor, el pvalue es bajo.'"
      ],
      "text/markdown": [
       "'Al ser 3 o más grupos, el primer test para comprobar si las diferencias son significativas es Shapiro para ver si siguen una distribución gaussiana.Pruebo con Recoletos y el pvalue es 0 con lo que no es gaussiana y tengo que pasar al test de Kruskal. Pruebo también con Sol y aunque algo mayor, el pvalue es bajo.'"
      ],
      "text/plain": [
       "[1] \"Al ser 3 o más grupos, el primer test para comprobar si las diferencias son significativas es Shapiro para ver si siguen una distribución gaussiana.Pruebo con Recoletos y el pvalue es 0 con lo que no es gaussiana y tengo que pasar al test de Kruskal. Pruebo también con Sol y aunque algo mayor, el pvalue es bajo.\""
      ]
     },
     "metadata": {},
     "output_type": "display_data"
    },
    {
     "data": {
      "text/html": [
       "<span style=white-space:pre-wrap>'El pvalue para Recoletos es:  0'</span>"
      ],
      "text/latex": [
       "'El pvalue para Recoletos es:  0'"
      ],
      "text/markdown": [
       "<span style=white-space:pre-wrap>'El pvalue para Recoletos es:  0'</span>"
      ],
      "text/plain": [
       "[1] \"El pvalue para Recoletos es:  0\""
      ]
     },
     "metadata": {},
     "output_type": "display_data"
    },
    {
     "data": {
      "text/html": [
       "<span style=white-space:pre-wrap>'El pvalue para Sol es:  0.00352781216815295'</span>"
      ],
      "text/latex": [
       "'El pvalue para Sol es:  0.00352781216815295'"
      ],
      "text/markdown": [
       "<span style=white-space:pre-wrap>'El pvalue para Sol es:  0.00352781216815295'</span>"
      ],
      "text/plain": [
       "[1] \"El pvalue para Sol es:  0.00352781216815295\""
      ]
     },
     "metadata": {},
     "output_type": "display_data"
    },
    {
     "data": {
      "text/plain": [
       "\n",
       "\tKruskal-Wallis rank sum test\n",
       "\n",
       "data:  MetrosCuadrados by Barrio\n",
       "Kruskal-Wallis chi-squared = 66.939, df = 43, p-value = 0.01117\n"
      ]
     },
     "metadata": {},
     "output_type": "display_data"
    },
    {
     "data": {
      "text/html": [
       "'Al ser un valor bajo de pvalue en Kruskal puedo decir que en principio, con las modificaciones que hice al empezar convirtiendo los apartamentos de 0 m cuadrados en NA, las diferencias de las medias son estadísticamente significativas'"
      ],
      "text/latex": [
       "'Al ser un valor bajo de pvalue en Kruskal puedo decir que en principio, con las modificaciones que hice al empezar convirtiendo los apartamentos de 0 m cuadrados en NA, las diferencias de las medias son estadísticamente significativas'"
      ],
      "text/markdown": [
       "'Al ser un valor bajo de pvalue en Kruskal puedo decir que en principio, con las modificaciones que hice al empezar convirtiendo los apartamentos de 0 m cuadrados en NA, las diferencias de las medias son estadísticamente significativas'"
      ],
      "text/plain": [
       "[1] \"Al ser un valor bajo de pvalue en Kruskal puedo decir que en principio, con las modificaciones que hice al empezar convirtiendo los apartamentos de 0 m cuadrados en NA, las diferencias de las medias son estadísticamente significativas\""
      ]
     },
     "metadata": {},
     "output_type": "display_data"
    }
   ],
   "source": [
    "paste('Al ser 3 o más grupos, el primer test para comprobar si las diferencias son significativas es Shapiro para ver si siguen una distribución gaussiana.Pruebo con Recoletos y el pvalue es 0 con lo que no es gaussiana y tengo que pasar al test de Kruskal. Pruebo también con Sol y aunque algo mayor, el pvalue es bajo.')\n",
    "paste('El pvalue para Recoletos es: ', shapiro.test(airbnb_entire$MetrosCuadrados[airbnb_entire$Barrio==\"Recoletos\"])$p.value)\n",
    "\n",
    "#Aunque Recoletos me sale a 0 y ya sé que tengo que hacer Kruskal pruebo con Goya y no sé por qué me dice que Goya tiene más de 5000 entradas cuando tiene sólo 142.\n",
    "#Pruebo con Sol tmbién y me sale un pvalue bajo con lo que confirmo que tengo que hacer Kruskal. \n",
    "#agradecería pistas sobre por qué me falla Goya. \n",
    "#table(airbnb_entire$Barrio)\n",
    "paste('El pvalue para Sol es: ', shapiro.test(airbnb_entire$MetrosCuadrados[airbnb_entire$Barrio==\"Sol\"])$p.value)\n",
    "#shapiro.test(airbnb_entire$MetrosCuadrados[airbnb_entire$Barrio==\"Goya\"])$p.value\n",
    "\n",
    "barrios_caros<-airbnb_entire[airbnb_entire$Barrio %in% c(\"Recoletos\", \"Goya\", \"Sol\", \"Trafalgar\", \"Justicia\"), ]\n",
    "\n",
    "kruskal.test( MetrosCuadrados ~ Barrio, data=airbnb_entire)\n",
    "\n",
    "paste('Al ser un valor bajo de pvalue en Kruskal puedo decir que en principio, con las modificaciones que hice al empezar convirtiendo los apartamentos de 0 m cuadrados en NA, las diferencias de las medias son estadísticamente significativas')"
   ]
  },
  {
   "cell_type": "markdown",
   "metadata": {},
   "source": [
    "Para únicamente los pisos de alquiler en el barrio de Sol:\n",
    "\n",
    "``barrio_sol<-subset(airbnb_entire,Barrio==\"Sol\")``\n",
    "\n",
    "Calcular un modelo lineal que combine alguna de estas variables:\n",
    "* NumBanyos\n",
    "* NumDormitorios\n",
    "* MaxOcupantes\n",
    "* MetrosCuadrados"
   ]
  },
  {
   "cell_type": "code",
   "execution_count": 28,
   "metadata": {},
   "outputs": [
    {
     "name": "stdout",
     "output_type": "stream",
     "text": [
      "'data.frame':\t701 obs. of  14 variables:\n",
      " $ CodigoPostal   : Factor w/ 61 levels \"28001\",\"28002\",..: 13 13 13 12 13 13 5 13 12 12 ...\n",
      " $ Barrio         : Factor w/ 125 levels \"Abrantes\",\"Acacias\",..: 112 112 112 112 112 112 112 112 112 112 ...\n",
      " $ TipoPropiedad  : Factor w/ 22 levels \"Apartment\",\"Bed & Breakfast\",..: 1 9 1 1 1 1 1 1 1 1 ...\n",
      " $ TipoAlquiler   : Factor w/ 1 level \"1\": 1 1 1 1 1 1 1 1 1 1 ...\n",
      " $ MaxOcupantes   : int  4 6 4 6 4 4 10 6 4 4 ...\n",
      " $ NumBanyos      : num  1 1 1 1 1 1 2 1 1 1 ...\n",
      " $ NumDormitorios : int  1 2 1 2 1 1 4 2 1 1 ...\n",
      " $ NumCamas       : int  1 3 2 2 2 2 7 4 2 1 ...\n",
      " $ TipoCama       : Factor w/ 5 levels \"Airbed\",\"Couch\",..: 5 5 5 5 5 5 5 5 5 5 ...\n",
      " $ Comodidades    : Factor w/ 11073 levels \"\",\"Air conditioning,Breakfast,Washer,Essentials,Hair dryer\",..: 7255 7258 3139 4365 3955 9417 3872 4559 3565 1649 ...\n",
      " $ PiesCuadrados  : int  646 NA NA NA NA NA NA NA NA 753 ...\n",
      " $ Precio         : int  75 130 100 160 49 70 210 120 50 100 ...\n",
      " $ Puntuacion     : int  91 100 97 95 95 88 81 99 91 87 ...\n",
      " $ MetrosCuadrados: num  60 NA NA NA NA ...\n"
     ]
    },
    {
     "data": {
      "text/plain": [
       "\n",
       "Call:\n",
       "lm(formula = Precio ~ NumBanyos + NumDormitorios + MaxOcupantes + \n",
       "    MetrosCuadrados, data = barrio_sol)\n",
       "\n",
       "Residuals:\n",
       "    Min      1Q  Median      3Q     Max \n",
       "-78.613 -15.964  -2.284  15.983  69.387 \n",
       "\n",
       "Coefficients:\n",
       "                Estimate Std. Error t value Pr(>|t|)    \n",
       "(Intercept)      32.5855    10.7808   3.023 0.004666 ** \n",
       "NumBanyos         0.7012    13.4709   0.052 0.958782    \n",
       "NumDormitorios   29.8083     7.3856   4.036 0.000281 ***\n",
       "MaxOcupantes      1.9378     3.9943   0.485 0.630605    \n",
       "MetrosCuadrados   0.1880     0.1578   1.192 0.241423    \n",
       "---\n",
       "Signif. codes:  0 ‘***’ 0.001 ‘**’ 0.01 ‘*’ 0.05 ‘.’ 0.1 ‘ ’ 1\n",
       "\n",
       "Residual standard error: 29.48 on 35 degrees of freedom\n",
       "  (661 observations deleted due to missingness)\n",
       "Multiple R-squared:  0.7562,\tAdjusted R-squared:  0.7284 \n",
       "F-statistic: 27.14 on 4 and 35 DF,  p-value: 2.666e-10\n"
      ]
     },
     "metadata": {},
     "output_type": "display_data"
    }
   ],
   "source": [
    "barrio_sol<-subset(airbnb_entire,Barrio==\"Sol\")\n",
    "str(barrio_sol)\n",
    "\n",
    "sol_lm<-lm(data= barrio_sol, formula= Precio ~ NumBanyos + NumDormitorios + MaxOcupantes + MetrosCuadrados)\n",
    "summary(sol_lm)"
   ]
  },
  {
   "cell_type": "markdown",
   "metadata": {},
   "source": [
    "Primero calculamos la correlación para ver como se relacionan estas variables entre sí."
   ]
  },
  {
   "cell_type": "code",
   "execution_count": 29,
   "metadata": {
    "scrolled": false
   },
   "outputs": [
    {
     "data": {
      "text/html": [
       "<table>\n",
       "<caption>A matrix: 4 × 4 of type dbl</caption>\n",
       "<thead>\n",
       "\t<tr><th></th><th scope=col>NumBanyos</th><th scope=col>NumDormitorios</th><th scope=col>MaxOcupantes</th><th scope=col>MetrosCuadrados</th></tr>\n",
       "</thead>\n",
       "<tbody>\n",
       "\t<tr><th scope=row>NumBanyos</th><td>1.0000000</td><td>0.6761906</td><td>0.6578162</td><td>0.5711959</td></tr>\n",
       "\t<tr><th scope=row>NumDormitorios</th><td>0.6761906</td><td>1.0000000</td><td>0.7594598</td><td>0.7717363</td></tr>\n",
       "\t<tr><th scope=row>MaxOcupantes</th><td>0.6578162</td><td>0.7594598</td><td>1.0000000</td><td>0.7108110</td></tr>\n",
       "\t<tr><th scope=row>MetrosCuadrados</th><td>0.5711959</td><td>0.7717363</td><td>0.7108110</td><td>1.0000000</td></tr>\n",
       "</tbody>\n",
       "</table>\n"
      ],
      "text/latex": [
       "A matrix: 4 × 4 of type dbl\n",
       "\\begin{tabular}{r|llll}\n",
       "  & NumBanyos & NumDormitorios & MaxOcupantes & MetrosCuadrados\\\\\n",
       "\\hline\n",
       "\tNumBanyos & 1.0000000 & 0.6761906 & 0.6578162 & 0.5711959\\\\\n",
       "\tNumDormitorios & 0.6761906 & 1.0000000 & 0.7594598 & 0.7717363\\\\\n",
       "\tMaxOcupantes & 0.6578162 & 0.7594598 & 1.0000000 & 0.7108110\\\\\n",
       "\tMetrosCuadrados & 0.5711959 & 0.7717363 & 0.7108110 & 1.0000000\\\\\n",
       "\\end{tabular}\n"
      ],
      "text/markdown": [
       "\n",
       "A matrix: 4 × 4 of type dbl\n",
       "\n",
       "| <!--/--> | NumBanyos | NumDormitorios | MaxOcupantes | MetrosCuadrados |\n",
       "|---|---|---|---|---|\n",
       "| NumBanyos | 1.0000000 | 0.6761906 | 0.6578162 | 0.5711959 |\n",
       "| NumDormitorios | 0.6761906 | 1.0000000 | 0.7594598 | 0.7717363 |\n",
       "| MaxOcupantes | 0.6578162 | 0.7594598 | 1.0000000 | 0.7108110 |\n",
       "| MetrosCuadrados | 0.5711959 | 0.7717363 | 0.7108110 | 1.0000000 |\n",
       "\n"
      ],
      "text/plain": [
       "                NumBanyos NumDormitorios MaxOcupantes MetrosCuadrados\n",
       "NumBanyos       1.0000000 0.6761906      0.6578162    0.5711959      \n",
       "NumDormitorios  0.6761906 1.0000000      0.7594598    0.7717363      \n",
       "MaxOcupantes    0.6578162 0.7594598      1.0000000    0.7108110      \n",
       "MetrosCuadrados 0.5711959 0.7717363      0.7108110    1.0000000      "
      ]
     },
     "metadata": {},
     "output_type": "display_data"
    },
    {
     "data": {
      "text/html": [
       "<span style=white-space:pre-wrap>'En mi caso la correlación entre número de dormitorios y metros cuadrados no es nada baja,  0.771736325317771'</span>"
      ],
      "text/latex": [
       "'En mi caso la correlación entre número de dormitorios y metros cuadrados no es nada baja,  0.771736325317771'"
      ],
      "text/markdown": [
       "<span style=white-space:pre-wrap>'En mi caso la correlación entre número de dormitorios y metros cuadrados no es nada baja,  0.771736325317771'</span>"
      ],
      "text/plain": [
       "[1] \"En mi caso la correlación entre número de dormitorios y metros cuadrados no es nada baja,  0.771736325317771\""
      ]
     },
     "metadata": {},
     "output_type": "display_data"
    },
    {
     "data": {
      "text/html": [
       "'Esto probablemente sea debido a la conversión de valores a 0 en NA al principio de la práctica, aún así es mejorable.'"
      ],
      "text/latex": [
       "'Esto probablemente sea debido a la conversión de valores a 0 en NA al principio de la práctica, aún así es mejorable.'"
      ],
      "text/markdown": [
       "'Esto probablemente sea debido a la conversión de valores a 0 en NA al principio de la práctica, aún así es mejorable.'"
      ],
      "text/plain": [
       "[1] \"Esto probablemente sea debido a la conversión de valores a 0 en NA al principio de la práctica, aún así es mejorable.\""
      ]
     },
     "metadata": {},
     "output_type": "display_data"
    }
   ],
   "source": [
    "var_barrio_sol<-barrio_sol[,c('NumBanyos','NumDormitorios','MaxOcupantes','MetrosCuadrados')]\n",
    "cor(var_barrio_sol,use='pairwise.complete.obs')\n",
    "\n",
    "#«pairwise.complete.obs«: calcula el coeficiente de correlación para aquellas observaciones en las que no faltan ningún valor de “x” ni “y”.\n",
    "\n",
    "paste('En mi caso la correlación entre número de dormitorios y metros cuadrados no es nada baja, ', cor(var_barrio_sol$NumDormitorios,var_barrio_sol$MetrosCuadrados,use='pairwise.complete.obs'))\n",
    "paste('Esto probablemente sea debido a la conversión de valores a 0 en NA al principio de la práctica, aún así es mejorable.')"
   ]
  },
  {
   "cell_type": "markdown",
   "metadata": {},
   "source": [
    "Se observa que la correlación entre el número de dormitorios y los metros cuadrados es sorprendentemente baja.\n",
    "¿Son de fiar esos números?\n",
    "\n",
    "Mediante un histograma o curvas de densidad podemos descartar números que notienen sentido en el dataframe barrio_sol,\n",
    "para tener una matriz de correlación que tenga mayor sentido.\n"
   ]
  },
  {
   "cell_type": "code",
   "execution_count": 30,
   "metadata": {
    "scrolled": true
   },
   "outputs": [
    {
     "name": "stderr",
     "output_type": "stream",
     "text": [
      "Warning message:\n",
      "“Removed 661 rows containing non-finite values (stat_density).”\n",
      "`stat_bin()` using `bins = 30`. Pick better value with `binwidth`.\n",
      "\n",
      "Warning message:\n",
      "“Removed 661 rows containing non-finite values (stat_bin).”\n"
     ]
    },
    {
     "data": {
      "text/html": [
       "'Observo que aunque no tengo valores a 0 sí tengo valores muy bajos, demasiado para un apartamento entero, por lo que, como proponía antes, ordeno y hago un head y decido quitar valores por debajo de 18 m2 '"
      ],
      "text/latex": [
       "'Observo que aunque no tengo valores a 0 sí tengo valores muy bajos, demasiado para un apartamento entero, por lo que, como proponía antes, ordeno y hago un head y decido quitar valores por debajo de 18 m2 '"
      ],
      "text/markdown": [
       "'Observo que aunque no tengo valores a 0 sí tengo valores muy bajos, demasiado para un apartamento entero, por lo que, como proponía antes, ordeno y hago un head y decido quitar valores por debajo de 18 m2 '"
      ],
      "text/plain": [
       "[1] \"Observo que aunque no tengo valores a 0 sí tengo valores muy bajos, demasiado para un apartamento entero, por lo que, como proponía antes, ordeno y hago un head y decido quitar valores por debajo de 18 m2 \""
      ]
     },
     "metadata": {},
     "output_type": "display_data"
    },
    {
     "data": {
      "text/html": [
       "<style>\n",
       ".list-inline {list-style: none; margin:0; padding: 0}\n",
       ".list-inline>li {display: inline-block}\n",
       ".list-inline>li:not(:last-child)::after {content: \"\\00b7\"; padding: 0 .5ex}\n",
       "</style>\n",
       "<ol class=list-inline><li>4.18</li><li>4.18</li><li>4.65</li><li>6.6</li><li>9.29</li><li>19.05</li><li>19.97</li><li>24.99</li><li>30.01</li><li>36.98</li></ol>\n"
      ],
      "text/latex": [
       "\\begin{enumerate*}\n",
       "\\item 4.18\n",
       "\\item 4.18\n",
       "\\item 4.65\n",
       "\\item 6.6\n",
       "\\item 9.29\n",
       "\\item 19.05\n",
       "\\item 19.97\n",
       "\\item 24.99\n",
       "\\item 30.01\n",
       "\\item 36.98\n",
       "\\end{enumerate*}\n"
      ],
      "text/markdown": [
       "1. 4.18\n",
       "2. 4.18\n",
       "3. 4.65\n",
       "4. 6.6\n",
       "5. 9.29\n",
       "6. 19.05\n",
       "7. 19.97\n",
       "8. 24.99\n",
       "9. 30.01\n",
       "10. 36.98\n",
       "\n",
       "\n"
      ],
      "text/plain": [
       " [1]  4.18  4.18  4.65  6.60  9.29 19.05 19.97 24.99 30.01 36.98"
      ]
     },
     "metadata": {},
     "output_type": "display_data"
    },
    {
     "data": {
      "image/png": "[encoded data removed]",
      "text/plain": [
       "plot without title"
      ]
     },
     "metadata": {
      "image/png": {
       "height": 400,
       "width": 800
      },
      "text/plain": {
       "height": 400,
       "width": 800
      }
     },
     "output_type": "display_data"
    }
   ],
   "source": [
    "#Recupero la curva de densidad que hice sobre el barrio sin comparar con precio y poniendo algo de bw\n",
    "#también miro el histograma a ver cuál me da más información. \n",
    "options(repr.plot.height=4,repr.plot.width=8 , repr.plot.res = 200)\n",
    "\n",
    "sol1<-ggplot(barrio_Sol, aes(x=MetrosCuadrados))+ geom_density(bw=5)+xlab(\"Metros cuadrados-Sol\")\n",
    "sol2<-ggplot(barrio_sol,aes(x=MetrosCuadrados))+geom_histogram()+xlab(\"Metros cuadrados-Sol\")\n",
    "grid.arrange(sol1, sol2, nrow = 1,top = textGrob(\"Metros Cuadrados Sol\",gp=gpar(fontsize=10,font=3)))\n",
    "\n",
    "paste('Observo que aunque no tengo valores a 0 sí tengo valores muy bajos, demasiado para un apartamento entero, por lo que, como proponía antes, ordeno y hago un head y decido quitar valores por debajo de 18 m2 ')\n",
    "head(sort(barrio_sol$MetrosCuadrados),10)\n"
   ]
  },
  {
   "cell_type": "code",
   "execution_count": 31,
   "metadata": {},
   "outputs": [
    {
     "data": {
      "text/html": [
       "<table>\n",
       "<caption>A matrix: 4 × 4 of type dbl</caption>\n",
       "<thead>\n",
       "\t<tr><th></th><th scope=col>NumBanyos</th><th scope=col>NumDormitorios</th><th scope=col>MaxOcupantes</th><th scope=col>MetrosCuadrados</th></tr>\n",
       "</thead>\n",
       "<tbody>\n",
       "\t<tr><th scope=row>NumBanyos</th><td>1.0000000</td><td>0.7292599</td><td>0.8589205</td><td>0.6112905</td></tr>\n",
       "\t<tr><th scope=row>NumDormitorios</th><td>0.7292599</td><td>1.0000000</td><td>0.7855310</td><td>0.8214959</td></tr>\n",
       "\t<tr><th scope=row>MaxOcupantes</th><td>0.8589205</td><td>0.7855310</td><td>1.0000000</td><td>0.7120924</td></tr>\n",
       "\t<tr><th scope=row>MetrosCuadrados</th><td>0.6112905</td><td>0.8214959</td><td>0.7120924</td><td>1.0000000</td></tr>\n",
       "</tbody>\n",
       "</table>\n"
      ],
      "text/latex": [
       "A matrix: 4 × 4 of type dbl\n",
       "\\begin{tabular}{r|llll}\n",
       "  & NumBanyos & NumDormitorios & MaxOcupantes & MetrosCuadrados\\\\\n",
       "\\hline\n",
       "\tNumBanyos & 1.0000000 & 0.7292599 & 0.8589205 & 0.6112905\\\\\n",
       "\tNumDormitorios & 0.7292599 & 1.0000000 & 0.7855310 & 0.8214959\\\\\n",
       "\tMaxOcupantes & 0.8589205 & 0.7855310 & 1.0000000 & 0.7120924\\\\\n",
       "\tMetrosCuadrados & 0.6112905 & 0.8214959 & 0.7120924 & 1.0000000\\\\\n",
       "\\end{tabular}\n"
      ],
      "text/markdown": [
       "\n",
       "A matrix: 4 × 4 of type dbl\n",
       "\n",
       "| <!--/--> | NumBanyos | NumDormitorios | MaxOcupantes | MetrosCuadrados |\n",
       "|---|---|---|---|---|\n",
       "| NumBanyos | 1.0000000 | 0.7292599 | 0.8589205 | 0.6112905 |\n",
       "| NumDormitorios | 0.7292599 | 1.0000000 | 0.7855310 | 0.8214959 |\n",
       "| MaxOcupantes | 0.8589205 | 0.7855310 | 1.0000000 | 0.7120924 |\n",
       "| MetrosCuadrados | 0.6112905 | 0.8214959 | 0.7120924 | 1.0000000 |\n",
       "\n"
      ],
      "text/plain": [
       "                NumBanyos NumDormitorios MaxOcupantes MetrosCuadrados\n",
       "NumBanyos       1.0000000 0.7292599      0.8589205    0.6112905      \n",
       "NumDormitorios  0.7292599 1.0000000      0.7855310    0.8214959      \n",
       "MaxOcupantes    0.8589205 0.7855310      1.0000000    0.7120924      \n",
       "MetrosCuadrados 0.6112905 0.8214959      0.7120924    1.0000000      "
      ]
     },
     "metadata": {},
     "output_type": "display_data"
    },
    {
     "data": {
      "text/html": [
       "'La correlación entre número de dormitorios y metros cuadrados sube'"
      ],
      "text/latex": [
       "'La correlación entre número de dormitorios y metros cuadrados sube'"
      ],
      "text/markdown": [
       "'La correlación entre número de dormitorios y metros cuadrados sube'"
      ],
      "text/plain": [
       "[1] \"La correlación entre número de dormitorios y metros cuadrados sube\""
      ]
     },
     "metadata": {},
     "output_type": "display_data"
    }
   ],
   "source": [
    "barrio_sol_metros<-subset(barrio_sol, MetrosCuadrados>18)\n",
    "\n",
    "#Una vez ajustados los metros, vuelvo a hacer las correlaciones y mejoran\n",
    "cor(barrio_sol_metros[,c('NumBanyos','NumDormitorios','MaxOcupantes','MetrosCuadrados')],use='pairwise.complete.obs')\n",
    "paste('La correlación entre número de dormitorios y metros cuadrados sube')\n"
   ]
  },
  {
   "cell_type": "markdown",
   "metadata": {},
   "source": [
    "Una vez que hayamos filtrado los datos correspondientes calcular el valor o la combinación de valores que mejor nos permite obtener el precio de un inmueble."
   ]
  },
  {
   "cell_type": "code",
   "execution_count": 32,
   "metadata": {
    "scrolled": false
   },
   "outputs": [
    {
     "data": {
      "text/html": [
       "'Vuelvo a ver el modelo lineal para la combinación de todas las variables:'"
      ],
      "text/latex": [
       "'Vuelvo a ver el modelo lineal para la combinación de todas las variables:'"
      ],
      "text/markdown": [
       "'Vuelvo a ver el modelo lineal para la combinación de todas las variables:'"
      ],
      "text/plain": [
       "[1] \"Vuelvo a ver el modelo lineal para la combinación de todas las variables:\""
      ]
     },
     "metadata": {},
     "output_type": "display_data"
    },
    {
     "data": {
      "text/plain": [
       "\n",
       "Call:\n",
       "lm(formula = Precio ~ NumBanyos + NumDormitorios + MaxOcupantes + \n",
       "    MetrosCuadrados, data = barrio_sol_metros)\n",
       "\n",
       "Residuals:\n",
       "    Min      1Q  Median      3Q     Max \n",
       "-76.853 -13.673  -5.048  18.523  69.472 \n",
       "\n",
       "Coefficients:\n",
       "                Estimate Std. Error t value Pr(>|t|)   \n",
       "(Intercept)      28.0360    12.9586   2.164  0.03859 * \n",
       "NumBanyos         0.5648    14.6039   0.039  0.96941   \n",
       "NumDormitorios   28.2124     8.5440   3.302  0.00249 **\n",
       "MaxOcupantes      2.6739     4.4329   0.603  0.55091   \n",
       "MetrosCuadrados   0.2237     0.2050   1.091  0.28397   \n",
       "---\n",
       "Signif. codes:  0 ‘***’ 0.001 ‘**’ 0.01 ‘*’ 0.05 ‘.’ 0.1 ‘ ’ 1\n",
       "\n",
       "Residual standard error: 31.32 on 30 degrees of freedom\n",
       "Multiple R-squared:  0.7588,\tAdjusted R-squared:  0.7267 \n",
       "F-statistic:  23.6 on 4 and 30 DF,  p-value: 6.728e-09\n"
      ]
     },
     "metadata": {},
     "output_type": "display_data"
    },
    {
     "data": {
      "text/html": [
       "'Con estos datos parece que la variable más significativa en relación con el precio es el NUMERO DE DORMITORIOS. Pruebo de todas formas modelos lineales 1 a 1 para ver la influencia de las distintas variables en el precio de manera individual.'"
      ],
      "text/latex": [
       "'Con estos datos parece que la variable más significativa en relación con el precio es el NUMERO DE DORMITORIOS. Pruebo de todas formas modelos lineales 1 a 1 para ver la influencia de las distintas variables en el precio de manera individual.'"
      ],
      "text/markdown": [
       "'Con estos datos parece que la variable más significativa en relación con el precio es el NUMERO DE DORMITORIOS. Pruebo de todas formas modelos lineales 1 a 1 para ver la influencia de las distintas variables en el precio de manera individual.'"
      ],
      "text/plain": [
       "[1] \"Con estos datos parece que la variable más significativa en relación con el precio es el NUMERO DE DORMITORIOS. Pruebo de todas formas modelos lineales 1 a 1 para ver la influencia de las distintas variables en el precio de manera individual.\""
      ]
     },
     "metadata": {},
     "output_type": "display_data"
    },
    {
     "data": {
      "text/html": [
       "'Modelo lineal para la combinación número de Baños-Precio:'"
      ],
      "text/latex": [
       "'Modelo lineal para la combinación número de Baños-Precio:'"
      ],
      "text/markdown": [
       "'Modelo lineal para la combinación número de Baños-Precio:'"
      ],
      "text/plain": [
       "[1] \"Modelo lineal para la combinación número de Baños-Precio:\""
      ]
     },
     "metadata": {},
     "output_type": "display_data"
    },
    {
     "data": {
      "text/plain": [
       "\n",
       "Call:\n",
       "lm(formula = Precio ~ NumBanyos, data = barrio_sol_metros)\n",
       "\n",
       "Residuals:\n",
       "    Min      1Q  Median      3Q     Max \n",
       "-94.671 -22.475  -9.975  12.525 160.677 \n",
       "\n",
       "Coefficients:\n",
       "            Estimate Std. Error t value Pr(>|t|)    \n",
       "(Intercept)    30.63      16.64   1.840   0.0747 .  \n",
       "NumBanyos      54.35      10.56   5.148 1.19e-05 ***\n",
       "---\n",
       "Signif. codes:  0 ‘***’ 0.001 ‘**’ 0.01 ‘*’ 0.05 ‘.’ 0.1 ‘ ’ 1\n",
       "\n",
       "Residual standard error: 45.28 on 33 degrees of freedom\n",
       "Multiple R-squared:  0.4454,\tAdjusted R-squared:  0.4286 \n",
       "F-statistic: 26.51 on 1 and 33 DF,  p-value: 1.191e-05\n"
      ]
     },
     "metadata": {},
     "output_type": "display_data"
    },
    {
     "data": {
      "text/html": [
       "'Modelo lineal para la combinación número de dormitorios-Precio:'"
      ],
      "text/latex": [
       "'Modelo lineal para la combinación número de dormitorios-Precio:'"
      ],
      "text/markdown": [
       "'Modelo lineal para la combinación número de dormitorios-Precio:'"
      ],
      "text/plain": [
       "[1] \"Modelo lineal para la combinación número de dormitorios-Precio:\""
      ]
     },
     "metadata": {},
     "output_type": "display_data"
    },
    {
     "data": {
      "text/plain": [
       "\n",
       "Call:\n",
       "lm(formula = Precio ~ NumDormitorios, data = barrio_sol_metros)\n",
       "\n",
       "Residuals:\n",
       "    Min      1Q  Median      3Q     Max \n",
       "-89.704 -17.010  -5.768  19.490  61.296 \n",
       "\n",
       "Coefficients:\n",
       "               Estimate Std. Error t value Pr(>|t|)    \n",
       "(Intercept)      41.283      8.554   4.826 3.08e-05 ***\n",
       "NumDormitorios   39.484      4.078   9.682 3.61e-11 ***\n",
       "---\n",
       "Signif. codes:  0 ‘***’ 0.001 ‘**’ 0.01 ‘*’ 0.05 ‘.’ 0.1 ‘ ’ 1\n",
       "\n",
       "Residual standard error: 31.03 on 33 degrees of freedom\n",
       "Multiple R-squared:  0.7396,\tAdjusted R-squared:  0.7317 \n",
       "F-statistic: 93.75 on 1 and 33 DF,  p-value: 3.611e-11\n"
      ]
     },
     "metadata": {},
     "output_type": "display_data"
    },
    {
     "data": {
      "text/html": [
       "'Modelo lineal para la combinación número de ocupantes-Precio:'"
      ],
      "text/latex": [
       "'Modelo lineal para la combinación número de ocupantes-Precio:'"
      ],
      "text/markdown": [
       "'Modelo lineal para la combinación número de ocupantes-Precio:'"
      ],
      "text/plain": [
       "[1] \"Modelo lineal para la combinación número de ocupantes-Precio:\""
      ]
     },
     "metadata": {},
     "output_type": "display_data"
    },
    {
     "data": {
      "text/plain": [
       "\n",
       "Call:\n",
       "lm(formula = Precio ~ MaxOcupantes, data = barrio_sol_metros)\n",
       "\n",
       "Residuals:\n",
       "    Min      1Q  Median      3Q     Max \n",
       "-86.757 -17.944  -3.944  13.138 115.243 \n",
       "\n",
       "Coefficients:\n",
       "             Estimate Std. Error t value Pr(>|t|)    \n",
       "(Intercept)    23.130     15.086   1.533    0.135    \n",
       "MaxOcupantes   16.163      2.588   6.245 4.71e-07 ***\n",
       "---\n",
       "Signif. codes:  0 ‘***’ 0.001 ‘**’ 0.01 ‘*’ 0.05 ‘.’ 0.1 ‘ ’ 1\n",
       "\n",
       "Residual standard error: 41.17 on 33 degrees of freedom\n",
       "Multiple R-squared:  0.5416,\tAdjusted R-squared:  0.5277 \n",
       "F-statistic: 38.99 on 1 and 33 DF,  p-value: 4.706e-07\n"
      ]
     },
     "metadata": {},
     "output_type": "display_data"
    },
    {
     "data": {
      "text/html": [
       "'Modelo lineal para la combinación metros cuadrados-Precio:'"
      ],
      "text/latex": [
       "'Modelo lineal para la combinación metros cuadrados-Precio:'"
      ],
      "text/markdown": [
       "'Modelo lineal para la combinación metros cuadrados-Precio:'"
      ],
      "text/plain": [
       "[1] \"Modelo lineal para la combinación metros cuadrados-Precio:\""
      ]
     },
     "metadata": {},
     "output_type": "display_data"
    },
    {
     "data": {
      "text/plain": [
       "\n",
       "Call:\n",
       "lm(formula = Precio ~ MetrosCuadrados, data = barrio_sol_metros)\n",
       "\n",
       "Residuals:\n",
       "    Min      1Q  Median      3Q     Max \n",
       "-65.155 -18.407  -0.141   9.145 122.102 \n",
       "\n",
       "Coefficients:\n",
       "                Estimate Std. Error t value Pr(>|t|)    \n",
       "(Intercept)      30.9152    12.6756   2.439   0.0203 *  \n",
       "MetrosCuadrados   0.9796     0.1404   6.978  5.6e-08 ***\n",
       "---\n",
       "Signif. codes:  0 ‘***’ 0.001 ‘**’ 0.01 ‘*’ 0.05 ‘.’ 0.1 ‘ ’ 1\n",
       "\n",
       "Residual standard error: 38.65 on 33 degrees of freedom\n",
       "Multiple R-squared:  0.596,\tAdjusted R-squared:  0.5838 \n",
       "F-statistic: 48.69 on 1 and 33 DF,  p-value: 5.601e-08\n"
      ]
     },
     "metadata": {},
     "output_type": "display_data"
    },
    {
     "data": {
      "text/html": [
       "'A partir de estos modelos individuales, por el p-valor y el R2 sigue pareciendo que la variable que más influye en el precio es el número de dormitorios seguido de los metros cuadrados.'"
      ],
      "text/latex": [
       "'A partir de estos modelos individuales, por el p-valor y el R2 sigue pareciendo que la variable que más influye en el precio es el número de dormitorios seguido de los metros cuadrados.'"
      ],
      "text/markdown": [
       "'A partir de estos modelos individuales, por el p-valor y el R2 sigue pareciendo que la variable que más influye en el precio es el número de dormitorios seguido de los metros cuadrados.'"
      ],
      "text/plain": [
       "[1] \"A partir de estos modelos individuales, por el p-valor y el R2 sigue pareciendo que la variable que más influye en el precio es el número de dormitorios seguido de los metros cuadrados.\""
      ]
     },
     "metadata": {},
     "output_type": "display_data"
    }
   ],
   "source": [
    "#repito el modelo lineal que he hecho al principio de trabajar con este barrio.\n",
    "paste('Vuelvo a ver el modelo lineal para la combinación de todas las variables:')\n",
    "sol_lm<-lm(data= barrio_sol_metros, formula= Precio ~ NumBanyos + NumDormitorios + MaxOcupantes + MetrosCuadrados)\n",
    "summary(sol_lm)\n",
    "\n",
    "paste('Con estos datos parece que la variable más significativa en relación con el precio es el NUMERO DE DORMITORIOS. Pruebo de todas formas modelos lineales 1 a 1 para ver la influencia de las distintas variables en el precio de manera individual.')\n",
    "\n",
    "#pruebo de todas formas modelos lineales 1 a 1 para ver la influencia de las distintas variables en el precio de manera individual.\n",
    "paste('Modelo lineal para la combinación número de Baños-Precio:')\n",
    "sol_lm_banyos<-lm(data= barrio_sol_metros, formula= Precio ~ NumBanyos)\n",
    "summary(sol_lm_banyos)\n",
    "\n",
    "paste('Modelo lineal para la combinación número de dormitorios-Precio:')\n",
    "sol_lm_dormitorios<-lm(data= barrio_sol_metros, formula= Precio ~ NumDormitorios)\n",
    "summary(sol_lm_dormitorios)\n",
    "\n",
    "paste('Modelo lineal para la combinación número de ocupantes-Precio:')\n",
    "sol_lm_ocupantes<-lm(data= barrio_sol_metros, formula= Precio ~ MaxOcupantes)\n",
    "summary(sol_lm_ocupantes)\n",
    "\n",
    "paste('Modelo lineal para la combinación metros cuadrados-Precio:')\n",
    "sol_lm_metros<-lm(data= barrio_sol_metros, formula= Precio ~ MetrosCuadrados)\n",
    "summary(sol_lm_metros)\n",
    "\n",
    "paste('A partir de estos modelos individuales, por el p-valor y el R2 sigue pareciendo que la variable que más influye en el precio es el número de dormitorios seguido de los metros cuadrados.')\n",
    "\n",
    "#Podríamos ver la combinación de las dos variables."
   ]
  },
  {
   "cell_type": "markdown",
   "metadata": {},
   "source": [
    "¿Que variable es más fiable para conocer el precio de un inmueble, el número de habitaciones o los metros cuadrados?"
   ]
  },
  {
   "cell_type": "code",
   "execution_count": 33,
   "metadata": {},
   "outputs": [
    {
     "data": {
      "text/html": [
       "<span style=white-space:pre-wrap>'Por lo visto al final del punto anterior en los modelos individuales de cada variable con respecto al precio, por el R2, la variable más fiable a la hora de conocer el precio de un inmueble es el número de habitaciones. cuanto mayor es el R2 y más se acerque a 1, mejor es el ajuste del modelo y mayor es la fiabilidad de las prediciones de la variable.  '</span>"
      ],
      "text/latex": [
       "'Por lo visto al final del punto anterior en los modelos individuales de cada variable con respecto al precio, por el R2, la variable más fiable a la hora de conocer el precio de un inmueble es el número de habitaciones. cuanto mayor es el R2 y más se acerque a 1, mejor es el ajuste del modelo y mayor es la fiabilidad de las prediciones de la variable.  '"
      ],
      "text/markdown": [
       "<span style=white-space:pre-wrap>'Por lo visto al final del punto anterior en los modelos individuales de cada variable con respecto al precio, por el R2, la variable más fiable a la hora de conocer el precio de un inmueble es el número de habitaciones. cuanto mayor es el R2 y más se acerque a 1, mejor es el ajuste del modelo y mayor es la fiabilidad de las prediciones de la variable.  '</span>"
      ],
      "text/plain": [
       "[1] \"Por lo visto al final del punto anterior en los modelos individuales de cada variable con respecto al precio, por el R2, la variable más fiable a la hora de conocer el precio de un inmueble es el número de habitaciones. cuanto mayor es el R2 y más se acerque a 1, mejor es el ajuste del modelo y mayor es la fiabilidad de las prediciones de la variable.  \""
      ]
     },
     "metadata": {},
     "output_type": "display_data"
    }
   ],
   "source": [
    "\n",
    "paste('Por lo visto al final del punto anterior en los modelos individuales de cada variable con respecto al precio, por el R2, la variable más fiable a la hora de conocer el precio de un inmueble es el número de habitaciones. cuanto mayor es el R2 y más se acerque a 1, mejor es el ajuste del modelo y mayor es la fiabilidad de las prediciones de la variable.  ')"
   ]
  },
  {
   "cell_type": "markdown",
   "metadata": {},
   "source": [
    "Responde con su correspondiente margen de error del 95%, ¿cuantos euros incrementa el precio del alquiler por cada metro cuadrado extra del piso?"
   ]
  },
  {
   "cell_type": "code",
   "execution_count": 34,
   "metadata": {},
   "outputs": [
    {
     "data": {
      "text/plain": [
       "\n",
       "Call:\n",
       "lm(formula = Precio ~ MetrosCuadrados, data = barrio_sol_metros)\n",
       "\n",
       "Residuals:\n",
       "    Min      1Q  Median      3Q     Max \n",
       "-65.155 -18.407  -0.141   9.145 122.102 \n",
       "\n",
       "Coefficients:\n",
       "                Estimate Std. Error t value Pr(>|t|)    \n",
       "(Intercept)      30.9152    12.6756   2.439   0.0203 *  \n",
       "MetrosCuadrados   0.9796     0.1404   6.978  5.6e-08 ***\n",
       "---\n",
       "Signif. codes:  0 ‘***’ 0.001 ‘**’ 0.01 ‘*’ 0.05 ‘.’ 0.1 ‘ ’ 1\n",
       "\n",
       "Residual standard error: 38.65 on 33 degrees of freedom\n",
       "Multiple R-squared:  0.596,\tAdjusted R-squared:  0.5838 \n",
       "F-statistic: 48.69 on 1 and 33 DF,  p-value: 5.601e-08\n"
      ]
     },
     "metadata": {},
     "output_type": "display_data"
    },
    {
     "data": {
      "text/html": [
       "<table>\n",
       "<caption>A matrix: 2 × 2 of type dbl</caption>\n",
       "<thead>\n",
       "\t<tr><th></th><th scope=col>2.5 %</th><th scope=col>97.5 %</th></tr>\n",
       "</thead>\n",
       "<tbody>\n",
       "\t<tr><th scope=row>(Intercept)</th><td>5.1264168</td><td>56.703896</td></tr>\n",
       "\t<tr><th scope=row>MetrosCuadrados</th><td>0.6940008</td><td> 1.265248</td></tr>\n",
       "</tbody>\n",
       "</table>\n"
      ],
      "text/latex": [
       "A matrix: 2 × 2 of type dbl\n",
       "\\begin{tabular}{r|ll}\n",
       "  & 2.5 \\% & 97.5 \\%\\\\\n",
       "\\hline\n",
       "\t(Intercept) & 5.1264168 & 56.703896\\\\\n",
       "\tMetrosCuadrados & 0.6940008 &  1.265248\\\\\n",
       "\\end{tabular}\n"
      ],
      "text/markdown": [
       "\n",
       "A matrix: 2 × 2 of type dbl\n",
       "\n",
       "| <!--/--> | 2.5 % | 97.5 % |\n",
       "|---|---|---|\n",
       "| (Intercept) | 5.1264168 | 56.703896 |\n",
       "| MetrosCuadrados | 0.6940008 |  1.265248 |\n",
       "\n"
      ],
      "text/plain": [
       "                2.5 %     97.5 %   \n",
       "(Intercept)     5.1264168 56.703896\n",
       "MetrosCuadrados 0.6940008  1.265248"
      ]
     },
     "metadata": {},
     "output_type": "display_data"
    },
    {
     "data": {
      "text/html": [
       "'El precio del alquiler por cada metro cuadrado extra del piso aumenta entre 0,694 y 1,265€ con un margen de confianza del 95%'"
      ],
      "text/latex": [
       "'El precio del alquiler por cada metro cuadrado extra del piso aumenta entre 0,694 y 1,265€ con un margen de confianza del 95\\%'"
      ],
      "text/markdown": [
       "'El precio del alquiler por cada metro cuadrado extra del piso aumenta entre 0,694 y 1,265€ con un margen de confianza del 95%'"
      ],
      "text/plain": [
       "[1] \"El precio del alquiler por cada metro cuadrado extra del piso aumenta entre 0,694 y 1,265€ con un margen de confianza del 95%\""
      ]
     },
     "metadata": {},
     "output_type": "display_data"
    }
   ],
   "source": [
    "sol_lm_metros<-lm(data= barrio_sol_metros, formula= Precio ~ MetrosCuadrados)\n",
    "summary(sol_lm_metros)\n",
    "confint(sol_lm_metros)\n",
    "paste('El precio del alquiler por cada metro cuadrado extra del piso aumenta entre 0,694 y 1,265€ con un margen de confianza del 95%')\n",
    "#de media aumenta 0.97€"
   ]
  },
  {
   "cell_type": "markdown",
   "metadata": {},
   "source": [
    "Responde con su correspondiente margen de error del 95%, ¿cuantos euros incrementa el precio del alquiler por cada habitación?"
   ]
  },
  {
   "cell_type": "code",
   "execution_count": 35,
   "metadata": {},
   "outputs": [
    {
     "data": {
      "text/plain": [
       "\n",
       "Call:\n",
       "lm(formula = Precio ~ NumDormitorios, data = barrio_sol_metros)\n",
       "\n",
       "Residuals:\n",
       "    Min      1Q  Median      3Q     Max \n",
       "-89.704 -17.010  -5.768  19.490  61.296 \n",
       "\n",
       "Coefficients:\n",
       "               Estimate Std. Error t value Pr(>|t|)    \n",
       "(Intercept)      41.283      8.554   4.826 3.08e-05 ***\n",
       "NumDormitorios   39.484      4.078   9.682 3.61e-11 ***\n",
       "---\n",
       "Signif. codes:  0 ‘***’ 0.001 ‘**’ 0.01 ‘*’ 0.05 ‘.’ 0.1 ‘ ’ 1\n",
       "\n",
       "Residual standard error: 31.03 on 33 degrees of freedom\n",
       "Multiple R-squared:  0.7396,\tAdjusted R-squared:  0.7317 \n",
       "F-statistic: 93.75 on 1 and 33 DF,  p-value: 3.611e-11\n"
      ]
     },
     "metadata": {},
     "output_type": "display_data"
    },
    {
     "data": {
      "text/html": [
       "<table>\n",
       "<caption>A matrix: 2 × 2 of type dbl</caption>\n",
       "<thead>\n",
       "\t<tr><th></th><th scope=col>2.5 %</th><th scope=col>97.5 %</th></tr>\n",
       "</thead>\n",
       "<tbody>\n",
       "\t<tr><th scope=row>(Intercept)</th><td>23.87992</td><td>58.68671</td></tr>\n",
       "\t<tr><th scope=row>NumDormitorios</th><td>31.18746</td><td>47.78095</td></tr>\n",
       "</tbody>\n",
       "</table>\n"
      ],
      "text/latex": [
       "A matrix: 2 × 2 of type dbl\n",
       "\\begin{tabular}{r|ll}\n",
       "  & 2.5 \\% & 97.5 \\%\\\\\n",
       "\\hline\n",
       "\t(Intercept) & 23.87992 & 58.68671\\\\\n",
       "\tNumDormitorios & 31.18746 & 47.78095\\\\\n",
       "\\end{tabular}\n"
      ],
      "text/markdown": [
       "\n",
       "A matrix: 2 × 2 of type dbl\n",
       "\n",
       "| <!--/--> | 2.5 % | 97.5 % |\n",
       "|---|---|---|\n",
       "| (Intercept) | 23.87992 | 58.68671 |\n",
       "| NumDormitorios | 31.18746 | 47.78095 |\n",
       "\n"
      ],
      "text/plain": [
       "               2.5 %    97.5 %  \n",
       "(Intercept)    23.87992 58.68671\n",
       "NumDormitorios 31.18746 47.78095"
      ]
     },
     "metadata": {},
     "output_type": "display_data"
    },
    {
     "data": {
      "text/html": [
       "'El precio del alquiler por cada habitación del piso aumenta entre 31.187 y 47.780€ con un margen de confianza del 95%'"
      ],
      "text/latex": [
       "'El precio del alquiler por cada habitación del piso aumenta entre 31.187 y 47.780€ con un margen de confianza del 95\\%'"
      ],
      "text/markdown": [
       "'El precio del alquiler por cada habitación del piso aumenta entre 31.187 y 47.780€ con un margen de confianza del 95%'"
      ],
      "text/plain": [
       "[1] \"El precio del alquiler por cada habitación del piso aumenta entre 31.187 y 47.780€ con un margen de confianza del 95%\""
      ]
     },
     "metadata": {},
     "output_type": "display_data"
    }
   ],
   "source": [
    "sol_lm_dormitorios<-lm(data= barrio_sol_metros, formula= Precio ~ NumDormitorios)\n",
    "summary(sol_lm_dormitorios)\n",
    "confint(sol_lm_dormitorios)\n",
    "paste('El precio del alquiler por cada habitación del piso aumenta entre 31.187 y 47.780€ con un margen de confianza del 95%')\n",
    "#de media aumenta 39.48€"
   ]
  },
  {
   "cell_type": "markdown",
   "metadata": {},
   "source": [
    "¿Cual es la probabilidad de encontrar, en el barrio de Sol, un apartamento en alquiler con 3 dormitorios?\n",
    "¿Cual es el margen de error de esa probabilidad?"
   ]
  },
  {
   "cell_type": "code",
   "execution_count": 38,
   "metadata": {},
   "outputs": [
    {
     "data": {
      "text/html": [
       "<span style=white-space:pre-wrap>'El total de apartamentos en sol con 3 habitaciones es:  55'</span>"
      ],
      "text/latex": [
       "'El total de apartamentos en sol con 3 habitaciones es:  55'"
      ],
      "text/markdown": [
       "<span style=white-space:pre-wrap>'El total de apartamentos en sol con 3 habitaciones es:  55'</span>"
      ],
      "text/plain": [
       "[1] \"El total de apartamentos en sol con 3 habitaciones es:  55\""
      ]
     },
     "metadata": {},
     "output_type": "display_data"
    },
    {
     "data": {
      "text/html": [
       "<span style=white-space:pre-wrap>'El total de apartamentos en el barrio de Sol es:  701'</span>"
      ],
      "text/latex": [
       "'El total de apartamentos en el barrio de Sol es:  701'"
      ],
      "text/markdown": [
       "<span style=white-space:pre-wrap>'El total de apartamentos en el barrio de Sol es:  701'</span>"
      ],
      "text/plain": [
       "[1] \"El total de apartamentos en el barrio de Sol es:  701\""
      ]
     },
     "metadata": {},
     "output_type": "display_data"
    },
    {
     "data": {
      "text/html": [
       "<span style=white-space:pre-wrap>'La probabilidad de encontrar un apartamento de 3 habitaciones es de:  0.08'</span>"
      ],
      "text/latex": [
       "'La probabilidad de encontrar un apartamento de 3 habitaciones es de:  0.08'"
      ],
      "text/markdown": [
       "<span style=white-space:pre-wrap>'La probabilidad de encontrar un apartamento de 3 habitaciones es de:  0.08'</span>"
      ],
      "text/plain": [
       "[1] \"La probabilidad de encontrar un apartamento de 3 habitaciones es de:  0.08\""
      ]
     },
     "metadata": {},
     "output_type": "display_data"
    },
    {
     "data": {
      "text/html": [
       "<span style=white-space:pre-wrap>'El intervalo de confianza está entre 0.06 y  0.1'</span>"
      ],
      "text/latex": [
       "'El intervalo de confianza está entre 0.06 y  0.1'"
      ],
      "text/markdown": [
       "<span style=white-space:pre-wrap>'El intervalo de confianza está entre 0.06 y  0.1'</span>"
      ],
      "text/plain": [
       "[1] \"El intervalo de confianza está entre 0.06 y  0.1\""
      ]
     },
     "metadata": {},
     "output_type": "display_data"
    }
   ],
   "source": [
    "entradas_3_hab<-sum(barrio_sol$NumDormitorios==3)\n",
    "paste('El total de apartamentos en sol con 3 habitaciones es: ',entradas_3_hab)\n",
    "total_entradas_barrio<-nrow(barrio_sol)\n",
    "paste('El total de apartamentos en el barrio de Sol es: ',total_entradas_barrio)\n",
    "prob_3_hab<-round(entradas_3_hab/total_entradas_barrio,2)\n",
    "paste('La probabilidad de encontrar un apartamento de 3 habitaciones es de: ',prob_3_hab)\n",
    "conf_prob_3_hab<-round(binom.test(entradas_3_hab,total_entradas_barrio)$conf,2)\n",
    "paste('El intervalo de confianza está entre',conf_prob_3_hab[1],'y ',conf_prob_3_hab[2])\n"
   ]
  }
 ],
 "metadata": {
  "kernelspec": {
   "display_name": "R",
   "language": "R",
   "name": "ir"
  },
  "language_info": {
   "codemirror_mode": "r",
   "file_extension": ".r",
   "mimetype": "text/x-r-source",
   "name": "R",
   "pygments_lexer": "r",
   "version": "3.6.0"
  }
 },
 "nbformat": 4,
 "nbformat_minor": 2
}
